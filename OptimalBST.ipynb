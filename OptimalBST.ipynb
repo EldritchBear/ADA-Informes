{
  "nbformat": 4,
  "nbformat_minor": 0,
  "metadata": {
    "colab": {
      "provenance": [],
      "authorship_tag": "ABX9TyMHCvNuF+dtKhPZtYKMPTWD",
      "include_colab_link": true
    },
    "kernelspec": {
      "name": "python3",
      "display_name": "Python 3"
    },
    "language_info": {
      "name": "python"
    }
  },
  "cells": [
    {
      "cell_type": "markdown",
      "metadata": {
        "id": "view-in-github",
        "colab_type": "text"
      },
      "source": [
        "<a href=\"https://colab.research.google.com/github/EldritchBear/ADA-Informes/blob/main/OptimalBST.ipynb\" target=\"_parent\"><img src=\"https://colab.research.google.com/assets/colab-badge.svg\" alt=\"Open In Colab\"/></a>"
      ]
    },
    {
      "cell_type": "markdown",
      "source": [
        "#1. Descripción del problema\n",
        "\n",
        "Cuando se necesita ingresar una gran cantidad de datos a un árbol para posteriormente realizar busquedas en este se debería considerar, en caso que se pueda, dejar los datos que se utilicen con mayor frecuencia más cerca de la raíz, para realizar la busqueda de estos con mayor rapidez.\n",
        "\n",
        "Esto busca organizar según su frecuencia de aparicion los datos de manera que se minimice la cantidad de datos visitados a la hora de buscarlos.\n",
        "\n",
        "Entrada: una secuencia ordenada de n claves.\n",
        "\n",
        "Salida: un árbol de busqueda que minimice el costo esperado a la hora de realizar busquedas.\n"
      ],
      "metadata": {
        "id": "qnOMkZzRKR2U"
      }
    },
    {
      "cell_type": "markdown",
      "source": [
        "#2. Descripción del algoritmo\n",
        "\n",
        "El algoritmo del $Optimal BST$ recibe claves con las que va a confeccionar un árbol que reduzca el costo de búsqueda de los nodos.\n",
        "\n",
        "La creación del árbol se hace realizando particiones sobre el arreglo con los datos, de esta forma se va a ir subdividiendo y donde cada pivote va a ser un nodo del árbol, esto se debe realizar hasta que se llegue al caso base que es cuando el subarreglo tenga tamaño $0$, lo que significa que ese pivote es un nodo hoja.\n",
        "\n",
        "La subestructura óptima de este algoritmo se basa en ir dividiendo en subarreglos e ir calculando el costo mínimo a partir de estos subproblemas que se generen."
      ],
      "metadata": {
        "id": "0kHMB9eaKRv-"
      }
    },
    {
      "cell_type": "markdown",
      "source": [
        "#2.1 Implementación del codigo recursivo"
      ],
      "metadata": {
        "id": "-vc6IwOGOA5Y"
      }
    },
    {
      "cell_type": "code",
      "source": [
        "import random\n",
        "import numpy as np\n",
        "\n",
        "def optimal_bst_instance_generator(n):\n",
        "    keys = sorted(random.sample(range(1, 100), n))\n",
        "    arr = np.random.random(n*2+1)\n",
        "    arr /= arr.sum()\n",
        "    \n",
        "    p = list(arr[:n]) # Probabilidad de las claves\n",
        "    q = arr[n:] # Probabilidad de las claves ficticias\n",
        "    return keys, p, q"
      ],
      "metadata": {
        "id": "WT8AIP96W0tc"
      },
      "execution_count": 22,
      "outputs": []
    },
    {
      "cell_type": "code",
      "execution_count": 14,
      "metadata": {
        "id": "Qx1sNLnPKNcj"
      },
      "outputs": [],
      "source": [
        "llamadasRec = 0\n",
        "def minCost(frec, i, j):\n",
        "  global llamadasRec\n",
        "  llamadasRec += 1                                                  #contador para las llamadas recursivas\n",
        "\n",
        "  if j < i:                                                         #return para los casos base\n",
        "      return 0\n",
        "  if j == i:     \n",
        "    return frec[i]\n",
        "     \n",
        "  aux = 0                                                           #se suman todas las frecuencias\n",
        "  for k in range(i, j + 1):\n",
        "    aux += frec[k]\n",
        "    \n",
        "  min = float(\"inf\")                                                #se inicia una variable con infinito para luego almacenar el costo minimo\n",
        "     \n",
        "  for r in range(i, j + 1):                                         #se calcula el costo minimo de los subproblemas que se generan\n",
        "    costo = (minCost(frec, i, r - 1) + minCost(frec, r + 1, j))\n",
        "    if costo < min:\n",
        "      min = costo                                                   #en caso de encontrar un costo menor al ya guardado se cambia\n",
        "\n",
        "  return min + aux"
      ]
    },
    {
      "cell_type": "code",
      "source": [
        "def optimalSearchTree(claves, frec, n):                             #el programa asume que se le entregan keys ordenadas\n",
        "  #dibujar el arbol con visualize\n",
        "  return minCost(frec, 0, n - 1)"
      ],
      "metadata": {
        "id": "ftf7zJ-aQYGL"
      },
      "execution_count": 15,
      "outputs": []
    },
    {
      "cell_type": "code",
      "source": [
        "import random\n",
        "import networkx as nx\n",
        "from networkx.drawing.nx_pydot import graphviz_layout\n",
        "nullnodes=0\n",
        "def generate_binary_tree(T,A):\n",
        "    global nullnodes\n",
        "    if len(A)==1: \n",
        "      T.add_node(A[0])\n",
        "      return A[0]\n",
        "    else:\n",
        "      pivote = random.randint(0,len(A)-1)\n",
        "      T.add_node(A[pivote])\n",
        "\n",
        "      if pivote > 0:\n",
        "        left_node = generate_binary_tree(T,A[0:pivote])\n",
        "        T.add_edge(A[pivote],left_node)\n",
        "      elif pivote ==0: \n",
        "        T.add_edge(A[pivote],\"nil\"+str(nullnodes)); nullnodes+=1\n",
        "      \n",
        "      if pivote < len(A)-1:\n",
        "        right_node = generate_binary_tree(T,A[pivote+1:])\n",
        "        T.add_edge(A[pivote],right_node)\n",
        "      else: \n",
        "        T.add_edge(A[pivote],\"nil\"+str(nullnodes)); nullnodes+=1\n",
        "\n",
        "      return A[pivote]"
      ],
      "metadata": {
        "id": "Fhu2tjRfVhLP"
      },
      "execution_count": 18,
      "outputs": []
    },
    {
      "cell_type": "code",
      "source": [
        "#claves = [10, 12, 20 ,5 ,34, 23, 52]\n",
        "#frec= [34, 8, 50, 1, 23, 7, 17]\n",
        "#n = len(claves)\n",
        "\n",
        "claves,frec,n = optimal_bst_instance_generator(10)\n",
        "print(claves)\n",
        "print(frec)\n",
        "n = len(claves)\n",
        "\n",
        "print(f\"El costo esperado es de {optimalSearchTree(claves, frec, n)} con {llamadasRec} llamadas\" )\n",
        "llamadasRec = 0\n",
        "\n",
        "T = nx.DiGraph()\n",
        "generate_binary_tree(T,claves)\n",
        "\n",
        "pos = graphviz_layout(T, prog=\"dot\")\n",
        "\n",
        "# para mostrar los nodos en sus posiciones y colores, tamaños, etc.\n",
        "nx.draw(T,pos, with_labels=True, node_size=550, font_color=\"white\", font_size=10, font_weight=\"black\", width  =1.0, edge_color =\"purple\")\n",
        "nullnodes = 0"
      ],
      "metadata": {
        "colab": {
          "base_uri": "https://localhost:8080/",
          "height": 391
        },
        "id": "Xp6Zz1-iQaBz",
        "outputId": "903c0b91-0d45-44f2-badd-2585bb73ef05"
      },
      "execution_count": 32,
      "outputs": [
        {
          "output_type": "stream",
          "name": "stdout",
          "text": [
            "[6, 7, 9, 11, 18, 34, 61, 70, 97, 98]\n",
            "[0.05442403367592378, 0.09531157033511428, 0.00031045866379500583, 0.0338178399819576, 0.07121079885981066, 0.03594708969471942, 0.012148120811587072, 0.04780344622659646, 0.014496878337020527, 0.08928016645274549]\n",
            "El costo esperado es de 1.1056700526488814 con 32805 llamadas\n"
          ]
        },
        {
          "output_type": "display_data",
          "data": {
            "text/plain": [
              "<Figure size 432x288 with 1 Axes>"
            ],
            "image/png": "[encoded data removed]"
          },
          "metadata": {}
        }
      ]
    },
    {
      "cell_type": "markdown",
      "source": [
        "0 idea de como hacer el arbol"
      ],
      "metadata": {
        "id": "o1_y3eSrWea7"
      }
    }
  ]
}