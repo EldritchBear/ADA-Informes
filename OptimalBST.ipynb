{
  "nbformat": 4,
  "nbformat_minor": 0,
  "metadata": {
    "colab": {
      "provenance": [],
      "authorship_tag": "ABX9TyM6r5MzOFEx6xAsXxBNYAto",
      "include_colab_link": true
    },
    "kernelspec": {
      "name": "python3",
      "display_name": "Python 3"
    },
    "language_info": {
      "name": "python"
    }
  },
  "cells": [
    {
      "cell_type": "markdown",
      "metadata": {
        "id": "view-in-github",
        "colab_type": "text"
      },
      "source": [
        "<a href=\"https://colab.research.google.com/github/EldritchBear/ADA-Informes/blob/main/OptimalBST.ipynb\" target=\"_parent\"><img src=\"https://colab.research.google.com/assets/colab-badge.svg\" alt=\"Open In Colab\"/></a>"
      ]
    },
    {
      "cell_type": "markdown",
      "source": [
        "#1. Descripción del problema\n",
        "\n",
        "Cuando se necesita ingresar una gran cantidad de datos a un árbol para posteriormente realizar busquedas en este se debería considerar, en caso que se pueda, dejar los datos que se utilicen con mayor frecuencia más cerca de la raíz, para realizar la busqueda de estos con mayor rapidez.\n",
        "\n",
        "Esto busca organizar según su frecuencia de aparicion los datos de manera que se minimice la cantidad de datos visitados a la hora de buscarlos.\n",
        "\n",
        "Entrada: una secuencia ordenada de n claves.\n",
        "\n",
        "Salida: un árbol de busqueda que minimice el costo esperado a la hora de realizar busquedas.\n"
      ],
      "metadata": {
        "id": "qnOMkZzRKR2U"
      }
    },
    {
      "cell_type": "markdown",
      "source": [
        "#2. Descripción del algoritmo\n",
        "\n",
        "El algoritmo del $Optimal BST$ recibe claves con las que va a confeccionar un árbol que reduzca el costo de búsqueda de los nodos.\n",
        "\n",
        "La creación del árbol se hace realizando particiones sobre el arreglo con los datos, de esta forma se va a ir subdividiendo y donde cada pivote va a ser un nodo del árbol, esto se debe realizar hasta que se llegue al caso base que es cuando el subarreglo tenga tamaño $0$, lo que significa que ese pivote es un nodo hoja.\n",
        "\n",
        "La subestructura óptima de este algoritmo se basa en ir dividiendo en subarreglos e ir calculando el costo mínimo a partir de estos subproblemas que se generen."
      ],
      "metadata": {
        "id": "0kHMB9eaKRv-"
      }
    },
    {
      "cell_type": "code",
      "execution_count": null,
      "metadata": {
        "id": "Qx1sNLnPKNcj"
      },
      "outputs": [],
      "source": []
    }
  ]
}