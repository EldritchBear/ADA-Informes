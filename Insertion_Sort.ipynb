{
  "nbformat": 4,
  "nbformat_minor": 0,
  "metadata": {
    "colab": {
      "name": "Insertion Sort.ipynb",
      "provenance": [],
      "collapsed_sections": [],
      "authorship_tag": "ABX9TyNJ3yhPLxrQ+ZhMAy00qHaD",
      "include_colab_link": true
    },
    "kernelspec": {
      "name": "python3",
      "display_name": "Python 3"
    },
    "language_info": {
      "name": "python"
    }
  },
  "cells": [
    {
      "cell_type": "markdown",
      "metadata": {
        "id": "view-in-github",
        "colab_type": "text"
      },
      "source": [
        "<a href=\"https://colab.research.google.com/github/EldritchBear/ADA-Informes/blob/main/Insertion_Sort.ipynb\" target=\"_parent\"><img src=\"https://colab.research.google.com/assets/colab-badge.svg\" alt=\"Open In Colab\"/></a>"
      ]
    },
    {
      "cell_type": "markdown",
      "source": [
        "# 1. Problema de Ordenamiento\n",
        "\n",
        "Los problemas de ordenamiento a pesar de que son de planteamiento facil presentan un nivel de complejidad notable y muchas personas han sido atraidas a tratar con este reto, resultando en varios algoritmos de ordenamiento siendo diseñados y cada uno siendo más eficiente que otros.\n",
        "\n",
        "Entrada: Recibe un arreglo de tamaño n con números\n",
        "\n",
        "Salida: Retorna el arreglo ordenado, ya sea de menor a mayor o al revéz.\n",
        "\n",
        "# 2. Insertion Sort\n",
        "\n",
        "El insertion sort es un algoritmo de ordenamiento que generalmente es utilizado para ordenar de menor a mayor pero tambien puede ser utilizado al inverso.\n",
        "\n",
        "Este recibe un arreglo o lista de datos asumiendo que el primer dato ya está ordenado. Este dato se compara con el dato siguiente a este preguntando si es mayor o menor, en caso que el dato siguiente sea menor al dato actual se intercambian y se verifica si el dato nuevo cambiado es mayor al dato anterior a este, si es menor se vuelve a intercambiar hasta que esten ordenadas. El codigo va a realizar estas comprobaciones hasta llegar al último dato y se verifique que este es el mayor, para luego retornar estos datos de forma ordenada.\n",
        "\n",
        "# 3. Implementación del codigo\n",
        "\n",
        "\n"
      ],
      "metadata": {
        "id": "zrkVjxURmq9k"
      }
    },
    {
      "cell_type": "code",
      "source": [
        "def insertionSort(arreglo, verbose):\n",
        "  cont = 1\n",
        "  comparaciones = 0\n",
        "  n = len(arreglo)\n",
        "\n",
        "  print(\"Entrada:\",arreglo)\n",
        "  for i in range(0,n):\n",
        "    dato = arreglo[i]\n",
        "    while (i > 0 and arreglo[i-1] > dato):\n",
        "      comparaciones = comparaciones + 1\n",
        "      if (verbose == True):\n",
        "        print(\"\\nRevisión \",cont)\n",
        "      arreglo[i] = arreglo[i-1]\n",
        "      i = i - 1\n",
        "      cont = cont + 1\n",
        "      arreglo[i] = dato\n",
        "      if (verbose == True):\n",
        "        print(arreglo)\n",
        "  #if (verbose == False):\n",
        "    #print(\"Arreglo ordenado \")\n",
        "    #print(arreglo)\n",
        "  return (arreglo,comparaciones)\n",
        "      \n",
        "    "
      ],
      "metadata": {
        "id": "UWAfVwrVHpub"
      },
      "execution_count": 43,
      "outputs": []
    },
    {
      "cell_type": "code",
      "source": [
        "arreglo = [1,6,8,5,7]\n",
        "verbose = True\n",
        "arreglo,comparaciones = insertionSort(arreglo,verbose)\n",
        "print(\"\\nSalida\",arreglo)"
      ],
      "metadata": {
        "colab": {
          "base_uri": "https://localhost:8080/"
        },
        "id": "909qvxeGPuVv",
        "outputId": "f1b8143d-7a93-4b53-e97d-22976a0149f2"
      },
      "execution_count": 44,
      "outputs": [
        {
          "output_type": "stream",
          "name": "stdout",
          "text": [
            "Entrada: [1, 6, 8, 5, 7]\n",
            "\n",
            "Revisión  1\n",
            "[1, 6, 5, 8, 7]\n",
            "\n",
            "Revisión  2\n",
            "[1, 5, 6, 8, 7]\n",
            "\n",
            "Revisión  3\n",
            "[1, 5, 6, 7, 8]\n",
            "\n",
            "Salida [1, 5, 6, 7, 8]\n"
          ]
        }
      ]
    },
    {
      "cell_type": "code",
      "source": [
        "arreglo = [1,6,8,5,7]\n",
        "verbose = False\n",
        "arreglo,comparaciones = insertionSort(arreglo,verbose)\n",
        "print(\"Salida:\",arreglo)"
      ],
      "metadata": {
        "colab": {
          "base_uri": "https://localhost:8080/"
        },
        "id": "3M5xPX6sQQqx",
        "outputId": "855a6d06-21bb-4496-bba8-4c37a098d194"
      },
      "execution_count": 46,
      "outputs": [
        {
          "output_type": "stream",
          "name": "stdout",
          "text": [
            "Entrada: [1, 6, 8, 5, 7]\n",
            "Salida: [1, 5, 6, 7, 8]\n"
          ]
        }
      ]
    },
    {
      "cell_type": "markdown",
      "source": [
        "# 3. Tiempo de ejecución\n",
        "\n",
        "El insertion sort tiene complejidad temporal $O(n^2)$ tanto en el caso promedio como en el peor caso, esto es debido a que se debe recorrer todo el arreglo realizando comparaciones sobre si un número es menor al otro, en caso de que el número siguiente sea menor se deben intercambiar y luego comprobar si es que ahora se encuentra en su posición correcta comprobando si es mayor al número anterior, puede ocurrir que se tenga que mover varias veces un número hasta que quede ordenado antes de continuar.\n",
        "\n",
        "###Ejemplo con el peor caso:\n",
        "\n"
      ],
      "metadata": {
        "id": "0dk3UrfaomO-"
      }
    },
    {
      "cell_type": "code",
      "source": [
        "arreglo = [4,3,5,6,2]\n",
        "verbose = True\n",
        "comparaciones = 0\n",
        "arreglo, comparaciones = insertionSort(arreglo,verbose)\n",
        "print(\"\\nSalida\",arreglo)\n",
        "print(\"Se han hecho \",comparaciones,\" comparaciones\") "
      ],
      "metadata": {
        "colab": {
          "base_uri": "https://localhost:8080/"
        },
        "id": "W3U3Ba2_s1sK",
        "outputId": "90a573bd-2fde-4574-e936-934cc6514325"
      },
      "execution_count": 48,
      "outputs": [
        {
          "output_type": "stream",
          "name": "stdout",
          "text": [
            "Entrada: [4, 3, 5, 6, 2]\n",
            "\n",
            "Revisión  1\n",
            "[3, 4, 5, 6, 2]\n",
            "\n",
            "Revisión  2\n",
            "[3, 4, 5, 2, 6]\n",
            "\n",
            "Revisión  3\n",
            "[3, 4, 2, 5, 6]\n",
            "\n",
            "Revisión  4\n",
            "[3, 2, 4, 5, 6]\n",
            "\n",
            "Revisión  5\n",
            "[2, 3, 4, 5, 6]\n",
            "\n",
            "Salida [2, 3, 4, 5, 6]\n",
            "Se han hecho  5  comparaciones\n"
          ]
        }
      ]
    },
    {
      "cell_type": "markdown",
      "source": [
        "En la revisión 1 debido a que son los primeros 2 números del arreglo solamente se intercambian y no se hace una comprobación extra, siendo la comprobación 1.\n",
        "\n",
        "En la revisión 2 se intercambia el último y el penúltimo número, luego de esto se comprueba si la posición del número recien cambiado es la correcta o no, como no lo es se siguen haciendo intercambios hasta que el número que resultó ser el menor se coloca en la primera casilla. En todo este tramo se hicieron otras 4 comparaciones, lo que nos deja con un total de 5 comparaciones como nos muestra el algoritmo.\n",
        "\n",
        "La formula que se utiliza para calcular la cantidad de comparaciones en un caso \n",
        "promedio debiese ser:                                                       \n",
        "\n",
        " ![image.png](data:image/png;base64,iVBORw0KGgoAAAANSUhEUgAAAegAAAA/CAYAAAArHFsvAAAAAXNSR0IArs4c6QAAAARnQU1BAACxjwv8YQUAAAAJcEhZcwAADsMAAA7DAcdvqGQAABuaSURBVHhe7Z0PTBtXnse/d5HqU1ZxlVVZdRVyPeFecjbpydDeGbY6h6A1EJWSqg6JgkAKG6JwoQoKFahEQfGKKL6C1l2qJUsUp4kKdbRQSw1hFQh7CbG2S6xLMNoEo7YYtcXRRgU1ilERXhXNvRmPwRj/BYLH8PtIE8+8mRjPmzfv9/u99/v93j9wDBAEQRAEISn+UfwkCIIgCEJCkIAmCIIgCAlCApogCIIgJEh4Af3wMor1emRnqPDyThUqrk2JJwDX1UrkZ/nKM/fqUWV1i2cIgiAIglgNIjuJzQ3D+Ho5Op544c1twuDvC5EinoK9CelXFOj9nR7bN4ll8eCdgrOnBSdbU/HBrWNQicUEQRAEQUQb4v7GicGXDqG0gO3fuozucV8xj+tLO1RazTKE8xT6GvQoa2iBqdUKl1hKEARBEMQCEQW058theF7LQ9WBEsgwCtP1YfHMFEb+Mo09r6SKx/HwAvIbrWhvqka+QiwiCIIgCGIREQX0iKMf2WoF5FmFKN0MeM/3YMDLTsy5MHJXA8U/+64jkh0vnOZq1PSsd18CLxznK2HoJZ8JYu2Y6D2LivPDrPWtcx71oOady3DOiMcxsFHqxnv/AioM/ZiYEwtiJIKAHoWjX4PMV7YAm9TYd5S3li3o+5xVJbOs+15TI1Puu5JIZpjQataj+L4WJ/cuHRFxXsgTnAEXthJ0fCOe9PPVZeQvuobf8nB+VDyfACYfjmJyycsgQ8bhSsha3kRFVMfGUZzPDbqngxZMiGf9uMyFi6/ht9wLcIrniY3NhLUSBS3PoeqwmrW+IDz9qAlqO+ln7UHCahp9pxZfI2zv9sMjXrHmeMbh/CaESN1WiJN77CjWN8ERg5COVDee3rqge86AgZc9gbD6q190jW+r6Z0WL5AOslcPo+onLSh4xxqfkOadxELyt0+5IwVt3MiP4vHXn3D7dyg5ReV1bujTY1xem1M8sVwmuc4K9n172N8QS5Kavzm5kUlxP4mYvdPIqdS1XO/3YkFIZrnbZ9iz4p8/23a3hn72Ixff5hTsu665Z8WSNebHWe471x3OXPM2p9pxjOv8m1gejLONy9vxBhfmNhYze4c7I963YoeOa30glgfyo5Mzv63kVLXXuW8TdOux4eRa9yw8R2E78An3rXjWz9jFNxZfw28Jfk+/e+DkvvP3RcmCi+8zY2hn7Lo35+v6BHct1Lv49Cb3Hju/v9XBPU1QPcw+nWB9//tcqYb9ziaHWBqMh+utUXOqmpvcU7EkJDHWzdjHrE/x182J6yG/8+nN0+z8Ia71nkcsWWOeOrnOM4e5PL5edvwnl/f2Ca71fydYrxkE6ydaC5Rxyc6wFrT3y1GMaZRI9TuBvfQmygRnsQ9xsnUc2coAa8szjI6WFpiibH3BltcKmeypRibTrMo6Ezdk6X08jgFzHYr26mG6sxCKlhR4h2EyWKCqqUT+VrEsJExjtslQVKgTjtwXrRgMoUB7fxiHrKQERduW2ArPHEcz055f0+HI2TZ09oxGHjJTHkb9oUfCvQdbxEsYH8XA5kIU8W0fbrR+FmzhMDZ58XRchtKDhdi+9rceB0ocv+XE2F/bUCqWYPgKrj8U90UUFT0Yc1pRv4tp/vuacPuv7P8kItJizovJcRsuvatHjr4FA5NieVIwhS7jWTgP1eGIUiwKA+/r49SyNraNP+pHe6gpmL+zuoAWB95WQ76cqJmV8NiKCmaZZh+sxrn2P2HwiVgeki3Ir6qFqqcOpmCLd55Y62YaY8OjyCkshCBtei3oDiFDvDOsYWj1KH51i1gSJ3NTcI0v0+qeGYbxYC1GtI3o/tyJkVvNyJmzwfTfeShqDhq636TEkfoSuE2NS0chwxBWQLtGbUh/LQMLo9hbkKPjO2g33I+UvqFvP3I1SqurURNly39JvH5VmMbQbX6Y5zmkbn1eLIsTJlxdyx0nut8kDLvkVDai1doT17yLVJjsacOlRzqUFaaJJWF45MQguy6/im388YwFHf3BDdqNsfteFDOlLhFk1DIh4rCh+6M65Ihl4ZEhZ38lUoebcSlsJ+Jj4sFduHN1qBLaPusM2i3oC+6gHrngmNEjmwm0pCAJlI64FC4J4r3/EVptqajar106tB3EiKMHqa+Vo2K/z+hxXPwjnMHDoC4nBnZpkfmieLyWvKiH+Qsnhm5Ycb4sSl/Bk8Ybc150fGgNqQDHXDdz7G/2pCKzvBwHBOVlGOY/Lp03G3PaoNJmLIQAx8vwR8g33mQKUPw42+twSaZFtiIFMqY4ybZpUW+qRQY752KG26Ug5Vf2uh5V25hQbw/xzoUgtICeG8fgTSBdsVgjketKBGcxqDXIiGhxrQVMU2tyYMhhh1G3PM3J0V4IY/8yrd5X6zD2hQODn13GqVyxLKlwo6/TBjDhkx3lWXoe2DGo0UCVpkNpme+V6mu/vvjl84xi0K5F+g5Jm5ALsM7uwDYvum5HclCZhtNuRzZTOhT+th/CwhHqR6tEepLcejIoHfEpXFLDy4TZVbg3vxFD/fG+PkC+WgnVG4eFjh2PmFJyd3GrdA7/CbIsFZIj8IUZc3sLmeDrwZ0llmIcdcP7OuGXyFAq8eZRtVC0dPSOrz8ZslUxKA6rzhRG7rG+YPQKquoClJG0LOwT7s2Nzs+DFApmReccTIXX2o+hGCT0EgHtai9HUa4exodMs67UwxAowGQaHDiayrQ9FX4mFi0Hh1mPIv1hGJl84BvjkbfYMTuI25jdJINc6DSJuHlsx8AwoPqFKqrm6XrQj9TXVdjO9N3st5jlyRcGD41+5UDftgykJ0LDXxZpTOtm3YX1zlJrxc+cC0O3UpHNhxOKbZ8n2MIR6oe9E8vW4NeU9al0SIq5UQxYWe+7LyP6tMBjZiU+KkQmP/Dkn0ZkQqyjM9AJzCcI8l9JnrhU+Q41u/dhDNwLMoDiqJtJpwPuQtanMMt0e0FJ6NE7of50yPxX8XhNeQFZhTrImUKSkRsoE+WQ/dS35/YslcIKJet4ZqwYCLKuQ7FEQCvKLqP7joNZh06M3LHCoHtBPONDdfwmBmpDeCTGQUaFFd3WHgyxv+GzQtlxvTZgOJ141vA+BgPsM3tHNM1zHCNMm89RitftegMVgjLLFLgb/rh4fgTODq+OfymTBRkUKg17UewYCTcfxCfqmdHCr5wHWjjX5m/dVz+8BZQUrEulQ2II7Ya9W6zhROsnhfdwlxovC53fFuQLOScYvT3oe8zvMLysL7Zp2DNb5hxrInhJgWz2MfDAuXiEKua68WLkgQ0qPsyXP9waMHp3bWE4Wqg/fnQvQcJj+74WJsfs6DoWIBO9LqZQ+XZzdvjer0BkCiWrGy8GnQGZv8IQdg5aunjhsjageK8WmVklFNO6TDyTfL2l4vloDXvKyTQ9Vtcqf/NLRVGZODRq6RGHm/jENaMoykiuhK3Py3nxM4qJME4vk6yDcOaqF6zIQAvnhjiHJNSPaAElA+tR6ZAaT9xCmF2KPLpvjNNhhUy7MHQty+LnKPk9Gzpvi33bqANd27KQLpQnCZvkeJ7/vY8mF4+Mxlw3oxi6JkPOK34DImD0zmaddzjm6883uicdPLet6OJ9kjYXoli72MAV2CIXFF/n4+hjxkknoCevVaP4T2qYej5E8ZNhdNRb4RDPEbHjHufnF9KQEmX+2escFpxT0gPamVyn93kB+4ebmIY/dEuJzB1JpOEz5Cm+m3J9HcoPgWnwDqbBL5oCYBaOvkTY88/b+urHbwFJn3WpdEiMya99llFKSrT3gSlCNi+KMwIqepMS+eW+Y/+ohos9M69WmSTzz35SkML/YJsLgSZUzHUzztrgjH5xG9ylQ4Uwt+t3FvPV3/zonhSYsaO1qQfezUocNzeGjo5hhoHQp3zpiuqYllwCem4UXS0e1NTqsX3Ujj5WJCvZ7bMAiGcC780fqOELyDTID3QWE7yCmRCP6T2ZxoCR90GIZ2vCwHK97ZeNL7RsQYP3IdPoFs3bhqwfybI+lY6kxePC0KLRKR8KrT7AWWzKF2qUoYo6XC4wbkFFyHco/FZxNfpQ61ojhJ4FKpICadi9P8BZ7HHo+gtNhH7ntBW414Ijoc7pK9ERa/XMudH1biUuPdHC0GlBzasxPbGIhFnNagpdR7Wo542sZ4oOprstKIrVI3zOCw/rqOXs+sGzWShrT0GN9SaOR/IG9NhgLG/BoHgYiPfRKNwyppmGGIXAT/X44GJJTB0vHxJSbAZyztlg1of6Munh+81aGO+0oTisY5evHYyUOWDQBjW2hxeE2FQ3UpFfsA19W8sxYogeUvLsGYZxZwkuIdq9MfhQuZIroZ8bH/u5exSlfz2NnKCbcp7PQ1ELswu26ZCf2o+UihD1I0n47GglmDU5UOPr53x47TBklaNjBsgw3MSvPb9C8WwTRqoDLwoH3/Edhkmcc4sNDWou1yEnJgUgjucpESatlcg+ZcMRixP1r4qFoWDtL/1cKrqtwf3MNLqrWR31st0C1saYIph9w4pSCRiK/ntDhQVjtZHah1+GHEbXF3XzRlSsdeNozsCZF63oDg7retKDqqw6wTjLZ3XT59agb0n9xQnfD7QpMHhRH6C4xouYkfFWFsztrM+IKAbENq1tjP43hXQlIZi99z6X58/gwm8F73NDP4gn42D2qYd7+v0EN/LnO1znxUbuiFa98J1sC5eVKiKzd7kzavb/3/6EGxOLlsNQk5I78unK03/x38Pfy2p811rhy9BzmOt0iwWheHqTOxk2I9cE135g4TlK594d3DnhN0XIJObn7vvCbz9zZ2n6r6c3ajlFxafcd+LxIvxZ9WL9O1KBzw64o5G7HSLb2Uirznc/e05wx8tC10liiON5SgQ+Ox9fl+fuigVhGGnTcaowGblm/9zIqfxtTM36XolkUfvu02O+3xQ2k5ifCa6TtaPgPjq2uuEz3qm5c/fEw0XMcn9pXJAh4eovLpisC/uux8i3fzjGZez77SIZKdzrmTshMord9bXpUOeCCDvELXu1Dh/UBGgv41dwsiW24OpAZPItzOJNhep1LYorTsN8x4GhG22oed03BxEuK1UkPP0Wn7a/XwuFYFXH+6sIueAgZceY31M0FBFDpxacxfj9TFVyjBwEMunmx65krC6WWr8RvZjn520ZSRRa5hm2YyBM6NSCs1g/+pIpnl2C8H0eX3sud6QcC5FDpxacxRi5GVCsdfawFTOFMTv7+Jl8UXROTHUTMXQqwFmMIYXQMz6n+L7PMtBhqUZGQNiv66ENqT9PWTqqOOkWllmWbZUvPRdExDloVUUbjLkLX+G+UomqqIsMREeepsXxj+y4fU4HecisVJGYQt+1fvapY51kKjw36pD94QZYKWaVSdmRITTysC+Kdxxd5qvwbn0OCBMnPJ+4ZvMvkb3DV5ZwmMLmawvsM0qjcLv5HkS3ZO7cO25Fq8UbIaXiQjiMbK8maULL1qPSIUnSVELM7qA7fF/p+fwjmG2s/YRrY5sWknPk/CIwo2Nimf27+FJFe7mmfEIoVa1Y3N6i1c3cNAbbL2MgkuiaD/XUIludWMdU7/0mVJyywXO/RYhiCVy0g58Gy3xpaZgVHruFKdf8ndGVi8hOYptSUXymETnzWoEXA2fPouuReLhCtutbcO2cFgPBWaki4sYEP9+l0SJDNozWVi8M5ZqomsizZNbfZv8+69tJBtLUwnMd/DL4RRFXcfr3QtTfYjf2sBlFKvZSmUN4SvjjaCWg4QupIfkXQ1WODqHEDkOeWHbUGsJbkmn4D9n9qdULMZSjF5DDrk/f24CBGcDZrGf/vxCXvhLPB+C3cJIleUTSKh1xKFySQa5EJhMg3odLvXT9qzRl/uqKIMC63tGw4wb0hXCC9CXnkMDolJiLm//dewy8UstoL/e9W2wz3vcVLYIP52OtKWdXkPYbtm6m0fcu//5qUCb0NVZU/Qc7PhVq1S5x9C7hiuQUutt8zzE0oSNbJl186lo1MpUxKBfiUHdEls5H/5YbWq0pqh8nuGu1xzjzg9i/8Nsbp7k3Nf/FZRUc5syO5a9gsqI5aH7eIrBOFm3JMF8mzuXwqxQl2ypBq8H317nj7Fntt0yIBesUZxu3e0n7fIMzfymeD4RfbWePkjt5I0GrAgXg9+sIua1wvnAt+NZyiP3WMCtTbQAEnwZ1I/eXEN265OpmFeagY8fDXTvB2nCIVeRCEZOA5jvzoabFS9DlNTmiTnBLndVyEktaHvCdd5glFNc5T6+fEJbGjLzMZgL50cONuTZw20x2RAXw+PXEKztrjqjohV1WUWp1872D67zhWht5Jty7OmYlOMY4aBkyatpg1IqHDJe5HPUSXBg7HhS5jSjOSOwcRkLZdRiGQ5MwXeyJPw96MjM3ig5TP2vT0ZbZTCCTN2Hc+xEl4UlWthai5rQafSZL+Fzv6xTPjTaYnpSgvixMphup1c1WNYoLoqdlXQ2cVz9En7oWVTEu8BR7ohJ+PtqweD66u7521eajE4H8VT3y0xI5e51oZMipa8ORBw0w2ZJlgm/lOM21aN3ZCFOJBAJLiXWLoqQJRkULzliklwjkmfGkH4YGF46wd2xBVixlQ9bN6AWcvJgGo6kkZp+d2AU0zzY9TMbCBU1jxob6GgtcG0xDXFds1qC+/TTcddVJrWzFCu91efIzLTp+o8f2BDu2Eesc3qhpsSDTcgLG+xtAAeYzaZ06Dc/pNtRHy6K10epmZhjGmuvIMbegOI6c6mEyiUVCzJgS4NWrqLCge4UrXBEJxjsNz9yWdb98p9czDfxkS/jwFqkgZDJzoSogCxORpPC5Gn5AyHj7dcVy7nOj1M0y+9dlCGjG3CjOFzJrel5Gp+LIx9dRryERvXzG0XG0Fp3fi4cxk4IDzW2SSANIrCIkoFcVj60JpS1iiFA8vFaNDloKl0gQyxPQPI9YB1LoixcV2KyFsactLvOdIIgwkIAmiA3P8gU0Y/JaJXLqbGIiAUCW24je3z27uT0+KD4ZGfuCXwE18SRr/SUrsTx319VKnPw0xKJzc5NwjXqRuis15NRRdvUV1Gsje4JuhOdN7xaxXgjVllckoJfOR8tQ/HsbjLkbOHSJIFYDsqAJYsOzQgHN4L3T9CW4xGQ0OYutBJqDJgIgAb2q0Bw0kYysmoDu+JdnO7xNEBsKEtAEseGJLw46mBlm9b1bjo6t1eiiuFKCIAiCWDWWL6D5oPR39TB8fQgd5mNQrfP4WYIgCIJYS5YpoL1wmCpRf1cDo7lu0SLVBEEQBEGsnGUJ6InOapRa5Khpjy9tmeR4bMf5d/TI5hfaztCi6Fdn0TE8JZ4kJAWfHGcve07Nw2LBOmdrBorP5SEZVpue/PwCqt7SIn2nCum79SgzWOCg14gIAb8edvrOSnQ9FguIiMQtoCeslShocKPUfBnHdyWxvzafaOWty5BXXsGgw4mh9kpsd1pgOKhDhdUtXkRIBZelMSBz3QZAloZ8vVry3sN8f5DfsQVVl20YcdrRVZmKkatnUaxjnfAGyO1OxMGMDab6nvm8GUR04hLQ/EIDFafsyD4XQzL0mJlCd10Jzq9pwvRp9JkaMKLRIP1FX8y2fFcJTE0lkLHmM3CqGd1PhGJCCoxb8N7ZDWI5JxOefnxwyolsjQopvCaxaQtUh5pgOsT6Bn4hnaaejbWMKREB1q82VaPDn3mSiInYBfQ3VlRVXMX201a06lPFwpUz2dOE+nu7kaNeS2vchaEe9rd7m1HcZp/X6GQaLYqFvX4M2JN7ret1A++MaGyGJ2312hyxSnzlQDdTsPuMJWi9O/8WITtX79vttWGQJDTB8NpbYLBvS4opGykRm4AWhoMbMFFyGa1lq7ew9aTtLErf7UHKfi1UaxqipUTBcSVkm19AkVqxcD8y+fy+5wcaiJECE9azMMib8EEFZWKRHMo8HFfKIHuxEJmKhV5B9pPnxD0PPGQxETN2mOptOGBqQI5YRMRGdAHNJyKpaMBgViPMNauUJezxMDoa9Mg5amG2rBIVBUrxxFohQ0a1FSMOG0yFL4hljG+cGBJ2ZFApAsqJxMAUw1+bAGOtDiliESEhNqtR85kDI3eaUPSiWMaY+FKcjtisxMsB5cRGxAtHayMG9p3FEabMEfERWUD7E5GsJEsYvw7mk2lMPLRjwNqCmhIt0neXwNA56htaVuuxWyLGkbPXAge/k1aJgleEIiJhTKH7bBNQe3pR509InLlRXP/YJ6AVlXmUBW2D4x1uw3u3tPifo5QCejmET/XJz/298ybqbz3bod7839jRWiiBxTX4YfzcBgxs1cHEFIkiWjYzofDhGNlWDXrbfIrhpLUS2adsQIUFY7Vq8SpCakx0VmJPgw3ygiZcMxVSdsGNDB8aWViNp4brqNfw4nkYxp0luAQtjHfaUEyKd1TCWNBeOH5X+cyFM6BD/usSEM7iMP5AWgnMPSScE44QjuGBwUDpY5MJIcqDCWdFWRv6SDhvePjQyE5tI2oE4Uwsh5UvlpHsiCMFBtSi+zclUFBWtATjxYAhC60KK7rKFuY+yIKWOPwIVOFZoMa6qo6kRJIybkGxfhxVn59GznyfShZ0vGxsAT03jUHTIVS5KxcNx7na9TiJZnQHCAhirfC/xFEgQS0dPHYYD56Au5IJ533+cLhxdOhrgWYrLYW6AZlXqCNCgjoaG1hAe+Fo1uO9J9UwN+oChuOm0V2twcBeO0wFEhh+JwQczSoUm9kOCWZpISw3exqe6jYYCwJi1Z/0oCrLhqL/a0I+LaZM8AhLqDZggARzzMSYqIQJs/N6pO8sX376Pu8UnNYG5OdegFMsSiQT1mqUmsfhYp97VCq8vNO/aVDTm4qXXyLhLCVmfxR3fqT4dMkgrGhXjkvj4+iqzgt4h9iWVYe+bQpsJ+FM+JnjJQkP+5ftE9GJUUDL8MK/FeKIoRI5cWs9U+hr0KOsoQWmVitcYmliGUbHKZvYWEKhhYqG5SQBbznzHX7ZFbHgSrlPAGyURTOkzLAlsiOpVkmZowif5cy/s7kNGBQK7KjP5d9rWjQjGms4xD2FrqNa1Luq0X3rGFRiKUEQBEEQS4luQT/qh+GdShTnalDfT/mpCYIgCGItiGJB81bvCUzWNEB+Wo/21y6jq14Dr+0y2h3Rs+D/0yt6HM/1O46QBU0QBEEQsRJZQHvH0d3uRvbroyh+6zqK/mBFzbJXnSIBTRAEQRCxEnmIW5aGogotJm9b4U7TYQ8lOycIgiCINSG6kxifT1WnR+deCy5pHBj5eQmyv7Og/R4NcRMEQRDEsyK6gB5uQfrBP6L040Y8b+qBqq0ROVvFc3FBApogCIIgYiW6gPYO4/zBcpi9ahRVN8IQmC0oRhxmPc7c8ML9cBweyJCiTEOKphod9VpQHgOCIAiCWEp0AU0QBEEQxJoTYyYxgiAIgiDWDuD/AaB996sgw/oUAAAAAElFTkSuQmCC)\n",
        "\n",
        "y en el peor de los casos deberiese ser:                                                                                                          \n",
        "                                                                                              ![image.png](data:image/png;base64,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)\n",
        "\n",
        "Ambas formulas demostrando que la complejidad temporal es $O(n^2)$."
      ],
      "metadata": {
        "id": "jZC6kP1CwLXm"
      }
    }
  ]
}