{
  "nbformat": 4,
  "nbformat_minor": 0,
  "metadata": {
    "colab": {
      "name": "Insertion Sort.ipynb",
      "provenance": [],
      "collapsed_sections": [],
      "authorship_tag": "ABX9TyPVflF4vn8ubn/L/+60qKcx",
      "include_colab_link": true
    },
    "kernelspec": {
      "name": "python3",
      "display_name": "Python 3"
    },
    "language_info": {
      "name": "python"
    }
  },
  "cells": [
    {
      "cell_type": "markdown",
      "metadata": {
        "id": "view-in-github",
        "colab_type": "text"
      },
      "source": [
        "<a href=\"https://colab.research.google.com/github/EldritchBear/ADA-Informes/blob/main/Insertion_Sort.ipynb\" target=\"_parent\"><img src=\"https://colab.research.google.com/assets/colab-badge.svg\" alt=\"Open In Colab\"/></a>"
      ]
    },
    {
      "cell_type": "markdown",
      "source": [
        "# 1. Problema de Ordenamiento\n",
        "\n",
        "Los problemas de ordenamiento a pesar de que son de planteamiento facil presentan un nivel de complejidad notable y muchas personas han sido atraidas a tratar con este reto, resultando en varios algoritmos de ordenamiento siendo diseñados y cada uno siendo más eficiente que otros.\n",
        "\n",
        "Entrada: Recibe un arreglo de tamaño n con números\n",
        "\n",
        "Salida: Retorna el arreglo ordenado, ya sea de menor a mayor o al revéz.\n",
        "\n",
        "# 2. Insertion Sort\n",
        "\n",
        "El insertion sort es un algoritmo de ordenamiento que generalmente es utilizado para ordenar de menor a mayor pero tambien puede ser utilizado al inverso.\n",
        "\n",
        "Este recibe un arreglo o lista de datos asumiendo que el primer dato ya está ordenado. Este dato se compara con el dato siguiente a este preguntando si es mayor o menor, en caso que el dato siguiente sea menor al dato actual se intercambian y se verifica si el dato nuevo cambiado es mayor al dato anterior a este, si es menor se vuelve a intercambiar hasta que esten ordenadas. El codigo va a realizar estas comprobaciones hasta llegar al último dato y se verifique que este es el mayor, para luego retornar estos datos de forma ordenada.\n",
        "\n",
        "# 3. Implementación del codigo\n",
        "\n",
        "\n"
      ],
      "metadata": {
        "id": "zrkVjxURmq9k"
      }
    },
    {
      "cell_type": "code",
      "source": [
        "def insertionSort(arreglo, verbose):\n",
        "  cont = 1\n",
        "  n = len(arreglo)\n",
        "\n",
        "  print(arreglo)\n",
        "  for i in range(0,n):\n",
        "    dato = arreglo[i]\n",
        "    while (i > 0 and arreglo[i-1] > dato):\n",
        "      if (verbose == True):\n",
        "        print(\"Revisión \",cont)\n",
        "      arreglo[i] = arreglo[i-1]\n",
        "      i = i - 1\n",
        "      cont = cont + 1\n",
        "      arreglo[i] = dato\n",
        "      if (verbose == True):\n",
        "        print(arreglo)\n",
        "  if (verbose == False):\n",
        "    print(arreglo)\n",
        "      \n",
        "    "
      ],
      "metadata": {
        "id": "UWAfVwrVHpub"
      },
      "execution_count": 51,
      "outputs": []
    },
    {
      "cell_type": "code",
      "source": [
        "arreglo = [1,6,8,5,7]\n",
        "arreglo = insertionSort(arreglo,verbose = True)"
      ],
      "metadata": {
        "colab": {
          "base_uri": "https://localhost:8080/"
        },
        "id": "909qvxeGPuVv",
        "outputId": "8570376a-c0f5-4e4b-c7c0-2d8c5f2010ca"
      },
      "execution_count": 54,
      "outputs": [
        {
          "output_type": "stream",
          "name": "stdout",
          "text": [
            "[1, 6, 8, 5, 7]\n",
            "Revisión  1\n",
            "[1, 6, 5, 8, 7]\n",
            "Revisión  2\n",
            "[1, 5, 6, 8, 7]\n",
            "Revisión  3\n",
            "[1, 5, 6, 7, 8]\n"
          ]
        }
      ]
    },
    {
      "cell_type": "code",
      "source": [
        "arreglo = [1,6,8,5,7]\n",
        "verbose = False\n",
        "arreglo = insertionSort(arreglo,verbose)"
      ],
      "metadata": {
        "colab": {
          "base_uri": "https://localhost:8080/"
        },
        "id": "3M5xPX6sQQqx",
        "outputId": "9424ea4c-42e9-4ff0-e790-1b0e21ff82c5"
      },
      "execution_count": 55,
      "outputs": [
        {
          "output_type": "stream",
          "name": "stdout",
          "text": [
            "[1, 6, 8, 5, 7]\n",
            "[1, 5, 6, 7, 8]\n"
          ]
        }
      ]
    }
  ]
}