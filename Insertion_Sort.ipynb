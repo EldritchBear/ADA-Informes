{
  "nbformat": 4,
  "nbformat_minor": 0,
  "metadata": {
    "colab": {
      "name": "Insertion Sort.ipynb",
      "provenance": [],
      "authorship_tag": "ABX9TyM5f/9lrXxNv5IGUR24pZRP",
      "include_colab_link": true
    },
    "kernelspec": {
      "name": "python3",
      "display_name": "Python 3"
    },
    "language_info": {
      "name": "python"
    }
  },
  "cells": [
    {
      "cell_type": "markdown",
      "metadata": {
        "id": "view-in-github",
        "colab_type": "text"
      },
      "source": [
        "<a href=\"https://colab.research.google.com/github/EldritchBear/ADA-Informes/blob/main/Insertion_Sort.ipynb\" target=\"_parent\"><img src=\"https://colab.research.google.com/assets/colab-badge.svg\" alt=\"Open In Colab\"/></a>"
      ]
    },
    {
      "cell_type": "markdown",
      "source": [
        "# 1. Problema de Ordenamiento\n",
        "\n",
        "Los problemas de ordenamiento a pesar de que son de planteamiento facil presentan un nivel de complejidad notable y muchas personas han sido atraidas a tratar con este reto, resultando en varios algoritmos de ordenamiento siendo diseñados y cada uno siendo más eficiente que otros.\n",
        "\n",
        "Entrada: Recibe un arreglo de tamaño n con números\n",
        "\n",
        "Salida: Retorna el arreglo ordenado, ya sea de menor a mayor o al revéz.\n",
        "\n",
        "# 2. Insertion Sort\n",
        "\n",
        "El insertion sort es un algoritmo de ordenamiento que generalmente es utilizado para ordenar de menor a mayor pero tambien puede ser utilizado al inverso.\n",
        "\n",
        "Este recibe un arreglo o lista de datos asumiendo que el primer dato ya está ordenado. Este dato se compara con el dato siguiente a este preguntando si es mayor o menor, en caso que el dato siguiente sea menor al dato actual se intercambian y se verifica si el dato nuevo cambiado es mayor al dato anterior a este, si es menor se vuelve a intercambiar hasta que esten ordenadas. El codigo va a realizar estas comprobaciones hasta llegar al último dato y se verifique que este es el mayor, para luego retornar estos datos de forma ordenada.\n",
        "\n",
        "# 3. Implementación del codigo\n",
        "\n",
        "\n"
      ],
      "metadata": {
        "id": "zrkVjxURmq9k"
      }
    },
    {
      "cell_type": "code",
      "source": [
        "def insertionSort(arreglo, verbose = True):\n",
        "  comparaciones = 0\n",
        "  n = len(arreglo)\n",
        "\n",
        "  if (verbose == True):\n",
        "    print(arreglo)\n",
        "\n",
        "  for (i in range(0,n)):\n",
        "    dato = arreglo[i]\n",
        "    if (verbose == True):\n",
        "      print(i+1°\" elemento\\n\")\n",
        "      while()\n",
        "    "
      ],
      "metadata": {
        "id": "UWAfVwrVHpub"
      },
      "execution_count": null,
      "outputs": []
    }
  ]
}