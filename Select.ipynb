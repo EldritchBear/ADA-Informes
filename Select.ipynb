{
  "nbformat": 4,
  "nbformat_minor": 0,
  "metadata": {
    "colab": {
      "provenance": [],
      "collapsed_sections": [],
      "authorship_tag": "ABX9TyM5pqR6WvrYCHiX9jvTKpXA",
      "include_colab_link": true
    },
    "kernelspec": {
      "name": "python3",
      "display_name": "Python 3"
    },
    "language_info": {
      "name": "python"
    }
  },
  "cells": [
    {
      "cell_type": "markdown",
      "metadata": {
        "id": "view-in-github",
        "colab_type": "text"
      },
      "source": [
        "<a href=\"https://colab.research.google.com/github/EldritchBear/ADA-Informes/blob/main/Select.ipynb\" target=\"_parent\"><img src=\"https://colab.research.google.com/assets/colab-badge.svg\" alt=\"Open In Colab\"/></a>"
      ]
    },
    {
      "cell_type": "markdown",
      "source": [
        "# 1. Descripción del problema\n",
        "\n",
        "La estadística de orden es una herramienta fundamental de la estadística no paramétrica y de inferencia que busca encontrar el elemento más pequeño en una muestra de datos, siendo este llamado estadístico de orden.\n",
        "\n",
        "La reducción de problemas se basa en reutilizar soluciones de un problema similar al que se quiere resolver, transformando un problema nuevo en uno que yá se encuentra resuelto, lo que nos puede demostrar que el problema que se buscaba resolver no era más complicado que el resuelto con anterioridad.\n",
        "\n",
        "Entrada: El algoritmo recibe un conjunto con n números y un índice $i$ que es el elemento a buscar.\n",
        "\n",
        "Salida: El elemento llamado estadístico de orden i-ésimo, el cual es mayor a $i-1$ elementos del conjunto de datos.\n",
        "\n"
      ],
      "metadata": {
        "id": "cfQ7VHPav4ut"
      }
    },
    {
      "cell_type": "markdown",
      "source": [
        "#2. Descripción del algoritmo\n",
        "\n",
        "El algoritmo recibe un arreglo de n elementos junto a un indice $i$ el cual es el estadístico de orden que se quiere buscar.\n",
        "\n",
        "1. El arreglo se divide en subarreglos de 5 elementos cada uno.\n",
        "\n",
        "2. Cada subarreglo se ordena utilizando $Insertion Sort$.\n",
        "\n",
        "3. Se calcula la mediana de cada subarreglo y se guardan en otro subarreglo.\n",
        "\n",
        "4. Se ordena el subarreglo de medianas utilizando el $Insertion Sort$ para luego calcular la mediana de este.\n",
        "\n",
        "5. Utilizando la mediana de las medianas se particiona el arreglo original, dejando elementos menores o iguales al pivote o mediana a la izquierda y los mayores a la derecha.\n",
        "\n",
        "6. Se compara el orden estadístico entre el pivote y el elemento a busca, si el elemento es menor se busca en la partición izquierda, si es igual se retorna el pivote, y si el elemento es mayor se busca en la partición derecha.\n",
        "\n",
        "El algoritmo al ser recursivo se va a estar llamando continuamente hasta que llegue al caso en que el pivote y el i-ésimo elemento que se buscaban tengan el mismo orden, esto se puede ver en el paso 6, que es donde se revisa si se retorna el pivote o se sigue buscando recursivamente. Se puede observar que el algoritmo solo necesita el arreglo original al buscar el mejor pivote, o en otras palabras, la mediana de las medianas, puesto que luego al momento de buscar el i-ésimo valor solo se usan particiones del arreglo original, lo que podría significar un tiempo de ejecución de $O(nlogn)$.\n"
      ],
      "metadata": {
        "id": "NZBXN5Nd_QrA"
      }
    },
    {
      "cell_type": "markdown",
      "source": [
        "##2.1 Código del Select"
      ],
      "metadata": {
        "id": "hYfGvnqCLuZz"
      }
    },
    {
      "cell_type": "code",
      "source": [
        "cont = 0\n",
        "def insertionSort(arreglo):\n",
        "  global cont\n",
        "  n = len(arreglo)\n",
        "  \n",
        "  for i in range(0,n):\n",
        "    dato = arreglo[i]\n",
        "    while (i > 0 and arreglo[i-1] > dato):\n",
        "      cont += 1\n",
        "      arreglo[i] = arreglo[i-1]\n",
        "      i = i - 1\n",
        "      arreglo[i] = dato\n",
        "  return arreglo"
      ],
      "metadata": {
        "id": "-u1JBhzFiLK9"
      },
      "execution_count": 20,
      "outputs": []
    },
    {
      "cell_type": "code",
      "execution_count": 10,
      "metadata": {
        "id": "TS1-c4t4v2mn"
      },
      "outputs": [],
      "source": [
        "def partition(arreglo,low,high):\n",
        "  global cont\n",
        "  if verbose:\n",
        "    print(\"entrando a función partition\")\n",
        "\n",
        "  piv = arreglo[high]                                                  #usamos como pivote el dato de más a la derecha\n",
        "  i = low - 1\n",
        "\n",
        "  for j in range(low, high):                                           #se recorre el arreglo para ordenar los elementos por el pivote\n",
        "    if arreglo[j] <= piv:                                              #si se encuentra un elemento menor al pivote se intercambia para moverlo a la iquierda\n",
        "      cont += 1\n",
        "      i += 1\n",
        "      arreglo[i], arreglo[j] = arreglo[j], arreglo[i]\n",
        "\n",
        "  arreglo[i+1], arreglo[high] = arreglo[high], arreglo[i+1]           #se coloca el pivote en su posición correspondiente\n",
        "\n",
        "  if verbose:\n",
        "    print(\"saliendo de función partition con pivote igual a: \", i+1)\n",
        "\n",
        "  return i+1"
      ]
    },
    {
      "cell_type": "code",
      "source": [
        "import math\n",
        "\n",
        "def pivotSelect(arreglo, low, high):\n",
        "  global cont\n",
        "  cant = math.ceil((high-low+1)/5)                                              #calculamos la cantidad de subarreglos que existen\n",
        "  medianas = []                                                                 #arreglo donde se van a almacenar las medianas para luego calcular la mediana de medianas\n",
        "\n",
        "  for k in range(cant):                                                         #se divide el arreglo en subarreglos de tamaño 5 y se ordenan con insertion sort\n",
        "    auxLow = low + 5*k                                                          #se calcula la mediana del subarreglo y se coloca en el arreglo de medianas\n",
        "    auxHigh = low + 4 + 5*k\n",
        "    if (auxHigh > high):\n",
        "      auxHigh = high\n",
        "\n",
        "    arreglo[auxLow:auxHigh+1] = insertionSort(arreglo[auxLow:auxHigh+1])\n",
        "    medianas.append((auxHigh + auxLow)//2)\n",
        "  \n",
        "  medianas = insertionSort(medianas)                                            #se ordena el arreglo de medianas y con el select se calcula la mediana de medianas\n",
        "  n = len(medianas)\n",
        "  pivote = select(medianas, 0, n-1, n//2, verbose)\n",
        "  cont += 1\n",
        "\n",
        "  for k in range(cant):                                                         #el select al retornar un dato debemos buscar la posición de este dato\n",
        "    if pivote == arreglo[k]:\n",
        "      pivote = k\n",
        "\n",
        "  if verbose:\n",
        "    print(\"mediana de medianas: \",pivote)\n",
        "\n",
        "  arreglo[auxHigh-1], arreglo[pivote] = arreglo[pivote], arreglo[auxHigh-1]     #se coloca el pivote donde debería estar\n",
        "  \n",
        "  return partition(arreglo,low,high)\n"
      ],
      "metadata": {
        "id": "MjJrmb3dKbF0"
      },
      "execution_count": 11,
      "outputs": []
    },
    {
      "cell_type": "code",
      "source": [
        "def select(arreglo, low, high, i, verbose):\n",
        "  global cont\n",
        "  if (low == high or len(arreglo) == 1):                                        #caso base\n",
        "    cont += 1\n",
        "    return arreglo[low]\n",
        "\n",
        "  if verbose:\n",
        "    print(\"\\n\")\n",
        "    print(\"arreglo entrando al select: \",arreglo)\n",
        "\n",
        "  q = pivotSelect(arreglo, low, high)                                           #se obtiene el posible dato i-ésimo y se comprueba si es el dato que se buscaba, si es más\n",
        "  k = q - low + 1                                                               #a la derecha del pivote o a la izquierda del pivote\n",
        "\n",
        "  if verbose:\n",
        "    print(\"estadístico de orden: \",k)\n",
        "\n",
        "  if i == k:\n",
        "    cont += 1\n",
        "    return arreglo[q]\n",
        "  elif i < k:\n",
        "    cont += 1\n",
        "    return select(arreglo, low, q-1, i, verbose)\n",
        "  else:\n",
        "    cont += 1\n",
        "    return select(arreglo, q+1, high, i-k, verbose)  "
      ],
      "metadata": {
        "id": "qgal09OMJlJM"
      },
      "execution_count": 16,
      "outputs": []
    },
    {
      "cell_type": "markdown",
      "source": [
        "### 2.2 Select sin verbose"
      ],
      "metadata": {
        "id": "mbyg749BLz1s"
      }
    },
    {
      "cell_type": "code",
      "source": [
        "arreglo = [3, 7, 8, 1, 4, 6, 9, 5]\n",
        "i = int(input(\"ingrese elemento \"))\n",
        "n = len(arreglo)\n",
        "print(arreglo)\n",
        "verbose = False\n",
        "a = select(arreglo,0,n-1,i, verbose)\n",
        "print(a)\n",
        "cont = 0"
      ],
      "metadata": {
        "colab": {
          "base_uri": "https://localhost:8080/"
        },
        "id": "i-EycGSejnjS",
        "outputId": "856eb7dd-4ade-4d8a-d13e-559e8806f281"
      },
      "execution_count": 21,
      "outputs": [
        {
          "output_type": "stream",
          "name": "stdout",
          "text": [
            "ingrese elemento 6\n",
            "[3, 7, 8, 1, 4, 6, 9, 5]\n",
            "7\n"
          ]
        }
      ]
    },
    {
      "cell_type": "markdown",
      "source": [
        "###2.3 Select con verbose"
      ],
      "metadata": {
        "id": "5yf9QvJ7L45Z"
      }
    },
    {
      "cell_type": "code",
      "source": [
        "arreglo = [3, 7, 8, 1, 4, 6, 9, 5]\n",
        "i = int(input(\"ingrese elemento \"))\n",
        "n = len(arreglo)\n",
        "print(\"arreglo original: \",arreglo)\n",
        "verbose = True\n",
        "a = select(arreglo,0,n-1,i, verbose)\n",
        "print(\"\\n\")\n",
        "print(\"dato i-ésimo: \",a)\n",
        "print(\"cantidad de comparaciones por funcion pivot selection: \", cont)\n",
        "cont = 0"
      ],
      "metadata": {
        "colab": {
          "base_uri": "https://localhost:8080/"
        },
        "id": "bc9A5HUieuGO",
        "outputId": "29f778d8-e743-482d-fe4a-99203b6cb68e"
      },
      "execution_count": 15,
      "outputs": [
        {
          "output_type": "stream",
          "name": "stdout",
          "text": [
            "ingrese elemento 6\n",
            "arreglo original:  [3, 7, 8, 1, 4, 6, 9, 5]\n",
            "\n",
            "\n",
            "arreglo entrando al select:  [3, 7, 8, 1, 4, 6, 9, 5]\n",
            "\n",
            "\n",
            "arreglo entrando al select:  [2, 6]\n",
            "mediana de medianas:  0\n",
            "entrando a función partition\n",
            "saliendo de función partition con pivote igual a:  1\n",
            "estadístico de orden:  2\n",
            "mediana de medianas:  2\n",
            "entrando a función partition\n",
            "saliendo de función partition con pivote igual a:  7\n",
            "estadístico de orden:  8\n",
            "\n",
            "\n",
            "arreglo entrando al select:  [1, 3, 6, 7, 8, 5, 4, 9]\n",
            "\n",
            "\n",
            "arreglo entrando al select:  [2, 5]\n",
            "mediana de medianas:  0\n",
            "entrando a función partition\n",
            "saliendo de función partition con pivote igual a:  1\n",
            "estadístico de orden:  2\n",
            "mediana de medianas:  2\n",
            "entrando a función partition\n",
            "saliendo de función partition con pivote igual a:  3\n",
            "estadístico de orden:  4\n",
            "\n",
            "\n",
            "arreglo entrando al select:  [1, 3, 4, 5, 8, 6, 7, 9]\n",
            "mediana de medianas:  5\n",
            "entrando a función partition\n",
            "saliendo de función partition con pivote igual a:  6\n",
            "estadístico de orden:  3\n",
            "\n",
            "\n",
            "arreglo entrando al select:  [1, 3, 4, 5, 6, 7, 8, 9]\n",
            "mediana de medianas:  4\n",
            "entrando a función partition\n",
            "saliendo de función partition con pivote igual a:  5\n",
            "estadístico de orden:  2\n",
            "\n",
            "\n",
            "dato i-ésimo:  7\n",
            "cantidad de comparaciones por funcion pivot selection:  43\n"
          ]
        }
      ]
    },
    {
      "cell_type": "markdown",
      "source": [
        "#3. Tiempo de Ejecucción\n",
        "\n",
        "Para calcular el tiempo de ejecución se deben tener en cuenta el tiempo de ejecucción de cada función, el pivot Select nos da $T(n) = n/5$ debido a que divide en subarreglos. El $insertion sort$ en caso promedio tiene complejidad de $O(n^2)$. Por último la función partition debiese ser un $O(n)$ puesto que recorre hasta n-1 comparando los datos.\n",
        "\n",
        "Con estos datos se puede tener un estimado de la complejidad del algoritmo, tanto en el peor o caso promedio, como en el mejor.\n",
        "\n",
        "Si los subarreglos no se encuentran ordenados el $insertion sort$ tiene su complejidad de $O(n^2)$, esta al ser la mayor complejidad nos entrega que el peor caso del $select$ es $O(n^2)$, pero, si nos ponemos en el mejor caso del $insertion sort$ el cual es $O(n)$, lo cual nos deja con una complejidad del mejor caso un $O(n)$.\n"
      ],
      "metadata": {
        "id": "xSQNjVNXiOtQ"
      }
    },
    {
      "cell_type": "markdown",
      "source": [
        "https://tildesites.bowdoin.edu/~ltoma/teaching/cs231/fall09/Lectures/7-selection/selection.pdf"
      ],
      "metadata": {
        "id": "VeNR6F-oLrTg"
      }
    }
  ]
}