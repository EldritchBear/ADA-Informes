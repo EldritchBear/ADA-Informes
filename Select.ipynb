{
  "nbformat": 4,
  "nbformat_minor": 0,
  "metadata": {
    "colab": {
      "provenance": [],
      "collapsed_sections": [],
      "authorship_tag": "ABX9TyOtFmQrqTIVYHjBMZm8qhCa",
      "include_colab_link": true
    },
    "kernelspec": {
      "name": "python3",
      "display_name": "Python 3"
    },
    "language_info": {
      "name": "python"
    }
  },
  "cells": [
    {
      "cell_type": "markdown",
      "metadata": {
        "id": "view-in-github",
        "colab_type": "text"
      },
      "source": [
        "<a href=\"https://colab.research.google.com/github/EldritchBear/ADA-Informes/blob/main/Select.ipynb\" target=\"_parent\"><img src=\"https://colab.research.google.com/assets/colab-badge.svg\" alt=\"Open In Colab\"/></a>"
      ]
    },
    {
      "cell_type": "markdown",
      "source": [
        "# 1. Descripción del problema\n",
        "\n",
        "La estadística de orden es una herramienta fundamental de la estadística no paramétrica y de inferencia que busca encontrar el elemento más pequeño en una muestra de datos, siendo este llamado estadístico de orden.\n",
        "\n",
        "La reducción de problemas se basa en reutilizar soluciones de un problema similar al que se quiere resolver, transformando un problema nuevo en uno que yá se encuentra resuelto, lo que nos puede demostrar que el problema que se buscaba resolver no era más complicado que el resuelto con anterioridad.\n",
        "\n",
        "Entrada: El algoritmo recibe un conjunto con n números y un índice $i$ que es el elemento a buscar.\n",
        "\n",
        "Salida: El elemento llamado estadístico de orden i-ésimo, el cual es mayor a $i-1$ elementos del conjunto de datos.\n",
        "\n"
      ],
      "metadata": {
        "id": "cfQ7VHPav4ut"
      }
    },
    {
      "cell_type": "markdown",
      "source": [
        "#2. Descripción del algoritmo\n",
        "\n",
        "El algoritmo recibe un arreglo de n elementos junto a un indice $i$ el cual es el estadístico de orden que se quiere buscar.\n",
        "\n",
        "1. El arreglo se divide en subarreglos de 5 elementos cada uno.\n",
        "\n",
        "2. Cada subarreglo se ordena utilizando $Insertion Sort$.\n",
        "\n",
        "3. Se calcula la mediana de cada subarreglo y se guardan en otro subarreglo.\n",
        "\n",
        "4. Se ordena el subarreglo de medianas utilizando el $Insertion Sort$ para luego calcular la mediana de este.\n",
        "\n",
        "5. Utilizando la mediana de las medianas se particiona el arreglo original, dejando elementos menores o iguales al pivote o mediana a la izquierda y los mayores a la derecha.\n",
        "\n",
        "6. Se compara el orden estadístico entre el pivote y el elemento a busca, si el elemento es menor se busca en la partición izquierda, si es igual se retorna el pivote, y si el elemento es mayor se busca en la partición derecha.\n",
        "\n",
        "El algoritmo al ser recursivo se va a estar llamando continuamente hasta que llegue al caso en que el pivote y el i-ésimo elemento que se buscaban tengan el mismo orden, esto se puede ver en el paso 6, que es donde se revisa si se retorna el pivote o se sigue buscando recursivamente. Se puede observar que el algoritmo solo necesita el arreglo original al buscar el mejor pivote, o en otras palabras, la mediana de las medianas, puesto que luego al momento de buscar el i-ésimo valor solo se usan particiones del arreglo original, lo que podría significar un tiempo de ejecución de $O(nlogn)$.\n"
      ],
      "metadata": {
        "id": "NZBXN5Nd_QrA"
      }
    },
    {
      "cell_type": "markdown",
      "source": [
        "##2.1 Código del Select"
      ],
      "metadata": {
        "id": "hYfGvnqCLuZz"
      }
    },
    {
      "cell_type": "code",
      "source": [
        "cont = 0\n",
        "def insertionSort(arreglo):\n",
        "  global cont\n",
        "  n = len(arreglo)\n",
        "  \n",
        "  for i in range(0,n):\n",
        "    dato = arreglo[i]\n",
        "    while (i > 0 and arreglo[i-1] > dato):\n",
        "      cont += 1\n",
        "      arreglo[i] = arreglo[i-1]\n",
        "      i = i - 1\n",
        "      arreglo[i] = dato\n",
        "  return arreglo"
      ],
      "metadata": {
        "id": "-u1JBhzFiLK9"
      },
      "execution_count": 2,
      "outputs": []
    },
    {
      "cell_type": "code",
      "execution_count": 3,
      "metadata": {
        "id": "TS1-c4t4v2mn"
      },
      "outputs": [],
      "source": [
        "def partition(arreglo,low,high):\n",
        "  global cont\n",
        "  if verbose:\n",
        "    print(\"entrando a función partition\")\n",
        "\n",
        "  piv = arreglo[high]                                                  #usamos como pivote el dato de más a la derecha\n",
        "  i = low - 1\n",
        "\n",
        "  for j in range(low, high):                                           #se recorre el arreglo para ordenar los elementos por el pivote\n",
        "    if arreglo[j] <= piv:                                              #si se encuentra un elemento menor al pivote se intercambia para moverlo a la iquierda\n",
        "      cont += 1\n",
        "      i += 1\n",
        "      arreglo[i], arreglo[j] = arreglo[j], arreglo[i]\n",
        "\n",
        "  arreglo[i+1], arreglo[high] = arreglo[high], arreglo[i+1]           #se coloca el pivote en su posición correspondiente\n",
        "\n",
        "  if verbose:\n",
        "    print(\"saliendo de función partition con pivote igual a: \", i+1)\n",
        "\n",
        "  return i+1"
      ]
    },
    {
      "cell_type": "code",
      "source": [
        "import math\n",
        "\n",
        "def pivotSelect(arreglo, low, high):\n",
        "  global cont\n",
        "  cant = math.ceil((high-low+1)/5)                                              #calculamos la cantidad de subarreglos que existen\n",
        "  medianas = []                                                                 #arreglo donde se van a almacenar las medianas para luego calcular la mediana de medianas\n",
        "\n",
        "  for k in range(cant):                                                         #se divide el arreglo en subarreglos de tamaño 5 y se ordenan con insertion sort\n",
        "    auxLow = low + 5*k                                                          #se calcula la mediana del subarreglo y se coloca en el arreglo de medianas\n",
        "    auxHigh = low + 4 + 5*k\n",
        "    if (auxHigh > high):\n",
        "      auxHigh = high\n",
        "\n",
        "    arreglo[auxLow:auxHigh+1] = insertionSort(arreglo[auxLow:auxHigh+1])\n",
        "    medianas.append((auxHigh + auxLow)//2)\n",
        "  \n",
        "  medianas = insertionSort(medianas)                                            #se ordena el arreglo de medianas y con el select se calcula la mediana de medianas\n",
        "  n = len(medianas)\n",
        "  pivote = select(medianas, 0, n-1, n//2, verbose)\n",
        "  cont += 1\n",
        "\n",
        "  for k in range(cant):                                                         #el select al retornar un dato debemos buscar la posición de este dato\n",
        "    if pivote == arreglo[k]:\n",
        "      pivote = k\n",
        "\n",
        "  if verbose:\n",
        "    print(\"mediana de medianas: \",pivote)\n",
        "\n",
        "  arreglo[auxHigh-1], arreglo[pivote] = arreglo[pivote], arreglo[auxHigh-1]     #se coloca el pivote donde debería estar\n",
        "  \n",
        "  return partition(arreglo,low,high)\n"
      ],
      "metadata": {
        "id": "MjJrmb3dKbF0"
      },
      "execution_count": 4,
      "outputs": []
    },
    {
      "cell_type": "code",
      "source": [
        "def select(arreglo, low, high, i, verbose):\n",
        "  global cont\n",
        "  if (low == high or len(arreglo) == 1):                                        #caso base\n",
        "    cont += 1\n",
        "    return arreglo[low]\n",
        "\n",
        "  if verbose:\n",
        "    print(\"\\n\")\n",
        "    print(\"arreglo entrando al select: \",arreglo)\n",
        "\n",
        "  q = pivotSelect(arreglo, low, high)                                           #se obtiene el posible dato i-ésimo y se comprueba si es el dato que se buscaba, si es más\n",
        "  k = q - low + 1                                                               #a la derecha del pivote o a la izquierda del pivote\n",
        "\n",
        "  if verbose:\n",
        "    print(\"estadístico de orden: \",k)\n",
        "\n",
        "  if i == k:\n",
        "    cont += 1\n",
        "    return arreglo[q]\n",
        "  elif i < k:\n",
        "    cont += 1\n",
        "    return select(arreglo, low, q-1, i, verbose)\n",
        "  else:\n",
        "    cont += 1\n",
        "    return select(arreglo, q+1, high, i-k, verbose)  "
      ],
      "metadata": {
        "id": "qgal09OMJlJM"
      },
      "execution_count": 5,
      "outputs": []
    },
    {
      "cell_type": "markdown",
      "source": [
        "### 2.2 Select sin verbose"
      ],
      "metadata": {
        "id": "mbyg749BLz1s"
      }
    },
    {
      "cell_type": "code",
      "source": [
        "arreglo = [3, 7, 8, 1, 4, 6, 9, 5]\n",
        "i = int(input(\"ingrese elemento \"))\n",
        "n = len(arreglo)\n",
        "print(arreglo)\n",
        "verbose = False\n",
        "a = select(arreglo,0,n-1,i, verbose)\n",
        "print(a)\n",
        "cont = 0"
      ],
      "metadata": {
        "colab": {
          "base_uri": "https://localhost:8080/"
        },
        "id": "i-EycGSejnjS",
        "outputId": "6d19977b-ebd0-43d4-f66e-f6e8e3180b7d"
      },
      "execution_count": null,
      "outputs": [
        {
          "output_type": "stream",
          "name": "stdout",
          "text": [
            "ingrese elemento 6\n",
            "[3, 7, 8, 1, 4, 6, 9, 5]\n",
            "7\n"
          ]
        }
      ]
    },
    {
      "cell_type": "markdown",
      "source": [
        "###2.3 Select con verbose"
      ],
      "metadata": {
        "id": "5yf9QvJ7L45Z"
      }
    },
    {
      "cell_type": "code",
      "source": [
        "arreglo = [3, 7, 8, 1, 4, 6, 9, 5]\n",
        "i = int(input(\"ingrese elemento \"))\n",
        "n = len(arreglo)\n",
        "print(\"arreglo original: \",arreglo)\n",
        "verbose = True\n",
        "a = select(arreglo,0,n-1,i, verbose)\n",
        "print(\"\\n\")\n",
        "print(\"dato i-ésimo: \",a)\n",
        "print(\"cantidad de comparaciones por funcion pivot selection: \", cont)\n",
        "cont = 0"
      ],
      "metadata": {
        "colab": {
          "base_uri": "https://localhost:8080/"
        },
        "id": "bc9A5HUieuGO",
        "outputId": "29f778d8-e743-482d-fe4a-99203b6cb68e"
      },
      "execution_count": null,
      "outputs": [
        {
          "output_type": "stream",
          "name": "stdout",
          "text": [
            "ingrese elemento 6\n",
            "arreglo original:  [3, 7, 8, 1, 4, 6, 9, 5]\n",
            "\n",
            "\n",
            "arreglo entrando al select:  [3, 7, 8, 1, 4, 6, 9, 5]\n",
            "\n",
            "\n",
            "arreglo entrando al select:  [2, 6]\n",
            "mediana de medianas:  0\n",
            "entrando a función partition\n",
            "saliendo de función partition con pivote igual a:  1\n",
            "estadístico de orden:  2\n",
            "mediana de medianas:  2\n",
            "entrando a función partition\n",
            "saliendo de función partition con pivote igual a:  7\n",
            "estadístico de orden:  8\n",
            "\n",
            "\n",
            "arreglo entrando al select:  [1, 3, 6, 7, 8, 5, 4, 9]\n",
            "\n",
            "\n",
            "arreglo entrando al select:  [2, 5]\n",
            "mediana de medianas:  0\n",
            "entrando a función partition\n",
            "saliendo de función partition con pivote igual a:  1\n",
            "estadístico de orden:  2\n",
            "mediana de medianas:  2\n",
            "entrando a función partition\n",
            "saliendo de función partition con pivote igual a:  3\n",
            "estadístico de orden:  4\n",
            "\n",
            "\n",
            "arreglo entrando al select:  [1, 3, 4, 5, 8, 6, 7, 9]\n",
            "mediana de medianas:  5\n",
            "entrando a función partition\n",
            "saliendo de función partition con pivote igual a:  6\n",
            "estadístico de orden:  3\n",
            "\n",
            "\n",
            "arreglo entrando al select:  [1, 3, 4, 5, 6, 7, 8, 9]\n",
            "mediana de medianas:  4\n",
            "entrando a función partition\n",
            "saliendo de función partition con pivote igual a:  5\n",
            "estadístico de orden:  2\n",
            "\n",
            "\n",
            "dato i-ésimo:  7\n",
            "cantidad de comparaciones por funcion pivot selection:  43\n"
          ]
        }
      ]
    },
    {
      "cell_type": "markdown",
      "source": [
        "#3. Tiempo de Ejecucción\n",
        "\n",
        "Para calcular el tiempo de ejecución se deben tener en cuenta el tiempo de ejecucción de cada función, el pivot Select nos da $T(n) = n/5$ debido a que divide en subarreglos. El $insertion sort$ en caso promedio tiene complejidad de $O(n^2)$, pero como es un tamaño constante en este caso podria tomarse como $O(1)$. La función partition debiese ser un $O(n)$ puesto que recorre hasta n-1 comparando los datos. Y por último la función $Pivot Select$ como divide y calcula la mediana de los datos que es mayor a $7n/10+6$, por lo que es una complejidad de O(n).\n",
        "\n",
        "Como podemos ver, gracias al metodo de mediana de medianas (pivot select) la complejidad del algoritmo es $O(n)$, este metodo surgio de la idea de reducir el tiempo de ejecucción que tenia el algoritmo que solamente utilizaba el partition, el cual tenia una complejidad de $O(nlogn)$.\n"
      ],
      "metadata": {
        "id": "xSQNjVNXiOtQ"
      }
    },
    {
      "cell_type": "markdown",
      "source": [
        "#4. Correctitud\n",
        "\n",
        "Caso base: cuando el subarreglo n tiene tamaño igual a 1, lo que terminaria como low = high o $arreglo[low]$ = $arreglo[high]$. \n",
        "\n",
        "Cuando el tamaño del subarreglo n es mayor a 1, i será un número dentro del rango. Si el pivote no es el elemento buscado, el arreglo se particionará en elementos menores y elementos mayores a este, minimizando el rango de busqueda de forma recursiva hasta encontrar el elemento buscado o llegar al caso base.\n",
        "\n",
        "Tomando la complejidad de las funciones que mostramos en el analisis de tiempo, podemos verificar la correctitud por inducción de la siguiente forma:\n",
        "\n",
        "![image.png](data:image/png;base64,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)"
      ],
      "metadata": {
        "id": "fg_gONpJQ4NH"
      }
    },
    {
      "cell_type": "markdown",
      "source": [
        "#5. Experimento\n",
        "\n",
        "Ahora realizaremos un numero de experimentos que nos ayudaran a visualizar la eficacia del **select** en ciertos aspectos."
      ],
      "metadata": {
        "id": "JPQzFPWe1dwC"
      }
    },
    {
      "cell_type": "markdown",
      "source": [
        "##5.1. Numero de comparaciones\n",
        "\n",
        "En este experimento se comprobara el numero de comparaciones que el algoritmo **select** necesita realizar para poder encontrar el I=esimo elemento de una lista.\n",
        "\n",
        "Para ello se hizo una grafica en la que se muestra.\n",
        "\n",
        "* La cantidad de comparaciones del peor caso calculadas matemáticamente,\n",
        "* La cantidad de comparaciones del mejor caso calculadas matemáticamente (n-1 comparaciones si el arreglo está ordenado)\n",
        "* La cantidad de comparaciones realizadas experimentalmente para entradas aleatorias\n",
        "\n",
        "para un problema que tiene un tamaño $n \\in [5,100]$"
      ],
      "metadata": {
        "id": "z0y1Grk7VJRO"
      }
    },
    {
      "cell_type": "code",
      "source": [
        "import matplotlib.pyplot as plt\n",
        "import random\n",
        "\n",
        "x=[n for n in range(5,101)] \n",
        "y1=[n for n in range(5,101)] # worst case\n",
        "y2=[n for n in range(5,101)] # best case\n",
        "y=[]; \n",
        "\n",
        "for n in range(5,101):\n",
        "  verbose = False\n",
        "  a = random.sample(range(1, 200), n)\n",
        "  n = len(a)\n",
        "  i = random.randint(1,n)\n",
        "  a = select(a,0,n-1,i,verbose)\n",
        "  y.append(cont)\n",
        "  cont = 0\n",
        "\n",
        "plt.plot(x,y)\n",
        "plt.plot(x,y1)\n",
        "plt.plot(x,y2)\n",
        "plt.legend([\"Selection Algorithim\", \"theoretical worst case\", \"theoretical best case\"])\n",
        "\n",
        "plt.xlabel('n')\n",
        "plt.ylabel('number of operations')\n",
        "plt.show()"
      ],
      "metadata": {
        "colab": {
          "base_uri": "https://localhost:8080/",
          "height": 279
        },
        "id": "h9tb2_KD1dDL",
        "outputId": "5ffe197a-f297-45d3-85f1-87e916cd3692"
      },
      "execution_count": 117,
      "outputs": [
        {
          "output_type": "display_data",
          "data": {
            "text/plain": [
              "<Figure size 432x288 with 1 Axes>"
            ],
            "image/png": "[encoded data removed]"
          },
          "metadata": {
            "needs_background": "light"
          }
        }
      ]
    },
    {
      "cell_type": "markdown",
      "source": [
        "##5.2. Comparación entre algoritmos\n",
        "\n",
        "En este experimento se compararán dos algoritmos de busqueda el **Select** y el **Randomized select**, en específico se comparará el número de comparaciones que realizan ambos algoritmos.\n",
        "\n",
        "Como el nombre sugiere el **Randomized select** funciona de la misma manera que el select, pero en este caso el pivote no estara dado por la mediana, si no que sera un pivote aleatorio en el arreglo.\n",
        "\n",
        "Para ello se hizo una gráfica en la que se muestra.\n",
        "\n",
        "* La cantidad de comparaciones que el **Select** realiza (la gráfica azul)\n",
        "* La cantidad de comparaciones que el **Randomized select** realiza (la gráfica naranja)\n",
        "\n",
        "para un problema que tiene un tamaño $n \\in [5,100]$"
      ],
      "metadata": {
        "id": "W5s8hph1O8MS"
      }
    },
    {
      "cell_type": "code",
      "source": [
        "cont = 0\n",
        "def R_Partition(A,min,max):\n",
        "  i = random.randint(min,max)\n",
        "  (A[max], A[i]) = (A[i],A[max])\n",
        "  return partition(A,min,max)\n",
        "\n",
        "def R_Select(A,min,max,i):\n",
        "  global cont\n",
        "  if min == max:\n",
        "    return A[min]\n",
        "  \n",
        "  piv = R_Partition(A,min,max)\n",
        "  k = piv - min + 1\n",
        "\n",
        "  if i == k:\n",
        "    cont += 1\n",
        "    return A[piv]\n",
        "  elif i < k:\n",
        "    cont += 1\n",
        "    return R_Select(A,min,piv-1,i)\n",
        "  else:\n",
        "    cont += 1\n",
        "    return R_Select(a,piv+1,max,i)"
      ],
      "metadata": {
        "id": "9rEn3Zs8OyHA"
      },
      "execution_count": 87,
      "outputs": []
    },
    {
      "cell_type": "code",
      "source": [
        "import matplotlib.pyplot as plt\n",
        "import random\n",
        "\n",
        "x=[n for n in range(5,51)] \n",
        "y1=[]; y2=[]\n",
        "\n",
        "for n in range(5,51):\n",
        "  verbose = False\n",
        "  a = random.sample(range(1, 201), n)\n",
        "  n = len(a)\n",
        "  i_esimo = random.randint(1,n)\n",
        "\n",
        "  select(a,0,n-1,i_esimo,verbose)\n",
        "  y1.append(cont)\n",
        "  cont = 0\n",
        "\n",
        "  R_Select(a,0,n-1,i_esimo)\n",
        "  y2.append(cont)\n",
        "  cont = 0\n",
        "\n",
        "plt.plot(x,y1)\n",
        "plt.plot(x,y2)\n",
        "plt.legend([\"Select algorithim\",\"Randomized select algorithim\"])\n",
        "\n",
        "plt.xlabel('n')\n",
        "plt.ylabel('number of operations')\n",
        "plt.show()"
      ],
      "metadata": {
        "colab": {
          "base_uri": "https://localhost:8080/",
          "height": 380
        },
        "id": "j2hmM0aCOvVa",
        "outputId": "b0689e34-29cd-4796-a073-f676ef36e977"
      },
      "execution_count": 123,
      "outputs": [
        {
          "output_type": "error",
          "ename": "ValueError",
          "evalue": "ignored",
          "traceback": [
            "\u001b[0;31m---------------------------------------------------------------------------\u001b[0m",
            "\u001b[0;31mValueError\u001b[0m                                Traceback (most recent call last)",
            "\u001b[0;32m<ipython-input-123-dcac8118c010>\u001b[0m in \u001b[0;36m<module>\u001b[0;34m\u001b[0m\n\u001b[1;32m     15\u001b[0m   \u001b[0mcont\u001b[0m \u001b[0;34m=\u001b[0m \u001b[0;36m0\u001b[0m\u001b[0;34m\u001b[0m\u001b[0;34m\u001b[0m\u001b[0m\n\u001b[1;32m     16\u001b[0m \u001b[0;34m\u001b[0m\u001b[0m\n\u001b[0;32m---> 17\u001b[0;31m   \u001b[0mR_Select\u001b[0m\u001b[0;34m(\u001b[0m\u001b[0ma\u001b[0m\u001b[0;34m,\u001b[0m\u001b[0;36m0\u001b[0m\u001b[0;34m,\u001b[0m\u001b[0mn\u001b[0m\u001b[0;34m-\u001b[0m\u001b[0;36m1\u001b[0m\u001b[0;34m,\u001b[0m\u001b[0mi_esimo\u001b[0m\u001b[0;34m)\u001b[0m\u001b[0;34m\u001b[0m\u001b[0;34m\u001b[0m\u001b[0m\n\u001b[0m\u001b[1;32m     18\u001b[0m   \u001b[0my2\u001b[0m\u001b[0;34m.\u001b[0m\u001b[0mappend\u001b[0m\u001b[0;34m(\u001b[0m\u001b[0mcont\u001b[0m\u001b[0;34m)\u001b[0m\u001b[0;34m\u001b[0m\u001b[0;34m\u001b[0m\u001b[0m\n\u001b[1;32m     19\u001b[0m   \u001b[0mcont\u001b[0m \u001b[0;34m=\u001b[0m \u001b[0;36m0\u001b[0m\u001b[0;34m\u001b[0m\u001b[0;34m\u001b[0m\u001b[0m\n",
            "\u001b[0;32m<ipython-input-87-f39714cdf9bf>\u001b[0m in \u001b[0;36mR_Select\u001b[0;34m(A, min, max, i)\u001b[0m\n\u001b[1;32m     21\u001b[0m   \u001b[0;32melse\u001b[0m\u001b[0;34m:\u001b[0m\u001b[0;34m\u001b[0m\u001b[0;34m\u001b[0m\u001b[0m\n\u001b[1;32m     22\u001b[0m     \u001b[0mcont\u001b[0m \u001b[0;34m+=\u001b[0m \u001b[0;36m1\u001b[0m\u001b[0;34m\u001b[0m\u001b[0;34m\u001b[0m\u001b[0m\n\u001b[0;32m---> 23\u001b[0;31m     \u001b[0;32mreturn\u001b[0m \u001b[0mR_Select\u001b[0m\u001b[0;34m(\u001b[0m\u001b[0ma\u001b[0m\u001b[0;34m,\u001b[0m\u001b[0mpiv\u001b[0m\u001b[0;34m+\u001b[0m\u001b[0;36m1\u001b[0m\u001b[0;34m,\u001b[0m\u001b[0mmax\u001b[0m\u001b[0;34m,\u001b[0m\u001b[0mi\u001b[0m\u001b[0;34m)\u001b[0m\u001b[0;34m\u001b[0m\u001b[0;34m\u001b[0m\u001b[0m\n\u001b[0m",
            "\u001b[0;32m<ipython-input-87-f39714cdf9bf>\u001b[0m in \u001b[0;36mR_Select\u001b[0;34m(A, min, max, i)\u001b[0m\n\u001b[1;32m     21\u001b[0m   \u001b[0;32melse\u001b[0m\u001b[0;34m:\u001b[0m\u001b[0;34m\u001b[0m\u001b[0;34m\u001b[0m\u001b[0m\n\u001b[1;32m     22\u001b[0m     \u001b[0mcont\u001b[0m \u001b[0;34m+=\u001b[0m \u001b[0;36m1\u001b[0m\u001b[0;34m\u001b[0m\u001b[0;34m\u001b[0m\u001b[0m\n\u001b[0;32m---> 23\u001b[0;31m     \u001b[0;32mreturn\u001b[0m \u001b[0mR_Select\u001b[0m\u001b[0;34m(\u001b[0m\u001b[0ma\u001b[0m\u001b[0;34m,\u001b[0m\u001b[0mpiv\u001b[0m\u001b[0;34m+\u001b[0m\u001b[0;36m1\u001b[0m\u001b[0;34m,\u001b[0m\u001b[0mmax\u001b[0m\u001b[0;34m,\u001b[0m\u001b[0mi\u001b[0m\u001b[0;34m)\u001b[0m\u001b[0;34m\u001b[0m\u001b[0;34m\u001b[0m\u001b[0m\n\u001b[0m",
            "\u001b[0;32m<ipython-input-87-f39714cdf9bf>\u001b[0m in \u001b[0;36mR_Select\u001b[0;34m(A, min, max, i)\u001b[0m\n\u001b[1;32m     21\u001b[0m   \u001b[0;32melse\u001b[0m\u001b[0;34m:\u001b[0m\u001b[0;34m\u001b[0m\u001b[0;34m\u001b[0m\u001b[0m\n\u001b[1;32m     22\u001b[0m     \u001b[0mcont\u001b[0m \u001b[0;34m+=\u001b[0m \u001b[0;36m1\u001b[0m\u001b[0;34m\u001b[0m\u001b[0;34m\u001b[0m\u001b[0m\n\u001b[0;32m---> 23\u001b[0;31m     \u001b[0;32mreturn\u001b[0m \u001b[0mR_Select\u001b[0m\u001b[0;34m(\u001b[0m\u001b[0ma\u001b[0m\u001b[0;34m,\u001b[0m\u001b[0mpiv\u001b[0m\u001b[0;34m+\u001b[0m\u001b[0;36m1\u001b[0m\u001b[0;34m,\u001b[0m\u001b[0mmax\u001b[0m\u001b[0;34m,\u001b[0m\u001b[0mi\u001b[0m\u001b[0;34m)\u001b[0m\u001b[0;34m\u001b[0m\u001b[0;34m\u001b[0m\u001b[0m\n\u001b[0m",
            "\u001b[0;32m<ipython-input-87-f39714cdf9bf>\u001b[0m in \u001b[0;36mR_Select\u001b[0;34m(A, min, max, i)\u001b[0m\n\u001b[1;32m     10\u001b[0m     \u001b[0;32mreturn\u001b[0m \u001b[0mA\u001b[0m\u001b[0;34m[\u001b[0m\u001b[0mmin\u001b[0m\u001b[0;34m]\u001b[0m\u001b[0;34m\u001b[0m\u001b[0;34m\u001b[0m\u001b[0m\n\u001b[1;32m     11\u001b[0m \u001b[0;34m\u001b[0m\u001b[0m\n\u001b[0;32m---> 12\u001b[0;31m   \u001b[0mpiv\u001b[0m \u001b[0;34m=\u001b[0m \u001b[0mR_Partition\u001b[0m\u001b[0;34m(\u001b[0m\u001b[0mA\u001b[0m\u001b[0;34m,\u001b[0m\u001b[0mmin\u001b[0m\u001b[0;34m,\u001b[0m\u001b[0mmax\u001b[0m\u001b[0;34m)\u001b[0m\u001b[0;34m\u001b[0m\u001b[0;34m\u001b[0m\u001b[0m\n\u001b[0m\u001b[1;32m     13\u001b[0m   \u001b[0mk\u001b[0m \u001b[0;34m=\u001b[0m \u001b[0mpiv\u001b[0m \u001b[0;34m-\u001b[0m \u001b[0mmin\u001b[0m \u001b[0;34m+\u001b[0m \u001b[0;36m1\u001b[0m\u001b[0;34m\u001b[0m\u001b[0;34m\u001b[0m\u001b[0m\n\u001b[1;32m     14\u001b[0m \u001b[0;34m\u001b[0m\u001b[0m\n",
            "\u001b[0;32m<ipython-input-87-f39714cdf9bf>\u001b[0m in \u001b[0;36mR_Partition\u001b[0;34m(A, min, max)\u001b[0m\n\u001b[1;32m      1\u001b[0m \u001b[0mcont\u001b[0m \u001b[0;34m=\u001b[0m \u001b[0;36m0\u001b[0m\u001b[0;34m\u001b[0m\u001b[0;34m\u001b[0m\u001b[0m\n\u001b[1;32m      2\u001b[0m \u001b[0;32mdef\u001b[0m \u001b[0mR_Partition\u001b[0m\u001b[0;34m(\u001b[0m\u001b[0mA\u001b[0m\u001b[0;34m,\u001b[0m\u001b[0mmin\u001b[0m\u001b[0;34m,\u001b[0m\u001b[0mmax\u001b[0m\u001b[0;34m)\u001b[0m\u001b[0;34m:\u001b[0m\u001b[0;34m\u001b[0m\u001b[0;34m\u001b[0m\u001b[0m\n\u001b[0;32m----> 3\u001b[0;31m   \u001b[0mi\u001b[0m \u001b[0;34m=\u001b[0m \u001b[0mrandom\u001b[0m\u001b[0;34m.\u001b[0m\u001b[0mrandint\u001b[0m\u001b[0;34m(\u001b[0m\u001b[0mmin\u001b[0m\u001b[0;34m,\u001b[0m\u001b[0mmax\u001b[0m\u001b[0;34m)\u001b[0m\u001b[0;34m\u001b[0m\u001b[0;34m\u001b[0m\u001b[0m\n\u001b[0m\u001b[1;32m      4\u001b[0m   \u001b[0;34m(\u001b[0m\u001b[0mA\u001b[0m\u001b[0;34m[\u001b[0m\u001b[0mmax\u001b[0m\u001b[0;34m]\u001b[0m\u001b[0;34m,\u001b[0m \u001b[0mA\u001b[0m\u001b[0;34m[\u001b[0m\u001b[0mi\u001b[0m\u001b[0;34m]\u001b[0m\u001b[0;34m)\u001b[0m \u001b[0;34m=\u001b[0m \u001b[0;34m(\u001b[0m\u001b[0mA\u001b[0m\u001b[0;34m[\u001b[0m\u001b[0mi\u001b[0m\u001b[0;34m]\u001b[0m\u001b[0;34m,\u001b[0m\u001b[0mA\u001b[0m\u001b[0;34m[\u001b[0m\u001b[0mmax\u001b[0m\u001b[0;34m]\u001b[0m\u001b[0;34m)\u001b[0m\u001b[0;34m\u001b[0m\u001b[0;34m\u001b[0m\u001b[0m\n\u001b[1;32m      5\u001b[0m   \u001b[0;32mreturn\u001b[0m \u001b[0mpartition\u001b[0m\u001b[0;34m(\u001b[0m\u001b[0mA\u001b[0m\u001b[0;34m,\u001b[0m\u001b[0mmin\u001b[0m\u001b[0;34m,\u001b[0m\u001b[0mmax\u001b[0m\u001b[0;34m)\u001b[0m\u001b[0;34m\u001b[0m\u001b[0;34m\u001b[0m\u001b[0m\n",
            "\u001b[0;32m/usr/lib/python3.7/random.py\u001b[0m in \u001b[0;36mrandint\u001b[0;34m(self, a, b)\u001b[0m\n\u001b[1;32m    220\u001b[0m         \"\"\"\n\u001b[1;32m    221\u001b[0m \u001b[0;34m\u001b[0m\u001b[0m\n\u001b[0;32m--> 222\u001b[0;31m         \u001b[0;32mreturn\u001b[0m \u001b[0mself\u001b[0m\u001b[0;34m.\u001b[0m\u001b[0mrandrange\u001b[0m\u001b[0;34m(\u001b[0m\u001b[0ma\u001b[0m\u001b[0;34m,\u001b[0m \u001b[0mb\u001b[0m\u001b[0;34m+\u001b[0m\u001b[0;36m1\u001b[0m\u001b[0;34m)\u001b[0m\u001b[0;34m\u001b[0m\u001b[0;34m\u001b[0m\u001b[0m\n\u001b[0m\u001b[1;32m    223\u001b[0m \u001b[0;34m\u001b[0m\u001b[0m\n\u001b[1;32m    224\u001b[0m     def _randbelow(self, n, int=int, maxsize=1<<BPF, type=type,\n",
            "\u001b[0;32m/usr/lib/python3.7/random.py\u001b[0m in \u001b[0;36mrandrange\u001b[0;34m(self, start, stop, step, _int)\u001b[0m\n\u001b[1;32m    198\u001b[0m             \u001b[0;32mreturn\u001b[0m \u001b[0mistart\u001b[0m \u001b[0;34m+\u001b[0m \u001b[0mself\u001b[0m\u001b[0;34m.\u001b[0m\u001b[0m_randbelow\u001b[0m\u001b[0;34m(\u001b[0m\u001b[0mwidth\u001b[0m\u001b[0;34m)\u001b[0m\u001b[0;34m\u001b[0m\u001b[0;34m\u001b[0m\u001b[0m\n\u001b[1;32m    199\u001b[0m         \u001b[0;32mif\u001b[0m \u001b[0mstep\u001b[0m \u001b[0;34m==\u001b[0m \u001b[0;36m1\u001b[0m\u001b[0;34m:\u001b[0m\u001b[0;34m\u001b[0m\u001b[0;34m\u001b[0m\u001b[0m\n\u001b[0;32m--> 200\u001b[0;31m             \u001b[0;32mraise\u001b[0m \u001b[0mValueError\u001b[0m\u001b[0;34m(\u001b[0m\u001b[0;34m\"empty range for randrange() (%d,%d, %d)\"\u001b[0m \u001b[0;34m%\u001b[0m \u001b[0;34m(\u001b[0m\u001b[0mistart\u001b[0m\u001b[0;34m,\u001b[0m \u001b[0mistop\u001b[0m\u001b[0;34m,\u001b[0m \u001b[0mwidth\u001b[0m\u001b[0;34m)\u001b[0m\u001b[0;34m)\u001b[0m\u001b[0;34m\u001b[0m\u001b[0;34m\u001b[0m\u001b[0m\n\u001b[0m\u001b[1;32m    201\u001b[0m \u001b[0;34m\u001b[0m\u001b[0m\n\u001b[1;32m    202\u001b[0m         \u001b[0;31m# Non-unit step argument supplied.\u001b[0m\u001b[0;34m\u001b[0m\u001b[0;34m\u001b[0m\u001b[0;34m\u001b[0m\u001b[0m\n",
            "\u001b[0;31mValueError\u001b[0m: empty range for randrange() (9,9, 0)"
          ]
        }
      ]
    },
    {
      "cell_type": "code",
      "source": [
        "import matplotlib.pyplot as plt\n",
        "import datetime\n",
        "from timeit import repeat\n",
        "import random\n",
        "\n",
        "x=[]; y=[]\n",
        "x1=[]; y1=[]\n",
        "\n",
        "for n in range(5,500):\n",
        "\n",
        "  a = random.sample(range(1, 100), n)\n",
        "  k = len(a)\n",
        "  i = random.randint(1,n-1)\n",
        "\n",
        "  #la función repeat está ejecutando 20 veces cada algoritmo con el arreglo a y retorna el mejor tiepo obtenido para cada uno.\n",
        "  t = repeat(setup=\"from __main__ import select\", stmt=f\"select({a},{0},{k-1},{i},{False})\", repeat=1, number=10)\n",
        "\n",
        "  x.append(n)\n",
        "  y.append(t)\n",
        "\n",
        "  t = repeat(setup=\"from __main__ import R_Select\", stmt=f\"R_Select({a},{0},{k-1},{i})\", repeat=1, number=10)\n",
        "\n",
        "  x1.append(n)\n",
        "  y1.append(t)\n",
        "\n",
        "plt.plot(x,y)\n",
        "plt.plot(x1,y1)\n",
        "plt.legend([\"Select\", \"R-Select\"])\n",
        "\n",
        "plt.xlabel('n')\n",
        "plt.ylabel('time in ms')\n",
        "plt.show()"
      ],
      "metadata": {
        "colab": {
          "base_uri": "https://localhost:8080/",
          "height": 380
        },
        "id": "0VvCY_zUUqgW",
        "outputId": "3c0df24a-b28e-4815-f763-ad68b1eddc10"
      },
      "execution_count": 124,
      "outputs": [
        {
          "output_type": "error",
          "ename": "ValueError",
          "evalue": "ignored",
          "traceback": [
            "\u001b[0;31m---------------------------------------------------------------------------\u001b[0m",
            "\u001b[0;31mValueError\u001b[0m                                Traceback (most recent call last)",
            "\u001b[0;32m<ipython-input-124-a846a3d6f718>\u001b[0m in \u001b[0;36m<module>\u001b[0;34m\u001b[0m\n\u001b[1;32m     19\u001b[0m   \u001b[0my\u001b[0m\u001b[0;34m.\u001b[0m\u001b[0mappend\u001b[0m\u001b[0;34m(\u001b[0m\u001b[0mt\u001b[0m\u001b[0;34m)\u001b[0m\u001b[0;34m\u001b[0m\u001b[0;34m\u001b[0m\u001b[0m\n\u001b[1;32m     20\u001b[0m \u001b[0;34m\u001b[0m\u001b[0m\n\u001b[0;32m---> 21\u001b[0;31m   \u001b[0mt\u001b[0m \u001b[0;34m=\u001b[0m \u001b[0mrepeat\u001b[0m\u001b[0;34m(\u001b[0m\u001b[0msetup\u001b[0m\u001b[0;34m=\u001b[0m\u001b[0;34m\"from __main__ import R_Select\"\u001b[0m\u001b[0;34m,\u001b[0m \u001b[0mstmt\u001b[0m\u001b[0;34m=\u001b[0m\u001b[0;34mf\"R_Select({a},{0},{k-1},{i})\"\u001b[0m\u001b[0;34m,\u001b[0m \u001b[0mrepeat\u001b[0m\u001b[0;34m=\u001b[0m\u001b[0;36m1\u001b[0m\u001b[0;34m,\u001b[0m \u001b[0mnumber\u001b[0m\u001b[0;34m=\u001b[0m\u001b[0;36m10\u001b[0m\u001b[0;34m)\u001b[0m\u001b[0;34m\u001b[0m\u001b[0;34m\u001b[0m\u001b[0m\n\u001b[0m\u001b[1;32m     22\u001b[0m \u001b[0;34m\u001b[0m\u001b[0m\n\u001b[1;32m     23\u001b[0m   \u001b[0mx1\u001b[0m\u001b[0;34m.\u001b[0m\u001b[0mappend\u001b[0m\u001b[0;34m(\u001b[0m\u001b[0mn\u001b[0m\u001b[0;34m)\u001b[0m\u001b[0;34m\u001b[0m\u001b[0;34m\u001b[0m\u001b[0m\n",
            "\u001b[0;32m/usr/lib/python3.7/timeit.py\u001b[0m in \u001b[0;36mrepeat\u001b[0;34m(stmt, setup, timer, repeat, number, globals)\u001b[0m\n\u001b[1;32m    236\u001b[0m            repeat=default_repeat, number=default_number, globals=None):\n\u001b[1;32m    237\u001b[0m     \u001b[0;34m\"\"\"Convenience function to create Timer object and call repeat method.\"\"\"\u001b[0m\u001b[0;34m\u001b[0m\u001b[0;34m\u001b[0m\u001b[0m\n\u001b[0;32m--> 238\u001b[0;31m     \u001b[0;32mreturn\u001b[0m \u001b[0mTimer\u001b[0m\u001b[0;34m(\u001b[0m\u001b[0mstmt\u001b[0m\u001b[0;34m,\u001b[0m \u001b[0msetup\u001b[0m\u001b[0;34m,\u001b[0m \u001b[0mtimer\u001b[0m\u001b[0;34m,\u001b[0m \u001b[0mglobals\u001b[0m\u001b[0;34m)\u001b[0m\u001b[0;34m.\u001b[0m\u001b[0mrepeat\u001b[0m\u001b[0;34m(\u001b[0m\u001b[0mrepeat\u001b[0m\u001b[0;34m,\u001b[0m \u001b[0mnumber\u001b[0m\u001b[0;34m)\u001b[0m\u001b[0;34m\u001b[0m\u001b[0;34m\u001b[0m\u001b[0m\n\u001b[0m\u001b[1;32m    239\u001b[0m \u001b[0;34m\u001b[0m\u001b[0m\n\u001b[1;32m    240\u001b[0m \u001b[0;32mdef\u001b[0m \u001b[0mmain\u001b[0m\u001b[0;34m(\u001b[0m\u001b[0margs\u001b[0m\u001b[0;34m=\u001b[0m\u001b[0;32mNone\u001b[0m\u001b[0;34m,\u001b[0m \u001b[0;34m*\u001b[0m\u001b[0;34m,\u001b[0m \u001b[0m_wrap_timer\u001b[0m\u001b[0;34m=\u001b[0m\u001b[0;32mNone\u001b[0m\u001b[0;34m)\u001b[0m\u001b[0;34m:\u001b[0m\u001b[0;34m\u001b[0m\u001b[0;34m\u001b[0m\u001b[0m\n",
            "\u001b[0;32m/usr/lib/python3.7/timeit.py\u001b[0m in \u001b[0;36mrepeat\u001b[0;34m(self, repeat, number)\u001b[0m\n\u001b[1;32m    203\u001b[0m         \u001b[0mr\u001b[0m \u001b[0;34m=\u001b[0m \u001b[0;34m[\u001b[0m\u001b[0;34m]\u001b[0m\u001b[0;34m\u001b[0m\u001b[0;34m\u001b[0m\u001b[0m\n\u001b[1;32m    204\u001b[0m         \u001b[0;32mfor\u001b[0m \u001b[0mi\u001b[0m \u001b[0;32min\u001b[0m \u001b[0mrange\u001b[0m\u001b[0;34m(\u001b[0m\u001b[0mrepeat\u001b[0m\u001b[0;34m)\u001b[0m\u001b[0;34m:\u001b[0m\u001b[0;34m\u001b[0m\u001b[0;34m\u001b[0m\u001b[0m\n\u001b[0;32m--> 205\u001b[0;31m             \u001b[0mt\u001b[0m \u001b[0;34m=\u001b[0m \u001b[0mself\u001b[0m\u001b[0;34m.\u001b[0m\u001b[0mtimeit\u001b[0m\u001b[0;34m(\u001b[0m\u001b[0mnumber\u001b[0m\u001b[0;34m)\u001b[0m\u001b[0;34m\u001b[0m\u001b[0;34m\u001b[0m\u001b[0m\n\u001b[0m\u001b[1;32m    206\u001b[0m             \u001b[0mr\u001b[0m\u001b[0;34m.\u001b[0m\u001b[0mappend\u001b[0m\u001b[0;34m(\u001b[0m\u001b[0mt\u001b[0m\u001b[0;34m)\u001b[0m\u001b[0;34m\u001b[0m\u001b[0;34m\u001b[0m\u001b[0m\n\u001b[1;32m    207\u001b[0m         \u001b[0;32mreturn\u001b[0m \u001b[0mr\u001b[0m\u001b[0;34m\u001b[0m\u001b[0;34m\u001b[0m\u001b[0m\n",
            "\u001b[0;32m/usr/lib/python3.7/timeit.py\u001b[0m in \u001b[0;36mtimeit\u001b[0;34m(self, number)\u001b[0m\n\u001b[1;32m    175\u001b[0m         \u001b[0mgc\u001b[0m\u001b[0;34m.\u001b[0m\u001b[0mdisable\u001b[0m\u001b[0;34m(\u001b[0m\u001b[0;34m)\u001b[0m\u001b[0;34m\u001b[0m\u001b[0;34m\u001b[0m\u001b[0m\n\u001b[1;32m    176\u001b[0m         \u001b[0;32mtry\u001b[0m\u001b[0;34m:\u001b[0m\u001b[0;34m\u001b[0m\u001b[0;34m\u001b[0m\u001b[0m\n\u001b[0;32m--> 177\u001b[0;31m             \u001b[0mtiming\u001b[0m \u001b[0;34m=\u001b[0m \u001b[0mself\u001b[0m\u001b[0;34m.\u001b[0m\u001b[0minner\u001b[0m\u001b[0;34m(\u001b[0m\u001b[0mit\u001b[0m\u001b[0;34m,\u001b[0m \u001b[0mself\u001b[0m\u001b[0;34m.\u001b[0m\u001b[0mtimer\u001b[0m\u001b[0;34m)\u001b[0m\u001b[0;34m\u001b[0m\u001b[0;34m\u001b[0m\u001b[0m\n\u001b[0m\u001b[1;32m    178\u001b[0m         \u001b[0;32mfinally\u001b[0m\u001b[0;34m:\u001b[0m\u001b[0;34m\u001b[0m\u001b[0;34m\u001b[0m\u001b[0m\n\u001b[1;32m    179\u001b[0m             \u001b[0;32mif\u001b[0m \u001b[0mgcold\u001b[0m\u001b[0;34m:\u001b[0m\u001b[0;34m\u001b[0m\u001b[0;34m\u001b[0m\u001b[0m\n",
            "\u001b[0;32m/usr/lib/python3.7/timeit.py\u001b[0m in \u001b[0;36minner\u001b[0;34m(_it, _timer)\u001b[0m\n",
            "\u001b[0;32m<ipython-input-87-f39714cdf9bf>\u001b[0m in \u001b[0;36mR_Select\u001b[0;34m(A, min, max, i)\u001b[0m\n\u001b[1;32m     18\u001b[0m   \u001b[0;32melif\u001b[0m \u001b[0mi\u001b[0m \u001b[0;34m<\u001b[0m \u001b[0mk\u001b[0m\u001b[0;34m:\u001b[0m\u001b[0;34m\u001b[0m\u001b[0;34m\u001b[0m\u001b[0m\n\u001b[1;32m     19\u001b[0m     \u001b[0mcont\u001b[0m \u001b[0;34m+=\u001b[0m \u001b[0;36m1\u001b[0m\u001b[0;34m\u001b[0m\u001b[0;34m\u001b[0m\u001b[0m\n\u001b[0;32m---> 20\u001b[0;31m     \u001b[0;32mreturn\u001b[0m \u001b[0mR_Select\u001b[0m\u001b[0;34m(\u001b[0m\u001b[0mA\u001b[0m\u001b[0;34m,\u001b[0m\u001b[0mmin\u001b[0m\u001b[0;34m,\u001b[0m\u001b[0mpiv\u001b[0m\u001b[0;34m-\u001b[0m\u001b[0;36m1\u001b[0m\u001b[0;34m,\u001b[0m\u001b[0mi\u001b[0m\u001b[0;34m)\u001b[0m\u001b[0;34m\u001b[0m\u001b[0;34m\u001b[0m\u001b[0m\n\u001b[0m\u001b[1;32m     21\u001b[0m   \u001b[0;32melse\u001b[0m\u001b[0;34m:\u001b[0m\u001b[0;34m\u001b[0m\u001b[0;34m\u001b[0m\u001b[0m\n\u001b[1;32m     22\u001b[0m     \u001b[0mcont\u001b[0m \u001b[0;34m+=\u001b[0m \u001b[0;36m1\u001b[0m\u001b[0;34m\u001b[0m\u001b[0;34m\u001b[0m\u001b[0m\n",
            "\u001b[0;32m<ipython-input-87-f39714cdf9bf>\u001b[0m in \u001b[0;36mR_Select\u001b[0;34m(A, min, max, i)\u001b[0m\n\u001b[1;32m     21\u001b[0m   \u001b[0;32melse\u001b[0m\u001b[0;34m:\u001b[0m\u001b[0;34m\u001b[0m\u001b[0;34m\u001b[0m\u001b[0m\n\u001b[1;32m     22\u001b[0m     \u001b[0mcont\u001b[0m \u001b[0;34m+=\u001b[0m \u001b[0;36m1\u001b[0m\u001b[0;34m\u001b[0m\u001b[0;34m\u001b[0m\u001b[0m\n\u001b[0;32m---> 23\u001b[0;31m     \u001b[0;32mreturn\u001b[0m \u001b[0mR_Select\u001b[0m\u001b[0;34m(\u001b[0m\u001b[0ma\u001b[0m\u001b[0;34m,\u001b[0m\u001b[0mpiv\u001b[0m\u001b[0;34m+\u001b[0m\u001b[0;36m1\u001b[0m\u001b[0;34m,\u001b[0m\u001b[0mmax\u001b[0m\u001b[0;34m,\u001b[0m\u001b[0mi\u001b[0m\u001b[0;34m)\u001b[0m\u001b[0;34m\u001b[0m\u001b[0;34m\u001b[0m\u001b[0m\n\u001b[0m",
            "\u001b[0;32m<ipython-input-87-f39714cdf9bf>\u001b[0m in \u001b[0;36mR_Select\u001b[0;34m(A, min, max, i)\u001b[0m\n\u001b[1;32m     21\u001b[0m   \u001b[0;32melse\u001b[0m\u001b[0;34m:\u001b[0m\u001b[0;34m\u001b[0m\u001b[0;34m\u001b[0m\u001b[0m\n\u001b[1;32m     22\u001b[0m     \u001b[0mcont\u001b[0m \u001b[0;34m+=\u001b[0m \u001b[0;36m1\u001b[0m\u001b[0;34m\u001b[0m\u001b[0;34m\u001b[0m\u001b[0m\n\u001b[0;32m---> 23\u001b[0;31m     \u001b[0;32mreturn\u001b[0m \u001b[0mR_Select\u001b[0m\u001b[0;34m(\u001b[0m\u001b[0ma\u001b[0m\u001b[0;34m,\u001b[0m\u001b[0mpiv\u001b[0m\u001b[0;34m+\u001b[0m\u001b[0;36m1\u001b[0m\u001b[0;34m,\u001b[0m\u001b[0mmax\u001b[0m\u001b[0;34m,\u001b[0m\u001b[0mi\u001b[0m\u001b[0;34m)\u001b[0m\u001b[0;34m\u001b[0m\u001b[0;34m\u001b[0m\u001b[0m\n\u001b[0m",
            "\u001b[0;32m<ipython-input-87-f39714cdf9bf>\u001b[0m in \u001b[0;36mR_Select\u001b[0;34m(A, min, max, i)\u001b[0m\n\u001b[1;32m     10\u001b[0m     \u001b[0;32mreturn\u001b[0m \u001b[0mA\u001b[0m\u001b[0;34m[\u001b[0m\u001b[0mmin\u001b[0m\u001b[0;34m]\u001b[0m\u001b[0;34m\u001b[0m\u001b[0;34m\u001b[0m\u001b[0m\n\u001b[1;32m     11\u001b[0m \u001b[0;34m\u001b[0m\u001b[0m\n\u001b[0;32m---> 12\u001b[0;31m   \u001b[0mpiv\u001b[0m \u001b[0;34m=\u001b[0m \u001b[0mR_Partition\u001b[0m\u001b[0;34m(\u001b[0m\u001b[0mA\u001b[0m\u001b[0;34m,\u001b[0m\u001b[0mmin\u001b[0m\u001b[0;34m,\u001b[0m\u001b[0mmax\u001b[0m\u001b[0;34m)\u001b[0m\u001b[0;34m\u001b[0m\u001b[0;34m\u001b[0m\u001b[0m\n\u001b[0m\u001b[1;32m     13\u001b[0m   \u001b[0mk\u001b[0m \u001b[0;34m=\u001b[0m \u001b[0mpiv\u001b[0m \u001b[0;34m-\u001b[0m \u001b[0mmin\u001b[0m \u001b[0;34m+\u001b[0m \u001b[0;36m1\u001b[0m\u001b[0;34m\u001b[0m\u001b[0;34m\u001b[0m\u001b[0m\n\u001b[1;32m     14\u001b[0m \u001b[0;34m\u001b[0m\u001b[0m\n",
            "\u001b[0;32m<ipython-input-87-f39714cdf9bf>\u001b[0m in \u001b[0;36mR_Partition\u001b[0;34m(A, min, max)\u001b[0m\n\u001b[1;32m      1\u001b[0m \u001b[0mcont\u001b[0m \u001b[0;34m=\u001b[0m \u001b[0;36m0\u001b[0m\u001b[0;34m\u001b[0m\u001b[0;34m\u001b[0m\u001b[0m\n\u001b[1;32m      2\u001b[0m \u001b[0;32mdef\u001b[0m \u001b[0mR_Partition\u001b[0m\u001b[0;34m(\u001b[0m\u001b[0mA\u001b[0m\u001b[0;34m,\u001b[0m\u001b[0mmin\u001b[0m\u001b[0;34m,\u001b[0m\u001b[0mmax\u001b[0m\u001b[0;34m)\u001b[0m\u001b[0;34m:\u001b[0m\u001b[0;34m\u001b[0m\u001b[0;34m\u001b[0m\u001b[0m\n\u001b[0;32m----> 3\u001b[0;31m   \u001b[0mi\u001b[0m \u001b[0;34m=\u001b[0m \u001b[0mrandom\u001b[0m\u001b[0;34m.\u001b[0m\u001b[0mrandint\u001b[0m\u001b[0;34m(\u001b[0m\u001b[0mmin\u001b[0m\u001b[0;34m,\u001b[0m\u001b[0mmax\u001b[0m\u001b[0;34m)\u001b[0m\u001b[0;34m\u001b[0m\u001b[0;34m\u001b[0m\u001b[0m\n\u001b[0m\u001b[1;32m      4\u001b[0m   \u001b[0;34m(\u001b[0m\u001b[0mA\u001b[0m\u001b[0;34m[\u001b[0m\u001b[0mmax\u001b[0m\u001b[0;34m]\u001b[0m\u001b[0;34m,\u001b[0m \u001b[0mA\u001b[0m\u001b[0;34m[\u001b[0m\u001b[0mi\u001b[0m\u001b[0;34m]\u001b[0m\u001b[0;34m)\u001b[0m \u001b[0;34m=\u001b[0m \u001b[0;34m(\u001b[0m\u001b[0mA\u001b[0m\u001b[0;34m[\u001b[0m\u001b[0mi\u001b[0m\u001b[0;34m]\u001b[0m\u001b[0;34m,\u001b[0m\u001b[0mA\u001b[0m\u001b[0;34m[\u001b[0m\u001b[0mmax\u001b[0m\u001b[0;34m]\u001b[0m\u001b[0;34m)\u001b[0m\u001b[0;34m\u001b[0m\u001b[0;34m\u001b[0m\u001b[0m\n\u001b[1;32m      5\u001b[0m   \u001b[0;32mreturn\u001b[0m \u001b[0mpartition\u001b[0m\u001b[0;34m(\u001b[0m\u001b[0mA\u001b[0m\u001b[0;34m,\u001b[0m\u001b[0mmin\u001b[0m\u001b[0;34m,\u001b[0m\u001b[0mmax\u001b[0m\u001b[0;34m)\u001b[0m\u001b[0;34m\u001b[0m\u001b[0;34m\u001b[0m\u001b[0m\n",
            "\u001b[0;32m/usr/lib/python3.7/random.py\u001b[0m in \u001b[0;36mrandint\u001b[0;34m(self, a, b)\u001b[0m\n\u001b[1;32m    220\u001b[0m         \"\"\"\n\u001b[1;32m    221\u001b[0m \u001b[0;34m\u001b[0m\u001b[0m\n\u001b[0;32m--> 222\u001b[0;31m         \u001b[0;32mreturn\u001b[0m \u001b[0mself\u001b[0m\u001b[0;34m.\u001b[0m\u001b[0mrandrange\u001b[0m\u001b[0;34m(\u001b[0m\u001b[0ma\u001b[0m\u001b[0;34m,\u001b[0m \u001b[0mb\u001b[0m\u001b[0;34m+\u001b[0m\u001b[0;36m1\u001b[0m\u001b[0;34m)\u001b[0m\u001b[0;34m\u001b[0m\u001b[0;34m\u001b[0m\u001b[0m\n\u001b[0m\u001b[1;32m    223\u001b[0m \u001b[0;34m\u001b[0m\u001b[0m\n\u001b[1;32m    224\u001b[0m     def _randbelow(self, n, int=int, maxsize=1<<BPF, type=type,\n",
            "\u001b[0;32m/usr/lib/python3.7/random.py\u001b[0m in \u001b[0;36mrandrange\u001b[0;34m(self, start, stop, step, _int)\u001b[0m\n\u001b[1;32m    198\u001b[0m             \u001b[0;32mreturn\u001b[0m \u001b[0mistart\u001b[0m \u001b[0;34m+\u001b[0m \u001b[0mself\u001b[0m\u001b[0;34m.\u001b[0m\u001b[0m_randbelow\u001b[0m\u001b[0;34m(\u001b[0m\u001b[0mwidth\u001b[0m\u001b[0;34m)\u001b[0m\u001b[0;34m\u001b[0m\u001b[0;34m\u001b[0m\u001b[0m\n\u001b[1;32m    199\u001b[0m         \u001b[0;32mif\u001b[0m \u001b[0mstep\u001b[0m \u001b[0;34m==\u001b[0m \u001b[0;36m1\u001b[0m\u001b[0;34m:\u001b[0m\u001b[0;34m\u001b[0m\u001b[0;34m\u001b[0m\u001b[0m\n\u001b[0;32m--> 200\u001b[0;31m             \u001b[0;32mraise\u001b[0m \u001b[0mValueError\u001b[0m\u001b[0;34m(\u001b[0m\u001b[0;34m\"empty range for randrange() (%d,%d, %d)\"\u001b[0m \u001b[0;34m%\u001b[0m \u001b[0;34m(\u001b[0m\u001b[0mistart\u001b[0m\u001b[0;34m,\u001b[0m \u001b[0mistop\u001b[0m\u001b[0;34m,\u001b[0m \u001b[0mwidth\u001b[0m\u001b[0;34m)\u001b[0m\u001b[0;34m)\u001b[0m\u001b[0;34m\u001b[0m\u001b[0;34m\u001b[0m\u001b[0m\n\u001b[0m\u001b[1;32m    201\u001b[0m \u001b[0;34m\u001b[0m\u001b[0m\n\u001b[1;32m    202\u001b[0m         \u001b[0;31m# Non-unit step argument supplied.\u001b[0m\u001b[0;34m\u001b[0m\u001b[0;34m\u001b[0m\u001b[0;34m\u001b[0m\u001b[0m\n",
            "\u001b[0;31mValueError\u001b[0m: empty range for randrange() (6,6, 0)"
          ]
        }
      ]
    }
  ]
}