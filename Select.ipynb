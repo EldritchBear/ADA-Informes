{
  "nbformat": 4,
  "nbformat_minor": 0,
  "metadata": {
    "colab": {
      "provenance": [],
      "authorship_tag": "ABX9TyP6V/ebGfWp6iihzDmMgSxI",
      "include_colab_link": true
    },
    "kernelspec": {
      "name": "python3",
      "display_name": "Python 3"
    },
    "language_info": {
      "name": "python"
    }
  },
  "cells": [
    {
      "cell_type": "markdown",
      "metadata": {
        "id": "view-in-github",
        "colab_type": "text"
      },
      "source": [
        "<a href=\"https://colab.research.google.com/github/EldritchBear/ADA-Informes/blob/main/Select.ipynb\" target=\"_parent\"><img src=\"https://colab.research.google.com/assets/colab-badge.svg\" alt=\"Open In Colab\"/></a>"
      ]
    },
    {
      "cell_type": "markdown",
      "source": [
        "# 1. Descripción del problema\n",
        "\n",
        "La estadística de orden es una herramienta fundamental de la estadística no paramétrica y de inferencia que busca encontrar el elemento más pequeño en una muestra de datos, siendo este llamado estadístico de orden.\n",
        "\n",
        "La reducción de problemas se basa en reutilizar soluciones de un problema similar al que se quiere resolver, transformando un problema nuevo en uno que yá se encuentra resuelto, lo que nos puede demostrar que el problema que se buscaba resolver no era más complicado que el resuelto con anterioridad.\n",
        "\n",
        "Entrada: El algoritmo recibe un conjunto con n números y un índice $i$ que es el elemento a buscar.\n",
        "\n",
        "Salida: El elemento llamado estadístico de orden i-ésimo, el cual es mayor a $i-1$ elementos del conjunto de datos.\n",
        "\n"
      ],
      "metadata": {
        "id": "cfQ7VHPav4ut"
      }
    },
    {
      "cell_type": "markdown",
      "source": [
        "#2. Descripción del algoritmo\n",
        "\n",
        "El algoritmo recibe un arreglo de n elementos junto a un indice $i$ el cual es el estadístico de orden que se quiere buscar.\n",
        "\n",
        "1. El arreglo se divide en subarreglos de 5 elementos cada uno.\n",
        "\n",
        "2. Cada subarreglo se ordena utilizando $Insertion Sort$.\n",
        "\n",
        "3. Se calcula la mediana de cada subarreglo y se guardan en otro subarreglo.\n",
        "\n",
        "4. Se ordena el subarreglo de medianas utilizando el $Insertion Sort$ para luego calcular la mediana de este.\n",
        "\n",
        "5. Utilizando la mediana de las medianas se particiona el arreglo original, dejando elementos menores o iguales al pivote o mediana a la izquierda y los mayores a la derecha.\n",
        "\n",
        "6. Se compara el orden estadístico entre el pivote y el elemento a busca, si el elemento es menor se busca en la partición izquierda, si es igual se retorna el pivote, y si el elemento es mayor se busca en la partición derecha.\n",
        "\n",
        "El algoritmo al ser recursivo se va a estar llamando continuamente hasta que llegue al caso en que el pivote y el i-ésimo elemento que se buscaban tengan el mismo orden, esto se puede ver en el paso 6, que es donde se revisa si se retorna el pivote o se sigue buscando recursivamente. Se puede observar que el algoritmo solo necesita el arreglo original al buscar el mejor pivote, o en otras palabras, la mediana de las medianas, puesto que luego al momento de buscar el i-ésimo valor solo se usan particiones del arreglo original, lo que podría significar un tiempo de ejecución de $O(nlogn)$.\n"
      ],
      "metadata": {
        "id": "NZBXN5Nd_QrA"
      }
    },
    {
      "cell_type": "code",
      "execution_count": null,
      "metadata": {
        "id": "TS1-c4t4v2mn"
      },
      "outputs": [],
      "source": [
        "def partition(arreglo,low,high):\n",
        "  piv = arreglo[high]\n",
        "  i = low - 1\n",
        "\n",
        "  for j in range(low, high):\n",
        "    if arreglo[j] <= piv:\n",
        "      i += 1\n",
        "      arreglo[i], arreglo[j] = arreglo[j], arreglo[i]\n",
        "\n",
        "  arreglo[i+1], arreglo[high] = arreglo[high], arreglo[i+1]\n",
        "  return i+1"
      ]
    },
    {
      "cell_type": "code",
      "source": [
        "def pivotSelect(arreglo, low, high):\n",
        "  cant = int((high-low+1)/5)\n"
      ],
      "metadata": {
        "id": "MjJrmb3dKbF0"
      },
      "execution_count": null,
      "outputs": []
    },
    {
      "cell_type": "code",
      "source": [
        "def select(arreglo, low, high, i):\n",
        "  if (low == high):\n",
        "    return arreglo[low]\n",
        "  q = pivotSelect(arreglo, low, high)\n",
        "  k = q - low + 1\n",
        "\n",
        "  if i == k:\n",
        "    return arreglo[q]\n",
        "  elif i < k:\n",
        "    return select(arreglo, low, q-1, i)\n",
        "  else:\n",
        "    return select(arreglo, q+1, high, i-k)  "
      ],
      "metadata": {
        "id": "qgal09OMJlJM"
      },
      "execution_count": null,
      "outputs": []
    }
  ]
}