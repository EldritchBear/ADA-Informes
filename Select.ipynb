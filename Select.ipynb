{
  "nbformat": 4,
  "nbformat_minor": 0,
  "metadata": {
    "colab": {
      "provenance": [],
      "collapsed_sections": [],
      "authorship_tag": "ABX9TyOfkY/jFxGeWjSPbJkVzEgR",
      "include_colab_link": true
    },
    "kernelspec": {
      "name": "python3",
      "display_name": "Python 3"
    },
    "language_info": {
      "name": "python"
    }
  },
  "cells": [
    {
      "cell_type": "markdown",
      "metadata": {
        "id": "view-in-github",
        "colab_type": "text"
      },
      "source": [
        "<a href=\"https://colab.research.google.com/github/EldritchBear/ADA-Informes/blob/main/Select.ipynb\" target=\"_parent\"><img src=\"https://colab.research.google.com/assets/colab-badge.svg\" alt=\"Open In Colab\"/></a>"
      ]
    },
    {
      "cell_type": "markdown",
      "source": [
        "# 1. Descripción del problema\n",
        "\n",
        "La estadística de orden es una herramienta fundamental de la estadística no paramétrica y de inferencia que busca encontrar el elemento más pequeño en una muestra de datos, siendo este llamado estadístico de orden.\n",
        "\n",
        "La reducción de problemas se basa en reutilizar soluciones de un problema similar al que se quiere resolver, transformando un problema nuevo en uno que yá se encuentra resuelto, lo que nos puede demostrar que el problema que se buscaba resolver no era más complicado que el resuelto con anterioridad.\n",
        "\n",
        "Entrada: El algoritmo recibe un conjunto con n números y un índice $i$ que es el elemento a buscar.\n",
        "\n",
        "Salida: El elemento llamado estadístico de orden i-ésimo, el cual es mayor a $i-1$ elementos del conjunto de datos.\n",
        "\n"
      ],
      "metadata": {
        "id": "cfQ7VHPav4ut"
      }
    },
    {
      "cell_type": "markdown",
      "source": [
        "#2. Descripción del algoritmo\n",
        "\n",
        "El algoritmo recibe un arreglo de n elementos junto a un indice $i$ el cual es el estadístico de orden que se quiere buscar.\n",
        "\n",
        "1. El arreglo se divide en subarreglos de 5 elementos cada uno.\n",
        "\n",
        "2. Cada subarreglo se ordena utilizando $Insertion Sort$.\n",
        "\n",
        "3. Se calcula la mediana de cada subarreglo y se guardan en otro subarreglo.\n",
        "\n",
        "4. Se ordena el subarreglo de medianas utilizando el $Insertion Sort$ para luego calcular la mediana de este.\n",
        "\n",
        "5. Utilizando la mediana de las medianas se particiona el arreglo original, dejando elementos menores o iguales al pivote o mediana a la izquierda y los mayores a la derecha.\n",
        "\n",
        "6. Se compara el orden estadístico entre el pivote y el elemento a busca, si el elemento es menor se busca en la partición izquierda, si es igual se retorna el pivote, y si el elemento es mayor se busca en la partición derecha.\n",
        "\n",
        "El algoritmo al ser recursivo se va a estar llamando continuamente hasta que llegue al caso en que el pivote y el i-ésimo elemento que se buscaban tengan el mismo orden, esto se puede ver en el paso 6, que es donde se revisa si se retorna el pivote o se sigue buscando recursivamente. Se puede observar que el algoritmo solo necesita el arreglo original al buscar el mejor pivote, o en otras palabras, la mediana de las medianas, puesto que luego al momento de buscar el i-ésimo valor solo se usan particiones del arreglo original, lo que podría significar un tiempo de ejecución de $O(nlogn)$.\n"
      ],
      "metadata": {
        "id": "NZBXN5Nd_QrA"
      }
    },
    {
      "cell_type": "code",
      "source": [
        "def insertionSort(arreglo):\n",
        "  n = len(arreglo)\n",
        "  \n",
        "  for i in range(0,n):\n",
        "    dato = arreglo[i]\n",
        "    while (i > 0 and arreglo[i-1] > dato):\n",
        "      arreglo[i] = arreglo[i-1]\n",
        "      i = i - 1\n",
        "      arreglo[i] = dato\n",
        "  return arreglo"
      ],
      "metadata": {
        "id": "-u1JBhzFiLK9"
      },
      "execution_count": 13,
      "outputs": []
    },
    {
      "cell_type": "code",
      "execution_count": 316,
      "metadata": {
        "id": "TS1-c4t4v2mn"
      },
      "outputs": [],
      "source": [
        "def partition(arreglo,low,high):\n",
        "  if verbose:\n",
        "    print(\"entrando a función partition\")\n",
        "\n",
        "  piv = arreglo[high]\n",
        "  i = low - 1\n",
        "\n",
        "  for j in range(low, high):\n",
        "    if arreglo[j] <= piv:\n",
        "      i += 1\n",
        "      arreglo[i], arreglo[j] = arreglo[j], arreglo[i]\n",
        "\n",
        "  arreglo[i+1], arreglo[high] = arreglo[high], arreglo[i+1]\n",
        "\n",
        "  if verbose:\n",
        "    print(\"saliendo de función partition con pivote igual a: \", i+1)\n",
        "\n",
        "  return i+1"
      ]
    },
    {
      "cell_type": "code",
      "source": [
        "import math\n",
        "cont = 0\n",
        "\n",
        "def pivotSelect(arreglo, low, high):\n",
        "  global cont\n",
        "  cant = math.ceil((high-low+1)/5)\n",
        "  medianas = []\n",
        "\n",
        "  for k in range(cant):\n",
        "    auxLow = low + 5*k\n",
        "    auxHigh = low + 4 + 5*k\n",
        "    if (auxHigh > high):\n",
        "      auxHigh = high\n",
        "  \n",
        "    arreglo[auxLow:auxHigh+1] = insertionSort(arreglo[auxLow:auxHigh+1])\n",
        "    medianas.append((auxHigh + auxLow)//2)\n",
        "  \n",
        "  medianas = insertionSort(medianas)\n",
        "  n = len(medianas)\n",
        "  pivote = select(medianas, 0, n-1, n//2, verbose)\n",
        "  cont += 1\n",
        "\n",
        "  for k in range(cant):\n",
        "    if pivote == arreglo[k]:\n",
        "      pivote = k\n",
        "\n",
        "  if verbose:\n",
        "    print(\"mediana de medianas: \",pivote)\n",
        "\n",
        "  arreglo[auxHigh-1], arreglo[pivote] = arreglo[pivote], arreglo[auxHigh-1]\n",
        "  \n",
        "  return partition(arreglo,low,high)\n"
      ],
      "metadata": {
        "id": "MjJrmb3dKbF0"
      },
      "execution_count": 331,
      "outputs": []
    },
    {
      "cell_type": "code",
      "source": [
        "def select(arreglo, low, high, i, verbose):\n",
        "  if (low == high or len(arreglo) == 0 or len(arreglo) == 1):\n",
        "    return arreglo[low]\n",
        "\n",
        "  if verbose:\n",
        "    print(\"\\n\")\n",
        "    print(\"arreglo entrando al select: \",arreglo)\n",
        "\n",
        "  q = pivotSelect(arreglo, low, high)\n",
        "  k = q - low + 1\n",
        "\n",
        "  if verbose:\n",
        "    print(\"estadístico de orden: \",k)\n",
        "\n",
        "  if i == k:\n",
        "    return arreglo[q]\n",
        "  elif i < k:\n",
        "    return select(arreglo, low, q-1, i, verbose)\n",
        "  else:\n",
        "    return select(arreglo, q+1, high, i-k, verbose)  "
      ],
      "metadata": {
        "id": "qgal09OMJlJM"
      },
      "execution_count": 322,
      "outputs": []
    },
    {
      "cell_type": "code",
      "source": [
        "arreglo = [3, 7, 8, 1, 4, 6, 9, 5]\n",
        "i = int(input(\"ingrese elemento \"))\n",
        "n = len(arreglo)\n",
        "print(arreglo)\n",
        "verbose = False\n",
        "a = select(arreglo,0,n-1,i, verbose)\n",
        "print(a)"
      ],
      "metadata": {
        "colab": {
          "base_uri": "https://localhost:8080/"
        },
        "id": "i-EycGSejnjS",
        "outputId": "183657eb-a70a-41db-cec0-66be679382ee"
      },
      "execution_count": 332,
      "outputs": [
        {
          "output_type": "stream",
          "name": "stdout",
          "text": [
            "ingrese elemento 6\n",
            "[3, 7, 8, 1, 4, 6, 9, 5]\n",
            "7\n"
          ]
        }
      ]
    },
    {
      "cell_type": "code",
      "source": [
        "arreglo = [3, 7, 8, 1, 4, 6, 9, 5]\n",
        "i = int(input(\"ingrese elemento \"))\n",
        "n = len(arreglo)\n",
        "print(\"arreglo original: \",arreglo)\n",
        "verbose = True\n",
        "a = select(arreglo,0,n-1,i, verbose)\n",
        "print(\"\\n\")\n",
        "print(\"dato i-ésimo: \",a)\n",
        "print(\"cantidad de comparaciones por funcion pivot selection: \", cont)\n",
        "cont = 0"
      ],
      "metadata": {
        "colab": {
          "base_uri": "https://localhost:8080/"
        },
        "id": "bc9A5HUieuGO",
        "outputId": "5ffce5ee-fd7e-4208-b4b9-957117d1645a"
      },
      "execution_count": 327,
      "outputs": [
        {
          "output_type": "stream",
          "name": "stdout",
          "text": [
            "ingrese elemento 6\n",
            "arreglo original:  [3, 7, 8, 1, 4, 6, 9, 5]\n",
            "\n",
            "\n",
            "arreglo entrando al select:  [3, 7, 8, 1, 4, 6, 9, 5]\n",
            "\n",
            "\n",
            "arreglo entrando al select:  [4, 6]\n",
            "mediana de medianas:  0\n",
            "entrando a función partition\n",
            "saliendo de función partition con pivote igual a:  1\n",
            "estadístico de orden:  2\n",
            "mediana de medianas:  4\n",
            "entrando a función partition\n",
            "saliendo de función partition con pivote igual a:  7\n",
            "estadístico de orden:  8\n",
            "\n",
            "\n",
            "arreglo entrando al select:  [1, 3, 4, 7, 6, 5, 8, 9]\n",
            "\n",
            "\n",
            "arreglo entrando al select:  [4, 5]\n",
            "mediana de medianas:  0\n",
            "entrando a función partition\n",
            "saliendo de función partition con pivote igual a:  1\n",
            "estadístico de orden:  2\n",
            "mediana de medianas:  4\n",
            "entrando a función partition\n",
            "saliendo de función partition con pivote igual a:  6\n",
            "estadístico de orden:  7\n",
            "\n",
            "\n",
            "arreglo entrando al select:  [1, 3, 4, 6, 5, 7, 8, 9]\n",
            "\n",
            "\n",
            "arreglo entrando al select:  [4, 7]\n",
            "mediana de medianas:  0\n",
            "entrando a función partition\n",
            "saliendo de función partition con pivote igual a:  1\n",
            "estadístico de orden:  2\n",
            "mediana de medianas:  4\n",
            "entrando a función partition\n",
            "saliendo de función partition con pivote igual a:  5\n",
            "estadístico de orden:  6\n",
            "\n",
            "\n",
            "dato i-ésimo:  7\n",
            "cantidad de comparaciones por funcion pivot selection:  6\n"
          ]
        }
      ]
    },
    {
      "cell_type": "markdown",
      "source": [
        "# Tiempo de Ejecucción\n",
        "\n"
      ],
      "metadata": {
        "id": "xSQNjVNXiOtQ"
      }
    }
  ]
}