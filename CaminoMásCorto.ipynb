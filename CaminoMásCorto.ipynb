{
  "nbformat": 4,
  "nbformat_minor": 0,
  "metadata": {
    "colab": {
      "provenance": [],
      "authorship_tag": "ABX9TyMPIXUUsgwAchPm9j62WC7n",
      "include_colab_link": true
    },
    "kernelspec": {
      "name": "python3",
      "display_name": "Python 3"
    },
    "language_info": {
      "name": "python"
    }
  },
  "cells": [
    {
      "cell_type": "markdown",
      "metadata": {
        "id": "view-in-github",
        "colab_type": "text"
      },
      "source": [
        "<a href=\"https://colab.research.google.com/github/EldritchBear/ADA-Informes/blob/main/CaminoM%C3%A1sCorto.ipynb\" target=\"_parent\"><img src=\"https://colab.research.google.com/assets/colab-badge.svg\" alt=\"Open In Colab\"/></a>"
      ]
    },
    {
      "cell_type": "markdown",
      "source": [
        "#1. Descripción del problema\n",
        "\n",
        "El problema del camino más corto busca encontrar la distancia más corta desde un nodo **v** a un nodo **w**. Dependiendo del tipo de gráfo, si este contiene arcos negativos o no, va a tener que resolverse mediante un algoritmo u otro, en este informe se implementara el algoritmo de **Dijkstra**, el cual solo sirve para gráfos con arcos positivos, mientras que el algoritmo **Bellman-Ford** soporta arcos tanto negativos como positivos.\n",
        "\n",
        "**Entrada:** Un grafo dirigido $G = (V,E)$ con valores asociados a sus arcos y su vertice fuente \"v\".\n",
        "\n",
        "**Salida:** Se retorna la distancia más corta para cada vértice \"v\" o en caso de que el gráfo contenga un ciclo negativo el algoritmo lo reconocerá y detendrá la ejecucción."
      ],
      "metadata": {
        "id": "QrQKnLJxIM5z"
      }
    },
    {
      "cell_type": "markdown",
      "source": [
        "#2. Descripción del algoritmo\n",
        "\n",
        "El algoritmo de **Bellman-Ford** funciona de la siguiente manera:\n",
        "\n",
        "1. Se inicializa un arreglo de distancias de tamaño **V** con todos los valores menos el del nodo fuente como **infinito**\n",
        "\n",
        "2. Se comienza a calcular la distancia entre los nodos, esto se realiza según la función de recurrencia, la cual es:\n",
        "\n",
        "  $L_{i,v} =\n",
        "  \\min \\left\\{\n",
        "  \\begin{array}{cc}\n",
        "  L_{i-1,v} & \\text{(Caso 1)} \\\\\n",
        "  \\min\\limits_{(w,v)\\in E} \\{L_{i-1,w}+l+{wv}\\} & \\text{(Caso 2)}\n",
        "          \\end{array}\n",
        "  \\right\\}$\n",
        "\n",
        "3. Si el algoritmo detecta un ciclo negativo se muestra por pantalla que se encontró un ciclo y se detiene el algoritmo. El algoritmo detecta un ciclo negativo si $dist[v] > dist[u] + arco uv$.\n",
        "\n",
        "4. Si el algoritmo no encontro un ciclo negativo se muestra la distancia minima de cada nodo.\n",
        "\n",
        "\n",
        "El algoritmo de **Dijkstra** funciona de la siguiente forma:\n",
        "\n",
        "1.  Se inicializa un arreglo de tamaño **V** con valores infinitos.\n",
        "\n",
        "2.  Se elige un nodo que no esté en el conjunto y tenga valor de distancia mínimo, este valor es luego ingresado al conjunto. \n",
        "\n",
        "3. Se comienzan a iterar sobre los nodos adyacentes actualizando los valores los valores de distancia de cada uno.\n",
        "\n",
        "4. Finalmente se retorna la lista con los valores."
      ],
      "metadata": {
        "id": "dNGQ5Q5lIOPn"
      }
    },
    {
      "cell_type": "code",
      "execution_count": null,
      "metadata": {
        "id": "XtovMiDOIKo9"
      },
      "outputs": [],
      "source": [
        "import matplotlib.pyplot as plt\n",
        "\n",
        "def bellmanFord(array,v,e,s):\n",
        "  L = float(\"inf\") * v                                                          #se inicializa la lista de distancias\n",
        "  l[s] = 0\n",
        "\n",
        "  for i in range(v-1):                                                          #se recorren los nodos y sus arcos calculando la distancia de los nodos aplicando la\n",
        "    for j in range(e):                                                          #funcion de recurrencia\n",
        "      if L[lista[j][0]] + lista[j][2] < L[lista[j][1]]:\n",
        "        L[lista[j][1]] = L[lista[j][0]] + lista[j][2]\n",
        "\n",
        "  for i in range(e):                                                            #se busca el peso entre dos nodos \n",
        "    x = lista[i][0]\n",
        "    y = lista[i][1]\n",
        "    aux = lista[i][2]\n",
        "    if dis[x] != float(\"inf\") and dis[x] + aux < dis[y]                         #se verifica si se encuentra un ciclo negativo\n",
        "      print(\"se ha encontrado un ciclo negativo\")\n",
        "      return"
      ]
    },
    {
      "cell_type": "code",
      "source": [],
      "metadata": {
        "id": "mGfEvogbbgvJ"
      },
      "execution_count": null,
      "outputs": []
    }
  ]
}