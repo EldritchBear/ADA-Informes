{
  "nbformat": 4,
  "nbformat_minor": 0,
  "metadata": {
    "colab": {
      "provenance": [],
      "authorship_tag": "ABX9TyMdTsSLblDQV90y0ScqMDci",
      "include_colab_link": true
    },
    "kernelspec": {
      "name": "python3",
      "display_name": "Python 3"
    },
    "language_info": {
      "name": "python"
    }
  },
  "cells": [
    {
      "cell_type": "markdown",
      "metadata": {
        "id": "view-in-github",
        "colab_type": "text"
      },
      "source": [
        "<a href=\"https://colab.research.google.com/github/EldritchBear/ADA-Informes/blob/main/CaminoM%C3%A1sCorto.ipynb\" target=\"_parent\"><img src=\"https://colab.research.google.com/assets/colab-badge.svg\" alt=\"Open In Colab\"/></a>"
      ]
    },
    {
      "cell_type": "markdown",
      "source": [
        "#1. Descripción del problema\n",
        "\n",
        "El problema del camino más corto busca encontrar la distancia más corta desde un nodo **v** a un nodo **w**. Dependiendo del tipo de gráfo, si este contiene arcos negativos o no, va a tener que resolverse mediante un algoritmo u otro, en este informe se implementara el algoritmo de **Dijkstra**, el cual solo sirve para gráfos con arcos positivos, mientras que el algoritmo **Bellman-Ford** soporta arcos tanto negativos como positivos.\n",
        "\n",
        "**Entrada:** Un grafo dirigido $G = (V,E)$ con valores asociados a sus arcos y su vertice fuente \"v\".\n",
        "\n",
        "**Salida:** Se retorna la distancia más corta para cada vértice \"v\" o en caso de que el gráfo contenga un ciclo negativo el algoritmo lo reconocerá y detendrá la ejecucción."
      ],
      "metadata": {
        "id": "QrQKnLJxIM5z"
      }
    },
    {
      "cell_type": "markdown",
      "source": [
        "#2. Descripción del algoritmo\n"
      ],
      "metadata": {
        "id": "dNGQ5Q5lIOPn"
      }
    },
    {
      "cell_type": "markdown",
      "source": [
        "##2.1 Algoritmo Bellman-Ford\n",
        "\n",
        "El algoritmo de **Bellman-Ford** funciona de la siguiente manera:\n",
        "\n",
        "1. Se inicializa un arreglo de distancias de tamaño **V** con todos los valores menos el del nodo fuente como **infinito**\n",
        "\n",
        "2. Se comienza a calcular la distancia entre los nodos, esto se realiza según la función de recurrencia, la cual es:\n",
        "\n",
        "  $L_{i,v} =\n",
        "  \\min \\left\\{\n",
        "  \\begin{array}{cc}\n",
        "  L_{i-1,v} & \\text{(Caso 1)} \\\\\n",
        "  \\min\\limits_{(w,v)\\in E} \\{L_{i-1,w}+l+{wv}\\} & \\text{(Caso 2)}\n",
        "          \\end{array}\n",
        "  \\right\\}$\n",
        "\n",
        "3. Si el algoritmo detecta un ciclo negativo se muestra por pantalla que se encontró un ciclo y se detiene el algoritmo. El algoritmo detecta un ciclo negativo si $dist[v] > dist[u] + arco uv$.\n",
        "\n",
        "4. Si el algoritmo no encontro un ciclo negativo se muestra la distancia minima de cada nodo."
      ],
      "metadata": {
        "id": "-mXFDS7fvkwM"
      }
    },
    {
      "cell_type": "markdown",
      "source": [
        "##2.2 Algoritmo de Dijkstra\n",
        "\n",
        "El algoritmo de **Dijkstra** funciona de la siguiente forma:\n",
        "\n",
        "1.  Se inicializa un arreglo de tamaño **V** con valores infinitos.\n",
        "\n",
        "2.  Se elige un nodo que no esté en el conjunto y tenga valor de distancia mínimo, este valor es luego ingresado al conjunto. \n",
        "\n",
        "3. Se comienzan a iterar sobre los nodos adyacentes actualizando los valores los valores de distancia de cada uno.\n",
        "\n",
        "4. Finalmente se retorna la lista con los valores."
      ],
      "metadata": {
        "id": "BwHkNtfzvps1"
      }
    },
    {
      "cell_type": "markdown",
      "source": [
        "##2.3 Implementación del algoritmo Bellman-Ford"
      ],
      "metadata": {
        "id": "DLwgrwfDvuUR"
      }
    },
    {
      "cell_type": "code",
      "source": [
        "import random\n",
        "\n",
        "def is_valid_edge(generated_edges: dict, i: int, j: int):\n",
        "    return i != j and not generated_edges.get((i, j), None) and not generated_edges.get((j, i), None)\n",
        "\n",
        "def instance_generator(n: int):\n",
        "    \"\"\"\n",
        "        Input: cantidad de vértices\n",
        "        Output: una lista que contiene todos los arcos y el número del vértice fuente (la función retorna dos variables).\n",
        "        Los arcos vienen en la forma (i, j, weight), donde i es el vértice origen del arco y j el vértice al que apunta el arco, mientras que weight es su peso.\n",
        "    \"\"\"\n",
        "    graph = []\n",
        "    nodes = random.sample(range(0, n), n)\n",
        "    unvisited_nodes = random.sample(range(0, n), n)\n",
        "    \n",
        "    generated_edges = {}\n",
        "    for i in nodes:\n",
        "        rand = random.sample(nodes, random.randint(1, 3))\n",
        "\n",
        "        for j in rand:\n",
        "            edge = (i, j)\n",
        "            edge_with_weight = (i, j, random.randint(1, 100))\n",
        "            \n",
        "            if generated_edges.get((edge[1], edge[0]), None):\n",
        "                continue\n",
        "            \n",
        "            if i == j:\n",
        "                new_vertice = None\n",
        "                iterations = 0\n",
        "                while new_vertice is None and iterations < 250:\n",
        "                    iterations += 1\n",
        "                    number = random.randint(0, n - 1)\n",
        "                    if is_valid_edge(generated_edges, i, number):\n",
        "                        new_vertice = number\n",
        "\n",
        "                if iterations >= 250:\n",
        "                    return instance_generator(n)\n",
        "                \n",
        "                edge = (i, new_vertice)\n",
        "                edge_with_weight = (i, new_vertice, random.randint(-25, 100)) # -25 y 100 corresponde a los límites de los pesos, puede cambiarlos.\n",
        "            \n",
        "            graph.append(edge_with_weight)\n",
        "            generated_edges[edge] = edge\n",
        "\n",
        "            if edge_with_weight[1] in unvisited_nodes:\n",
        "                unvisited_nodes.remove(edge_with_weight[1])\n",
        "\n",
        "    for i in unvisited_nodes:\n",
        "        valid_edge = False\n",
        "        iterations = 0\n",
        "        while not valid_edge and iterations < 250:\n",
        "            iterations += 1\n",
        "            m = random.randint(0, n - 1)\n",
        "            if is_valid_edge(generated_edges, m, i):\n",
        "                valid_edge = True\n",
        "                edge = (m, i)\n",
        "                edge_with_weight = (m, i, random.randint(-25, 100)) # -25 y 100 corresponde a los límites de los pesos, puede cambiarlos.\n",
        "                graph.append(edge_with_weight)\n",
        "                generated_edges[edge] = edge\n",
        "\n",
        "        if iterations >= 250:\n",
        "            return instance_generator(n)\n",
        "\n",
        "    return graph, graph[0][0]"
      ],
      "metadata": {
        "id": "L5hRF7orve6b"
      },
      "execution_count": 6,
      "outputs": []
    },
    {
      "cell_type": "code",
      "source": [
        "import networkx as nx\n",
        "\n",
        "\n",
        "def graph_to_nxdigraph(graph: list, n: int):\n",
        "    \"\"\"\n",
        "        Input: Un grafo en formato list[tuple]. Ej: [(0, 1, 10), (1, 2, 15), (2, 0, 7)].\n",
        "        Output: Un nx.DiGraph de la libreria networkx.\n",
        "    \"\"\"\n",
        "    nxdigraph = nx.DiGraph()\n",
        "    [nxdigraph.add_node(i) for i in range(n)]\n",
        "\n",
        "    for v in graph:\n",
        "        nxdigraph.add_edge(v[0], v[1], weight=v[2])\n",
        "\n",
        "    return nxdigraph"
      ],
      "metadata": {
        "id": "x1Oa5Y0jIZKt"
      },
      "execution_count": 7,
      "outputs": []
    },
    {
      "cell_type": "code",
      "execution_count": 112,
      "metadata": {
        "id": "XtovMiDOIKo9"
      },
      "outputs": [],
      "source": [
        "import matplotlib.pyplot as plt\n",
        "\n",
        "def bellmanFord(array,v,e,s,verbose):\n",
        "  L = [float(\"inf\")] * v                                                        #se inicializa la lista de distancias\n",
        "  L[s] = 0\n",
        "  flag = False\n",
        "\n",
        "  if verbose:\n",
        "    print(f\"se crea una lista de tamaño {v}\\n\")\n",
        "\n",
        "  for i in range(v-1):                                                          #se recorren los nodos y sus arcos calculando la distancia de los nodos aplicando la\n",
        "    for j in range(e):                                                          #funcion de recurrencia\n",
        "      if L[array[j][0]] + array[j][2] < L[array[j][1]]:\n",
        "        if verbose:\n",
        "          print(f\"se revisa si {L[array[j][0]] + array[j][2]} < {L[array[j][1]]}\")\n",
        "          print(\"se actualiza la distancia\")\n",
        "        L[array[j][1]] = L[array[j][0]] + array[j][2]\n",
        "\n",
        "  if verbose:\n",
        "    print(\"\\nse comprueba si existe un ciclo negativo\")\n",
        "\n",
        "  for i in range(e):                                                            #se busca el peso entre dos nodos \n",
        "    x = array[i][0]\n",
        "    y = array[i][1]\n",
        "    aux = array[i][2]\n",
        "    if L[x] != float(\"inf\") and L[x] + aux < L[y]:                              #se verifica si se encuentra un ciclo negativo\n",
        "      print(\"se ha encontrado un ciclo negativo\")\n",
        "      flag = True\n",
        "\n",
        "  if verbose == True and flag == False:\n",
        "    print(\"no se ha encontrado ciclo negativo\\n\")\n",
        "      \n",
        "  for i in range(v):\n",
        "    print(f\"Camino más corto desde el nodo {s} al nodo {i}: {L[i]}\")"
      ]
    },
    {
      "cell_type": "markdown",
      "source": [
        "### Implementación con verbose (y visualize)"
      ],
      "metadata": {
        "id": "H_S_p1KFdW08"
      }
    },
    {
      "cell_type": "code",
      "source": [
        "A,S = instance_generator(10)\n",
        "verbose = True\n",
        "bellmanFord(A,10,len(A),S,verbose)\n",
        "\n",
        "#visualize momento\n",
        "\n",
        "grafo = graph_to_nxdigraph(A,10)\n",
        "pos=nx.spring_layout(grafo,20)\n",
        "labels = nx.get_edge_attributes(grafo,'weight')\n",
        "nx.draw_networkx_edge_labels(grafo,pos,edge_labels=labels,font_size=14)\n",
        "nx.draw(grafo,pos, with_labels=True, node_size=800, font_color=\"white\", font_size=14, font_weight=\"black\", width  =2.0, edge_color =\"green\")"
      ],
      "metadata": {
        "id": "mGfEvogbbgvJ",
        "colab": {
          "base_uri": "https://localhost:8080/",
          "height": 699
        },
        "outputId": "7c54a531-3085-424e-bd2b-e4863e77047d"
      },
      "execution_count": 105,
      "outputs": [
        {
          "output_type": "stream",
          "name": "stdout",
          "text": [
            "se crea una lista de tamaño 10\n",
            "\n",
            "se revisa si 26 < inf\n",
            "se actualiza la distancia\n",
            "se revisa si 16 < inf\n",
            "se actualiza la distancia\n",
            "se revisa si 107 < inf\n",
            "se actualiza la distancia\n",
            "se revisa si 202 < inf\n",
            "se actualiza la distancia\n",
            "se revisa si 169 < inf\n",
            "se actualiza la distancia\n",
            "\n",
            "se comprueba si existe un ciclo negativo\n",
            "no se ha encontrado ciclo negativo\n",
            "\n",
            "Camino más corto desde el nodo 0 al nodo 0: 0\n",
            "Camino más corto desde el nodo 0 al nodo 1: inf\n",
            "Camino más corto desde el nodo 0 al nodo 2: 107\n",
            "Camino más corto desde el nodo 0 al nodo 3: 16\n",
            "Camino más corto desde el nodo 0 al nodo 4: inf\n",
            "Camino más corto desde el nodo 0 al nodo 5: 169\n",
            "Camino más corto desde el nodo 0 al nodo 6: 26\n",
            "Camino más corto desde el nodo 0 al nodo 7: 202\n",
            "Camino más corto desde el nodo 0 al nodo 8: inf\n",
            "Camino más corto desde el nodo 0 al nodo 9: inf\n"
          ]
        },
        {
          "output_type": "display_data",
          "data": {
            "text/plain": [
              "<Figure size 432x288 with 1 Axes>"
            ],
            "image/png": "[encoded data removed]"
          },
          "metadata": {}
        }
      ]
    },
    {
      "cell_type": "markdown",
      "source": [
        "###Implementación sin verbose"
      ],
      "metadata": {
        "id": "E4A9HcRadbY7"
      }
    },
    {
      "cell_type": "code",
      "source": [
        "grafo,fuente = instance_generator(10)\n",
        "verbose = False\n",
        "bellmanFord(grafo,10,len(A),fuente,verbose)"
      ],
      "metadata": {
        "colab": {
          "base_uri": "https://localhost:8080/"
        },
        "id": "YSPUNSNOZJjX",
        "outputId": "f9fc2e3e-8f01-42d3-b329-5f29c688867b"
      },
      "execution_count": 113,
      "outputs": [
        {
          "output_type": "stream",
          "name": "stdout",
          "text": [
            "Camino más corto desde el nodo 3 al nodo 0: 51\n",
            "Camino más corto desde el nodo 3 al nodo 1: inf\n",
            "Camino más corto desde el nodo 3 al nodo 2: 169\n",
            "Camino más corto desde el nodo 3 al nodo 3: 0\n",
            "Camino más corto desde el nodo 3 al nodo 4: inf\n",
            "Camino más corto desde el nodo 3 al nodo 5: 32\n",
            "Camino más corto desde el nodo 3 al nodo 6: 89\n",
            "Camino más corto desde el nodo 3 al nodo 7: 43\n",
            "Camino más corto desde el nodo 3 al nodo 8: inf\n",
            "Camino más corto desde el nodo 3 al nodo 9: 124\n"
          ]
        }
      ]
    },
    {
      "cell_type": "markdown",
      "source": [
        "##2.4 Implementación del algoritmo de Dijkstra"
      ],
      "metadata": {
        "id": "eBBSzonsdfbT"
      }
    },
    {
      "cell_type": "markdown",
      "source": [
        "#3. Tiempo de ejecución"
      ],
      "metadata": {
        "id": "DNe3mTBnjQWV"
      }
    },
    {
      "cell_type": "markdown",
      "source": [
        "##3.1 Algoritmo Bellman-Ford\n",
        "El algoritmo de Bellman-Ford tiene los siguientes tiempos de ejecuciones para los distintos casos:\n",
        "\n",
        "**Peor Caso:** En este caso el algoritmo toma una complejidad temporal de $O(n^3)$, esto se produce cuando en la primera iteración ya se calculó el camino más corto pero el algoritmo no se detiene y sigue con el analisis, lo que significa que la complejidad completa es de:\n",
        "\n",
        "$O(E*V) = O(V^2) * O(V)$\n",
        "\n",
        "donde $O(V^2)$ viene siendo de el algoritmo habiendo calculado en las primeras iteraciones el camino más corto pero continua con las iteraciones.\n",
        "\n",
        "**Caso Promedio:** El caso promedio viene dado por $O(E*V)$, osea la cantidad de nodos por la cantidad de vertices. Este caso nace de arreglar el problema que mantiene el peor caso, donde este luego de calcular el camino más corto este sigue iterando, en el caso promedio se verifica si se estan realizando cambios, en caso de que no se realicen cambios el algoritmo entiende que no existe un mejor camino más corto, por lo que termina con las iteraciones.\n",
        "\n",
        "**Mejor Caso:** El mejor caso viene dado por $O(E)$, esto sucede cuando los nodos toman un camino lineal, es decir cada nodo tiene solo un arco.\n",
        "\n",
        "**Complejidad Espacial:** $O(V)$, siendo esto la cantidad de nodos."
      ],
      "metadata": {
        "id": "HXTXg4SWd_6Z"
      }
    },
    {
      "cell_type": "markdown",
      "source": [
        "##3.2 Algoritmo de Dijkstra\n",
        "\n",
        "El algoritmo Dijkstra presenta una complejidad espacial de $O(V^2)$, esto se debe a que para visitar cada nodo y procesarlo ambos de estos procesos es de $O(V)$, por lo que finalmente tendriamos que:\n",
        "\n",
        "$O(V)*O(V) = O(V^2)$\n",
        "\n",
        "Al tener que visitar y procesar estos \"v\" nodos terminamos teniendo que la complejidad de este algoritmo es de $O(V^2)$.\n",
        "\n",
        "**Complejidad Espacial:** $O(V^2)$, esto se debe que el algoritmo de Dijkstra utiliza una matriz para ir almacenando los datos.\n"
      ],
      "metadata": {
        "id": "OexhKNl6i-Gw"
      }
    },
    {
      "cell_type": "markdown",
      "source": [
        "#4. Correctitud\n",
        "\n",
        "Si el algoritmo de Bellman-Ford recibe un grafo sin ciclos negativos este calcula correctamente su camino más corto.\n",
        "\n",
        "Esto puede ser demostrado mediante inducción.\n",
        "\n",
        "**Caso Base:** si k = 0 tenemos que $dist_{k}$ = 0 para V = S, esto es debido que el camino de un nodo a sí mismo es de 0.\n",
        "\n",
        "**Hipótesis Inductiva:** Despues de cada iteración \"i\", para cada nodo \"v\" se tiene que $dist(s,v)$ es el camino más corto.\n",
        "\n",
        "**Paso Inductivo:** Supongamos que la hipótesis se mantiene para \"i+1\"\n",
        "Sea u un nodo de v, asumiremos que existe una ruta más corta entre s y u, sea u el nodo anterior a v en esta ruta.\n",
        "\n",
        "Por hipótesis inductiva, sabemos que $dist(u,i)$ es la distancia más corta entre el nodo raíz s y el nodo u. En la iteración i+1, nos aseguramos que se cumple $dist(v,i+1) =< dist(u,i) + w(u,v)$ por el paso de reajuste del algoritmo, y tenemos también que $dist(v,i+1)$ es mayor o igual al largo del camino que utiliza al meno i+1. Por lo tanto, $dist(v,i+1)$ es el largo del camino más corto entre s y v utilizando máximo i+1 arcos.\n",
        "\n",
        "Después de n-1 iteraciones, para cada nodo v, la $dist(v,n-1)$ es el largo del camino más corto desde el nodo raíz hasta el nodo v utilizando como máximo n-1 arcos. "
      ],
      "metadata": {
        "id": "lTjeZgfYkwp6"
      }
    }
  ]
}