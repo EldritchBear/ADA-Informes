{
  "nbformat": 4,
  "nbformat_minor": 0,
  "metadata": {
    "colab": {
      "name": "MaxSubArray.ipynb",
      "provenance": [],
      "collapsed_sections": [],
      "authorship_tag": "ABX9TyOqPL9lF9O3nSEKszLRDOwC",
      "include_colab_link": true
    },
    "kernelspec": {
      "name": "python3",
      "display_name": "Python 3"
    },
    "language_info": {
      "name": "python"
    }
  },
  "cells": [
    {
      "cell_type": "markdown",
      "metadata": {
        "id": "view-in-github",
        "colab_type": "text"
      },
      "source": [
        "<a href=\"https://colab.research.google.com/github/EldritchBear/ADA-Informes/blob/main/MaxSubArray.ipynb\" target=\"_parent\"><img src=\"https://colab.research.google.com/assets/colab-badge.svg\" alt=\"Open In Colab\"/></a>"
      ]
    },
    {
      "cell_type": "markdown",
      "source": [
        "# 1. Descripción del problema \n",
        "\n",
        "El problema del subarreglo máximo consiste en recibir un arreglo de tamaño $n$ lleno de datos y buscar la mayor suma posible entre los datos contiguos dentro de este arreglo, una vez encontrada la suma, esta es devuelta al usuario. Este algoritmo es utilizado para conseguir estimados del mejor caso cuando se quiere analizar patrones entre otras cosas. Las aplicaciones que puede llegar a tener este algoritmo son los analisis de compra y venta de acciones para ver la rentabilidad o analizar los pixeles y su brillo en imagenes.\n",
        "\n",
        "Ejemplo de entrada y salida:\n",
        "\n",
        "![image.png](data:image/png;base64,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)\n"
      ],
      "metadata": {
        "id": "sDe9WFwnKJ1s"
      }
    },
    {
      "cell_type": "markdown",
      "source": [
        "#2. Descripción del algoritmo\n",
        "\n",
        "El algoritmo recibe un arreglo y se comienza a buscar un subarreglo que contenga la mayor suma de los datos, una vez que se encuentre este subarreglo se puede retornar tanto la suma como el subarreglo. La busqueda de estos subarreglos son variadas, se puede recorrer el arreglo hasta encontrarse con un dato negativo y reiniciar la cuenta como tambien se puede dividir el arreglo como mitad izquierda y mitad derecha y comenzar a analizar desde ese punto. No hay solo una forma única de implementar este problema y es por esto que existen soluciones que van desde $O(n^2)$ hasta $O(n)$."
      ],
      "metadata": {
        "id": "qjBRAO2zNToW"
      }
    },
    {
      "cell_type": "code",
      "source": [
        "def maxSubArrayMid(arreglo, low, mid, high):\n",
        "    suma = 0\n",
        "    sumaL = 0\n",
        "    sumaR = 0\n",
        "    max1 = 0\n",
        "    max2 = 0\n",
        "\n",
        "    if(verbose):\n",
        "      print(\"subarreglo izquierdo: \",arreglo[low:mid])\n",
        "      print(\"subarreglo derecho: \",arreglo[mid:high])\n",
        "      print(\"\\n\")\n",
        "      \n",
        "    for i in range(mid, low-1, -1):\n",
        "      suma += arreglo[i]\n",
        "      if (suma > sumaL):\n",
        "        sumaL = suma\n",
        "        max1 = i\n",
        " \n",
        "    suma = 0\n",
        "    for i in range(mid, high + 1):\n",
        "      suma += arreglo[i]\n",
        "      if (suma > sumaR):\n",
        "        sumaR = suma\n",
        "        max2 = i\n",
        "\n",
        "\n",
        "    sumaH = sumaL + sumaR\n",
        "    if (arreglo[mid] < 0):\n",
        "      sumaH += arreglo[mid]\n",
        "    else:\n",
        "      sumaH -= arreglo[mid]\n",
        "\n",
        "    if (verbose):\n",
        "      print(\"Suma izquierda: \",sumaL)\n",
        "      print(\"Suma medio: \",sumaH)\n",
        "      print(\"Suma derecha: \",sumaR)\n",
        "      print(\"\\n\")\n",
        "\n",
        "    if (sumaL > sumaR and sumaL > sumaH):\n",
        "      return sumaL,low,max1\n",
        "    if (sumaR > sumaL and sumaR > sumaH):\n",
        "      return sumaR,mid,max2\n",
        "    else:\n",
        "      return sumaH,max1,max2"
      ],
      "metadata": {
        "id": "bqn4WVvXK33l"
      },
      "execution_count": 202,
      "outputs": []
    },
    {
      "cell_type": "code",
      "source": [
        "def maxSubArray(arreglo, low, high, verbose):\n",
        "    if (low > high):return -10000\n",
        "    if (low == high):return arreglo[low]\n",
        "\n",
        "    mid = (low + high) // 2\n",
        "\n",
        "    maxSubArray(arreglo, low, mid-1,verbose)\n",
        "    maxSubArray(arreglo, mid+1, high,verbose)\n",
        "    suma,i,j =  maxSubArrayMid(arreglo, low, mid, high)\n",
        " \n",
        "    return suma,i,j"
      ],
      "metadata": {
        "id": "LGTz2xj-K7fi"
      },
      "execution_count": 175,
      "outputs": []
    },
    {
      "cell_type": "code",
      "source": [
        "arreglo = [3,5,-17,3,6,-1,9,3,-2,-4]\n",
        "verbose = False\n",
        "n = len(arreglo)\n",
        " \n",
        "suma,i,j = maxSubArray(arreglo, 0, n-1, verbose)\n",
        "print(\"Arreglo: \",arreglo)\n",
        "print(\"Suma total: \", suma)\n",
        "print(\"índices: \",i,\",\",j)\n",
        "print(\"Subarreglo: \",arreglo[i:j+1])"
      ],
      "metadata": {
        "colab": {
          "base_uri": "https://localhost:8080/"
        },
        "id": "Umw4DSCDK91K",
        "outputId": "12bfef83-b1f1-403d-82d2-681827aa0b24"
      },
      "execution_count": 176,
      "outputs": [
        {
          "output_type": "stream",
          "name": "stdout",
          "text": [
            "Arreglo:  [3, 5, -17, 3, 6, -1, 9, 3, -2, -4]\n",
            "Suma total:  20\n",
            "índices:  3 , 7\n",
            "Subarreglo:  [3, 6, -1, 9, 3]\n"
          ]
        }
      ]
    },
    {
      "cell_type": "code",
      "source": [
        "arreglo = [3,5,-17,3,6,-1,9,3,-2,-4]\n",
        "verbose = True\n",
        "n = len(arreglo)\n",
        " \n",
        "suma,i,j = maxSubArray(arreglo, 0, n-1, verbose = False)\n",
        "print(\"Arreglo: \",arreglo)\n",
        "print(\"Suma total: \", suma)\n",
        "print(\"índices: \",i,\",\",j)\n",
        "print(\"Subarreglo: \",arreglo[i:j+1])"
      ],
      "metadata": {
        "colab": {
          "base_uri": "https://localhost:8080/"
        },
        "id": "x6NUdmbEh1Ox",
        "outputId": "f7f398ab-5d9f-4794-e288-86b01f03850a"
      },
      "execution_count": 203,
      "outputs": [
        {
          "output_type": "stream",
          "name": "stdout",
          "text": [
            "subarreglo izquierdo:  []\n",
            "subarreglo derecho:  [-17]\n",
            "\n",
            "\n",
            "Suma izquierda:  0\n",
            "Suma medio:  -17\n",
            "Suma derecha:  0\n",
            "\n",
            "\n",
            "subarreglo izquierdo:  [3]\n",
            "subarreglo derecho:  [5, -17]\n",
            "\n",
            "\n",
            "Suma izquierda:  8\n",
            "Suma medio:  8\n",
            "Suma derecha:  5\n",
            "\n",
            "\n",
            "subarreglo izquierdo:  []\n",
            "subarreglo derecho:  [-1]\n",
            "\n",
            "\n",
            "Suma izquierda:  0\n",
            "Suma medio:  7\n",
            "Suma derecha:  8\n",
            "\n",
            "\n",
            "subarreglo izquierdo:  []\n",
            "subarreglo derecho:  [-2]\n",
            "\n",
            "\n",
            "Suma izquierda:  0\n",
            "Suma medio:  -2\n",
            "Suma derecha:  0\n",
            "\n",
            "\n",
            "subarreglo izquierdo:  [-1, 9]\n",
            "subarreglo derecho:  [3, -2]\n",
            "\n",
            "\n",
            "Suma izquierda:  12\n",
            "Suma medio:  12\n",
            "Suma derecha:  3\n",
            "\n",
            "\n",
            "subarreglo izquierdo:  [3, 5, -17, 3]\n",
            "subarreglo derecho:  [6, -1, 9, 3, -2]\n",
            "\n",
            "\n",
            "Suma izquierda:  9\n",
            "Suma medio:  20\n",
            "Suma derecha:  17\n",
            "\n",
            "\n",
            "Arreglo:  [3, 5, -17, 3, 6, -1, 9, 3, -2, -4]\n",
            "Suma total:  20\n",
            "índices:  3 , 7\n",
            "Subarreglo:  [3, 6, -1, 9, 3]\n"
          ]
        }
      ]
    },
    {
      "cell_type": "markdown",
      "source": [
        "#3. Tiempo de Ejecucción\n",
        "\n",
        "El problema del subarreglo máximo puede ser implementado de distintas maneras, cada manera con un tiempo de ejecución distinto a los anteriores pero ninguno de estos depende del como esten los datos, quiero decir que no existe diferencia alguna entre un supuesto $mejor$ o $peor$ caso, ambos presentan el mismo tiempo de ejecucción. Esto es debido a que no existen situaciones en ambos casos que produzcan que ocurran más iteraciones o menos. \n",
        "La forma en que fue implementado este algoritmo antes es llamada \"divide y vencerás\", esto significa que el arreglo se va a dividir recursivamente a la mitad y cuando no pueda seguír dividiendose se van a comenzar a sumar sus valores para buscar la suma mayor a medida que se van volviendo a unir los subarreglos.\n",
        "Por la forma en que esto se realiza, dividir constantemente para luego recorrer todos estos datos de forma lineal, tenemos que esta forma de implementación tiene la forma de $T(n) = 2T(n/2) + O(n)$ que es equivalente a $O(nlogn)$."
      ],
      "metadata": {
        "id": "F5AEarkOrtUG"
      }
    },
    {
      "cell_type": "markdown",
      "source": [
        "# 4. Correctitud\n",
        "## Teorema\n",
        "El algoritmo *maxSubArray* recibe un arreglo de n elementos y retorna el subarreglo que contiene el valor máximo al sumar todos sus elementos contiguos.\n",
        "\n",
        "## Prueba del teorema\n",
        "**Caso base:** Cuando sólo hay un elemento en el arreglo, el elemento máximo es el único que contiene. Por lo tanto, retorna este elemento.\n",
        "\n",
        "**Caso general (n>1):** Se asume que *maxSubArray* es correcto si el tamaño del arreglo es m < n.\n",
        "\n",
        "El algoritmo divide el arreglo en 2 mitades de largo n/2 si n > 1, y luego las procesa utilizando el mismo algoritmo. Como el tamaño de los algoritmos es menor a la del arreglo original, se cumple que m < n."
      ],
      "metadata": {
        "id": "RErFYIo0mv0g"
      }
    },
    {
      "cell_type": "markdown",
      "source": [
        "#5. Experimentos\n",
        "\n",
        "##5.1. Comparacion del algoritmo\n",
        "\n",
        "En este experimento vamos a comparar el algorimo creado en este informe con el algoritmo kadane, este algoritmo lleva a cabo la misma tarea que el algoritmo max sub-array, pero a diferencia de este kadane no es recursivo."
      ],
      "metadata": {
        "id": "l0fzdNaIcVsT"
      }
    },
    {
      "cell_type": "code",
      "source": [
        "import random\n",
        "from sys import maxsize\n",
        "  \n",
        "# Function to find the maximum contiguous subarray\n",
        "# and print its starting and end index\n",
        "def kadane(a,size):\n",
        "  \n",
        "    max_so_far = -maxsize - 1\n",
        "    max_ending_here = 0\n",
        "    start = 0\n",
        "    end = 0\n",
        "    s = 0\n",
        "  \n",
        "    for i in range(0,size):\n",
        "  \n",
        "        max_ending_here += a[i]\n",
        "  \n",
        "        if max_so_far < max_ending_here:\n",
        "            max_so_far = max_ending_here\n",
        "            start = s\n",
        "            end = i\n",
        "  \n",
        "        if max_ending_here < 0:\n",
        "            max_ending_here = 0\n",
        "            s = i+1\n",
        "        \n",
        "        return max_so_far\n",
        "  \n",
        "# Driver program to test maxSubArraySum\n",
        "a = random.sample(range(-20,20),14)\n",
        "sum = kadane(a,len(a))"
      ],
      "metadata": {
        "id": "a_Y-Zb8Woyra"
      },
      "execution_count": 178,
      "outputs": []
    },
    {
      "cell_type": "code",
      "source": [
        "import matplotlib.pyplot as plt\n",
        "import datetime\n",
        "from timeit import repeat\n",
        "import random\n",
        "\n",
        "x=[]; y=[]\n",
        "x1=[]; y1=[]\n",
        "\n",
        "for n in range(5,500):\n",
        "\n",
        "  a = random.sample(range(-1000, 1000), n)\n",
        "  low = 0\n",
        "  high = len(a)//2\n",
        "  verbose = False\n",
        "\n",
        "\n",
        "  #la función repeat está ejecutando 20 veces cada algoritmo con el arreglo a y retorna el mejor tiepo obtenido para cada uno.\n",
        "  t = repeat(setup=\"from __main__ import maxSubArray\", stmt=f\"maxSubArray({a},{low},{high-1}, {verbose})\", repeat=1, number=10)\n",
        "\n",
        "  x.append(n)\n",
        "  y.append(t)\n",
        "\n",
        "  t = repeat(setup=\"from __main__ import kadane\", stmt=f\"kadane({a},{len(a)})\", repeat=1, number=10)\n",
        "\n",
        "  x1.append(n)\n",
        "  y1.append(t)\n",
        "\n",
        "\n",
        "plt.plot(x,y)\n",
        "plt.plot(x1,y1)\n",
        "plt.legend([\"Max sub-array algorithim\", \"Kadene algorithim\"])\n",
        "\n",
        "plt.xlabel('n')\n",
        "plt.ylabel('time in ms')\n",
        "plt.show()"
      ],
      "metadata": {
        "colab": {
          "base_uri": "https://localhost:8080/",
          "height": 279
        },
        "id": "t8Yrx42icY7O",
        "outputId": "2de0b48e-3a83-47ea-e90b-15738b35065b"
      },
      "execution_count": 199,
      "outputs": [
        {
          "output_type": "display_data",
          "data": {
            "text/plain": [
              "<Figure size 432x288 with 1 Axes>"
            ],
            "image/png": "[encoded data removed]"
          },
          "metadata": {
            "needs_background": "light"
          }
        }
      ]
    },
    {
      "cell_type": "markdown",
      "source": [
        "###Analisis\n",
        "\n",
        "Como se apreciar el algoritmo kadane es mas efectivo que el metodo recursivo, y se intenta decir cual es la complejidad de este algoritmo, entonces es probable que este sea $O(n)$ mientras que el metodo recusivo posiblemente sea $O(n log(n)$."
      ],
      "metadata": {
        "id": "13aj5kGCca1q"
      }
    },
    {
      "cell_type": "code",
      "source": [
        "import matplotlib.pyplot as plt\n",
        "import random\n",
        "\n",
        "x=[]; y=[]\n",
        "x1=[]; y1=[]\n",
        "x2=[]; y2=[]\n",
        "\n",
        "for n in range(5,50):\n",
        "\n",
        "  a = random.sample(range(-100, 100), n)\n",
        "  n = len(a)//2\n",
        "  verbose = False\n",
        "\n",
        "  sum,i,j = maxSubArray(a,0,n-1,verbose)\n",
        "\n",
        "  x.append(n)\n",
        "  y.append(sum)\n",
        "\n",
        "  sum = kadane(a,len(a))\n",
        "\n",
        "  x1.append(n)\n",
        "  y1.append(sum)\n",
        "\n",
        "  # b = maxSubArray(a,0,len(a)-1)\n",
        "  # sum = 0\n",
        "  # for i in range(0,len(b)):\n",
        "  #   sum = sum + b[i]\n",
        "\n",
        "  # x2.append(n)\n",
        "  # y2.append(sum)\n",
        "\n",
        "\n",
        "\n",
        "plt.plot(x,y)\n",
        "plt.plot(x1,y1)\n",
        "# plt.plot(x2,y2)\n",
        "plt.legend([\"Max sub-array value\", \"Kadane value\",\"elias value\"])\n",
        "\n",
        "plt.xlabel('n')\n",
        "plt.ylabel('value of the sum of the max sub-array')\n",
        "plt.show()"
      ],
      "metadata": {
        "colab": {
          "base_uri": "https://localhost:8080/",
          "height": 279
        },
        "id": "1leXSynOckwp",
        "outputId": "2a52ad48-ce66-4ed7-9a94-af6c4f920dd0"
      },
      "execution_count": 198,
      "outputs": [
        {
          "output_type": "display_data",
          "data": {
            "text/plain": [
              "<Figure size 432x288 with 1 Axes>"
            ],
            "image/png": "[encoded data removed]"
          },
          "metadata": {
            "needs_background": "light"
          }
        }
      ]
    },
    {
      "cell_type": "markdown",
      "source": [
        "el segundo codigo es una comparacion de los valores entregados por el metodo kadane y el que ustedes implementaron, para ver la correctitud en los valores que entrega su algoritmo"
      ],
      "metadata": {
        "id": "XsDe-Oxgc1Kp"
      }
    }
  ]
}