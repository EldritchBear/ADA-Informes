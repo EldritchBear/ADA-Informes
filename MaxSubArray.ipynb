{
  "nbformat": 4,
  "nbformat_minor": 0,
  "metadata": {
    "colab": {
      "name": "MaxSubArray.ipynb",
      "provenance": [],
      "authorship_tag": "ABX9TyPtKeUBl2mqazEYWIUnZlld",
      "include_colab_link": true
    },
    "kernelspec": {
      "name": "python3",
      "display_name": "Python 3"
    },
    "language_info": {
      "name": "python"
    }
  },
  "cells": [
    {
      "cell_type": "markdown",
      "metadata": {
        "id": "view-in-github",
        "colab_type": "text"
      },
      "source": [
        "<a href=\"https://colab.research.google.com/github/EldritchBear/ADA-Informes/blob/main/MaxSubArray.ipynb\" target=\"_parent\"><img src=\"https://colab.research.google.com/assets/colab-badge.svg\" alt=\"Open In Colab\"/></a>"
      ]
    },
    {
      "cell_type": "markdown",
      "source": [
        "# 1. Descripción del problema \n",
        "\n",
        "El problema del subarreglo máximo consiste en recibir un arreglo de tamaño $n$ lleno de datos y buscar la mayor suma posible entre los datos contiguos dentro de este arreglo, una vez encontrada la suma, esta es devuelta al usuario. Este algoritmo es utilizado para conseguir estimados del mejor caso cuando se quiere analizar patrones entre otras cosas. Las aplicaciones que puede llegar a tener este algoritmo son los analisis de compra y venta de acciones para ver la rentabilidad o analizar los pixeles y su brillo en imagenes.\n",
        "\n",
        "Ejemplo de entrada y salida:\n",
        "\n",
        "![image.png](data:image/png;base64,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)\n"
      ],
      "metadata": {
        "id": "sDe9WFwnKJ1s"
      }
    },
    {
      "cell_type": "markdown",
      "source": [
        "#2. Descripción del algoritmo\n",
        "\n",
        "El algoritmo recibe un arreglo y se comienza a buscar un subarreglo que contenga la mayor suma de los datos, una vez que se encuentre este subarreglo se puede retornar tanto la suma como el subarreglo. La busqueda de estos subarreglos son variadas, se puede recorrer el arreglo hasta encontrarse con un dato negativo y reiniciar la cuenta como tambien se puede dividir el arreglo como mitad izquierda y mitad derecha y comenzar a analizar desde ese punto. No hay solo una forma única de implementar este problema y es por esto que existen soluciones que van desde $O(n^2)$ hasta $O(n)$."
      ],
      "metadata": {
        "id": "qjBRAO2zNToW"
      }
    },
    {
      "cell_type": "code",
      "execution_count": 16,
      "metadata": {
        "colab": {
          "base_uri": "https://localhost:8080/"
        },
        "id": "Njj2YtPRHogf",
        "outputId": "3df1c96b-d28d-43f7-d634-8cdfcf68e786"
      },
      "outputs": [
        {
          "output_type": "stream",
          "name": "stdout",
          "text": [
            "Indice menor:  5\n",
            "Indice mayor:  10\n",
            "[-14, -15, -1, -17, 17, 4, -19, -7, 2, 6, -18, -6, 3, 7]\n",
            "[4, -19, -7, 2, 6]\n",
            "Suma de subarreglo:  -14\n"
          ]
        }
      ],
      "source": [
        "import random\n",
        "\n",
        "def sub_Arreglo_Maximo (A,low,mid,high):\n",
        "\n",
        "  minB,maxB = max_Mitad(A[low:mid],mid) ##obtener el mayor sub-arreglo izquierdo\n",
        "\n",
        "  minC,maxC = max_Mitad(A[mid:high],high//2) ##obtener el mayor sub-arreglo derecho\n",
        "\n",
        "  suma = 0\n",
        "  for n in range(minB,(maxC+mid)): ##obtener el mayor sub-arreglo que cruze el punto de division\n",
        "\n",
        "     suma = suma + A[n]\n",
        "\n",
        "  return minB,(maxC+mid),suma\n",
        "\n",
        "\n",
        "\n",
        "def max_Mitad(A,max_i):\n",
        "  indice_Menor = 0 ##variable que guarda el indice del sub-arreglo con la mayor diferencia\n",
        "\n",
        "  indice_Mayor = 0 ##variable que guarda el indice del sub-arreglo con la mayor diferencia\n",
        "\n",
        "  indiceA = 0\n",
        "\n",
        "  indiceB = 0\n",
        "\n",
        "  min = 0\n",
        "\n",
        "  max = 0\n",
        "\n",
        "  suma = 0 ## va sumando los valores del arreglos en cada iteracion\n",
        "\n",
        "  anterior = 0 ## guarda el valor de la iteracion anterior\n",
        "\n",
        "  diferencia = 0 ## en esta variable se guarda la suma mas grande que haya hasta el momento\n",
        "\n",
        "  for i in range(0,max_i):\n",
        "\n",
        "    suma = suma + A[i]\n",
        "\n",
        "    if(anterior < suma):\n",
        "\n",
        "      min = anterior\n",
        "\n",
        "      indiceA = i\n",
        "\n",
        "    elif(anterior > suma and min != 0):\n",
        "\n",
        "      max = anterior\n",
        "\n",
        "      indiceB = i\n",
        "    \n",
        "\n",
        "    if(min != 0 and max != 0):\n",
        "\n",
        "      if(min < 0 and max < 0):\n",
        "\n",
        "        max *= -1\n",
        "\n",
        "      elif(max > 0 and min > 0):\n",
        "\n",
        "        max *= -1 \n",
        "\n",
        "      min = min + max\n",
        "\n",
        "      if(min < 0):\n",
        "\n",
        "        min *= -1\n",
        "\n",
        "      if(diferencia < min):\n",
        "\n",
        "        diferencia = min\n",
        "\n",
        "        indice_Menor = indiceA\n",
        "\n",
        "        indice_Mayor = indiceB\n",
        "\n",
        "        min = 0\n",
        "\n",
        "        max = 0\n",
        "\n",
        "    anterior = suma\n",
        "  \n",
        "  return indice_Menor, indice_Mayor\n",
        "\n",
        "array = random.sample(range(-20,20),14)\n",
        "i, j, suma = sub_Arreglo_Maximo(array, 0, len(array)//2, len(array)) # En el grafico de la guia low era el inicio del arreglo y high el final\n",
        "print(\"Indice menor: \", i)\n",
        "print(\"Indice mayor: \", j)\n",
        "print(array)\n",
        "print(array[i:j])\n",
        "print(\"Suma de subarreglo: \", suma)\n",
        "\n"
      ]
    }
  ]
}