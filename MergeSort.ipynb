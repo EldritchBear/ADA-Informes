{
  "nbformat": 4,
  "nbformat_minor": 0,
  "metadata": {
    "colab": {
      "name": "MergeSort.ipynb",
      "provenance": [],
      "authorship_tag": "ABX9TyNctDcjDMlBKEdCAaS4OI9a",
      "include_colab_link": true
    },
    "kernelspec": {
      "name": "python3",
      "display_name": "Python 3"
    },
    "language_info": {
      "name": "python"
    }
  },
  "cells": [
    {
      "cell_type": "markdown",
      "metadata": {
        "id": "view-in-github",
        "colab_type": "text"
      },
      "source": [
        "<a href=\"https://colab.research.google.com/github/EldritchBear/ADA-Informes/blob/main/MergeSort.ipynb\" target=\"_parent\"><img src=\"https://colab.research.google.com/assets/colab-badge.svg\" alt=\"Open In Colab\"/></a>"
      ]
    },
    {
      "cell_type": "markdown",
      "source": [
        "#1. Problema de Ordenamiento\n",
        "\n",
        "Los problemas de ordenamiento a pesar de que son de planteamiento facil presentan un nivel de complejidad notable y muchas personas han sido atraidas a tratar con este reto, resultando en varios algoritmos de ordenamiento siendo diseñados y cada uno siendo más eficiente que otros.\n",
        "\n",
        "Entrada: Recibe un arreglo de tamaño n con números\n",
        "\n",
        "Salida: Retorna el arreglo ordenado, ya sea de menor a mayor o al revéz.\n"
      ],
      "metadata": {
        "id": "aqhMwvcocgyK"
      }
    },
    {
      "cell_type": "markdown",
      "source": [
        "# 2. Merge Sort\n",
        "\n",
        "El Merge Sort es un algoritmo de ordenamiento que al igual que el insertion sort utiliza la estrategia de \"divide y vencerás\". Este algoritmo recibe un arreglo el cuál luego es dividido por la mitad formando sub-arreglos que seguirán siendo divididos por las llamadas recursivas hasta que ya no se puedan dividir, luego de esto se comienzan a comparar los arreglos más pequeños, ordenando así los datos, sumando ambos arreglos hasta ordenarlos todos."
      ],
      "metadata": {
        "id": "0doZHFfGcgmr"
      }
    },
    {
      "cell_type": "code",
      "source": [
        "cont = 0\n",
        "\n",
        "def merge(subArreglo1,subArreglo2,verbose):\n",
        "  i = 0\n",
        "  k = 0\n",
        "  largo1 = len(subArreglo1)                 #Conseguimos el largo de ambos subArreglos para poder utilizarlos hasta que uno se queden sin datos,\n",
        "  largo2 = len(subArreglo2)                 #en el momento que ocurra esto copiaremos el contenido restante del otro en arreglo.\n",
        "  arreglo = []\n",
        "  global cont\n",
        "\n",
        "  if (verbose):\n",
        "    print(\"Función merge\")\n",
        "    print(\"sub arreglos: \",subArreglo1)\n",
        "    print(\"              \",subArreglo2)\n",
        "\n",
        "  while (i < largo1 and k < largo2):       #buscamos el dato menor y usamos el .append para colocar ese dato en arreglo, ya que no tiene memoria\n",
        "    cont +=1\n",
        "    if (subArreglo1[i] < subArreglo2[k]):  #asignada como para hacer arreglo[j] = subArreglox[y].\n",
        "      arreglo.append(subArreglo1[i])\n",
        "      i = i+1\n",
        "    else:\n",
        "      arreglo.append(subArreglo2[k])\n",
        "      k = k+1\n",
        "\n",
        "  arreglo = arreglo + subArreglo1[i:]      #cuando un subArreglo se queda sin datos se copia el resto del otro.\n",
        "  cont = cont + (largo1-i)\n",
        "  arreglo = arreglo + subArreglo2[k:]\n",
        "  cont = cont + (largo2-k)\n",
        "\n",
        "  if (verbose):\n",
        "    print(\"Fin del merge\")\n",
        "    print(\"resultado: \",arreglo)\n",
        "    print(\"cantidad de comparaciones: \",cont,\"\\n\")\n",
        "\n",
        "  return arreglo     "
      ],
      "metadata": {
        "id": "czvyy4C0hQHf"
      },
      "execution_count": 34,
      "outputs": []
    },
    {
      "cell_type": "code",
      "execution_count": 27,
      "metadata": {
        "id": "zxqwOBmgcX3C"
      },
      "outputs": [],
      "source": [
        "llamadas = 1\n",
        "\n",
        "def mergeSort(arreglo,verbose = False):\n",
        "  if (len(arreglo) == 1): return arreglo                      #cuando ya no se pueda seguir dividiendo el arreglo se debe detener.\n",
        "  subArreglo1 = []\n",
        "  subArreglo2 = []\n",
        "  global llamadas\n",
        "\n",
        "  i = len(arreglo)//2\n",
        "  llamadas = llamadas + 1\n",
        "  subArreglo1 = mergeSort(arreglo[i:],verbose)                #comenzamos a dividir los subArreglos hasta no poder más.\n",
        "  subArreglo2 = mergeSort(arreglo[:i],verbose)\n",
        "  arreglo = merge(subArreglo1,subArreglo2,verbose)            #ordenamos los subArreglos hasta llegar al arreglo original pero ordenado.\n",
        "  return arreglo"
      ]
    },
    {
      "cell_type": "code",
      "source": [
        "arreglo = [4,7,2,9,1,3]\n",
        "verbose = False\n",
        "print(\"Arreglo de entrada: \",arreglo)\n",
        "arreglo = mergeSort(arreglo, verbose)\n",
        "print(\"Arreglo de salida:  \",arreglo)\n",
        "print(\"Llamadas totales: \",llamadas)\n",
        "llamadas = 1"
      ],
      "metadata": {
        "colab": {
          "base_uri": "https://localhost:8080/"
        },
        "id": "0b2ig-EokZqm",
        "outputId": "49f8065f-3fc8-441f-9663-63641f134923"
      },
      "execution_count": 28,
      "outputs": [
        {
          "output_type": "stream",
          "name": "stdout",
          "text": [
            "Arreglo de entrada:  [4, 7, 2, 9, 1, 3]\n",
            "Arreglo de salida:   [1, 2, 3, 4, 7, 9]\n",
            "Llamadas totales:  6\n"
          ]
        }
      ]
    },
    {
      "cell_type": "markdown",
      "source": [
        "#2.4. Ejecución del algoritmo paso a paso (verbose=True)"
      ],
      "metadata": {
        "id": "WIyFnRkbIyWS"
      }
    },
    {
      "cell_type": "code",
      "source": [
        "arreglo = [4,7,2,9,1,3]\n",
        "verbose = True\n",
        "\n",
        "print(\"Arreglo de entrada: \",arreglo)\n",
        "arreglo = mergeSort(arreglo, verbose)\n",
        "print(\"Arreglo de salida:  \",arreglo)\n",
        "print(\"Llamadas totales: \",llamadas)\n",
        "print(\"Comparaciones totales\",cont)\n",
        "llamadas = 1\n",
        "cont = 0"
      ],
      "metadata": {
        "colab": {
          "base_uri": "https://localhost:8080/"
        },
        "id": "5wt-UUns9-kW",
        "outputId": "ee66081d-fda8-4772-b6ca-c6611f3a91d7"
      },
      "execution_count": 29,
      "outputs": [
        {
          "output_type": "stream",
          "name": "stdout",
          "text": [
            "Arreglo de entrada:  [4, 7, 2, 9, 1, 3]\n",
            "Función merge\n",
            "sub arreglos:  [3]\n",
            "               [1]\n",
            "Fin del merge\n",
            "resultado:  [1, 3]\n",
            "cantidad de comparaciones:  12 \n",
            "\n",
            "Función merge\n",
            "sub arreglos:  [1, 3]\n",
            "               [9]\n",
            "Fin del merge\n",
            "resultado:  [1, 3, 9]\n",
            "cantidad de comparaciones:  14 \n",
            "\n",
            "Función merge\n",
            "sub arreglos:  [2]\n",
            "               [7]\n",
            "Fin del merge\n",
            "resultado:  [2, 7]\n",
            "cantidad de comparaciones:  15 \n",
            "\n",
            "Función merge\n",
            "sub arreglos:  [2, 7]\n",
            "               [4]\n",
            "Fin del merge\n",
            "resultado:  [2, 4, 7]\n",
            "cantidad de comparaciones:  17 \n",
            "\n",
            "Función merge\n",
            "sub arreglos:  [1, 3, 9]\n",
            "               [2, 4, 7]\n",
            "Fin del merge\n",
            "resultado:  [1, 2, 3, 4, 7, 9]\n",
            "cantidad de comparaciones:  22 \n",
            "\n",
            "Arreglo de salida:   [1, 2, 3, 4, 7, 9]\n",
            "Llamadas totales:  6\n",
            "Comparaciones totales 22\n"
          ]
        }
      ]
    },
    {
      "cell_type": "markdown",
      "source": [
        "El algoritmo divide el arreglo hasta llegar a sub-arreglos de tamaño 1, estos comienzan a ser ordenados y se van comparando con el resto de sub-arreglos de mayor tamaño."
      ],
      "metadata": {
        "id": "SgdzcowMC3qJ"
      }
    },
    {
      "cell_type": "markdown",
      "source": [
        "# 3. Tiempo de ejecución\n",
        "\n",
        "El merge sort no presenta un peor caso o un mejor caso, en ambos el algoritmo va a recorrer, dividir y comparar de igual manera, por lo que la complejidad en ambos casos es la misma. Para saber la complejidad del algoritmo se tiene que tener en cuenta las divisiones de los arreglos de forma recursiva y además el luego combinar todos los sub-arreglos para entregar el arreglo ordenado que habia recibido al comienzo de forma desordenada. Como ya bien se comentó los factores que hay que tener en cuenta podemos empezar a deducir una forma para calcular un aproximado de comparaciones.\n",
        "\n",
        "Como el algoritmo esta constantemente dividiendo un arreglo en 2 mitades podemos decir que realiza una operacion de : $2*T(n/2)$ y luego tomando en cuenta que hay que volver a juntar todos los arreglos simplemente bastaría con estar colocando los datos al final del arreglo de forma ordenada, lo que nos deja con la siguiente formula: $T(n) = 2*T(n/2) + n$ siendo ese último $n$ el proceso del $merge$.\n",
        "\n",
        "Aqui se puede ver un ejemplo de como aumenta la cantidad de comparaciones dependiendo del número de datos:                    \n",
        "![image.png](data:image/png;base64,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)\n",
        "\n",
        "El algoritmo al estar constantemente dividiendo para luego juntar todo nos deja claro que su complejidad temporal es de $O(n log n)$.\n"
      ],
      "metadata": {
        "id": "dpwy9Rwgn7Gz"
      }
    },
    {
      "cell_type": "markdown",
      "source": [
        "# 4. Correctitud\n",
        "## Teorema (Correctitud).\n",
        "El algoritmo Merge retorna una sola lista con los mismos elementos de las 2 listas de entrada, pero ordenados de menor a mayor. Los elementos en las listas de entradas ya están en orden.\n",
        "\n",
        "## Prueba del teorema\n",
        "En cada iteración de Merge se comparan los elementos de cada lista, y se mueve el menor a una lista nueva que va a contener los elementos ordenados. Teniendo esto en cuenta, se puede probar la siguiente propiedad invariante:\n",
        "\n",
        "> Al comienzo de cada iteración *i* hay *i* elementos ordenados en la lista de salida *a*. Y los elementos que quedan en las listas de entrada son mayores al elemento en *i*.\n",
        "\n",
        "## Inicialización\n",
        "Al comienzo de la primera iteración, donde *i* = 1, hay un sólo elemento en la lista *a*. Este elemento es el mínimo de ambas listas, por lo tanto, se cumple la propiedad.\n",
        "\n",
        "\n",
        "## Mantención\n",
        "Aplicando inducción, asumimos que al comienzo de cada iteración se cumple la propiedad.\n",
        "\n",
        "Durante la iteración, se compara el primer elemento de ambas listas de entradas y se mueve el menor a la lista de salida.\n",
        "\n",
        "Después de la iteración, el elemento menor queda en la posición *i - 1* y se sigue cumpliendo la propiedad invariable.\n",
        "\n",
        "\n",
        "## Correctitud de Merge Sort\n",
        "\n",
        "Probaremos la correctitud de Merge Sort utilizando inducción matemática. Nuestra hipótesis *P(n)* es que Merge Sort retorna la lista de entrada pero en orden de menor a mayor.\n",
        "\n",
        "En el caso base, cuando *n = 1*, Merge Sort retorna la lista con un sólo elemento. Por lo tanto, se cumple la hipótesis, puesto que la lista ya está ordenada.\n",
        "\n",
        "Para el paso inductivo probaremos *P(m)*. Si Merge Sort se llama en una lista de largo *n*, también se van a llamar 2 recursivamente de largo *m* = n/2. Por inducción, esas llamadas van a ordenar la lista correctamente. Luego, las listas se juntan usando Merge. Según el teorema, Merge retorna una lista ordenada con los mismos elementos de las listas de entradas, por lo tanto, Merge Sort es correcto."
      ],
      "metadata": {
        "id": "SxV-M2GigBxb"
      }
    },
    {
      "cell_type": "markdown",
      "source": [
        "#5. Experimentos\n",
        "\n",
        "Ahora realizaremos un numero de experimentos que nos ayudaran a visualizar la eficacia del insertion sort en ciertos aspectos.\n",
        "\n",
        "##5.1. Numero de comparaciones\n",
        "\n",
        "En este experimento se comprobara el numero de comparaciones que el **merge sort** necesita realizar para poder ordenar una lista en su totailidad.\n",
        "\n",
        "Para ello se hizo una grafica en la que se muestra.\n",
        "\n",
        "* La cantidad de comparaciones del mejor caso calculadas matemáticamente.\n",
        "* La cantidad de comparaciones realizadas experimentalmente para entradas aleatorias.\n",
        "\n",
        "Para un problema que tiene un tamaño $n \\in [5,20]$"
      ],
      "metadata": {
        "id": "uzdl576Rvunt"
      }
    },
    {
      "cell_type": "code",
      "source": [
        "import math\n",
        "import matplotlib.pyplot as plt\n",
        "import random\n",
        "\n",
        "x=[n for n in range(5,21)] \n",
        "y1=[n*math.log2(n) for n in range(5,21)] # mejor caso\n",
        "y=[];\n",
        "\n",
        "cont = 0\n",
        "\n",
        "for n in range(5,21):\n",
        "  a = random.sample(range(1, 100), n)\n",
        "  a= mergeSort(a)\n",
        "  y.append(cont)\n",
        "  cont = 0\n",
        "\n",
        "plt.plot(x,y)\n",
        "plt.plot(x,y1)\n",
        "plt.legend([\"Merge Sort\", \"caso base teorico\"])\n",
        "\n",
        "plt.xlabel('n')\n",
        "plt.ylabel('number of operations')\n",
        "plt.show()"
      ],
      "metadata": {
        "colab": {
          "base_uri": "https://localhost:8080/",
          "height": 279
        },
        "id": "DDcHGdiHvxBM",
        "outputId": "6091e9e3-52bb-43f5-8f4d-4ab6eb910124"
      },
      "execution_count": 48,
      "outputs": [
        {
          "output_type": "display_data",
          "data": {
            "text/plain": [
              "<Figure size 432x288 with 1 Axes>"
            ],
            "image/png": "[encoded data removed]"
          },
          "metadata": {
            "needs_background": "light"
          }
        }
      ]
    },
    {
      "cell_type": "markdown",
      "source": [
        "##5.2 Tiempo de ejecución experimental\n",
        "\n",
        "En el siguiente experimento se comprueba si el **merge sort** cumple con el tiempo promedio esperado, que sería un tiempo $O(n log(n))$."
      ],
      "metadata": {
        "id": "gIBMPOD0wJVn"
      }
    },
    {
      "cell_type": "code",
      "source": [
        "import matplotlib.pyplot as plt\n",
        "import datetime\n",
        "from timeit import repeat\n",
        "import random\n",
        "\n",
        "x=[]; y=[]\n",
        "x1=[]; y1=[]\n",
        "x2=[]; y2=[]\n",
        "\n",
        "for n in range(5,500):\n",
        "\n",
        "  a = random.sample(range(1, 1000), n)\n",
        "\n",
        "  #la función repeat está ejecutando 20 veces cada algoritmo con el arreglo a y retorna el mejor tiepo obtenido para cada uno.\n",
        "  t = repeat(setup=\"from __main__ import mergeSort\", stmt=f\"mergeSort({a},{False})\", repeat=1, number=10)\n",
        "\n",
        "  x.append(n)\n",
        "  y.append(t)\n",
        "\n",
        "plt.plot(x,y)\n",
        "plt.plot(x1,y1)\n",
        "plt.plot(x2,y2)\n",
        "plt.legend([\"Merge Sort\"])\n",
        "\n",
        "plt.xlabel('n')\n",
        "plt.ylabel('time in ms')\n",
        "plt.show()"
      ],
      "metadata": {
        "colab": {
          "base_uri": "https://localhost:8080/",
          "height": 279
        },
        "id": "N1Y-qa9YwJ6b",
        "outputId": "8b32646b-73b8-47da-be7b-3d4b638c34ee"
      },
      "execution_count": 50,
      "outputs": [
        {
          "output_type": "display_data",
          "data": {
            "text/plain": [
              "<Figure size 432x288 with 1 Axes>"
            ],
            "image/png": "[encoded data removed]"
          },
          "metadata": {
            "needs_background": "light"
          }
        }
      ]
    }
  ]
}