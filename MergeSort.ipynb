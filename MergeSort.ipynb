{
  "nbformat": 4,
  "nbformat_minor": 0,
  "metadata": {
    "colab": {
      "name": "MergeSort.ipynb",
      "provenance": [],
      "authorship_tag": "ABX9TyPSnTe64xjihhYuTKRS9Xw7",
      "include_colab_link": true
    },
    "kernelspec": {
      "name": "python3",
      "display_name": "Python 3"
    },
    "language_info": {
      "name": "python"
    }
  },
  "cells": [
    {
      "cell_type": "markdown",
      "metadata": {
        "id": "view-in-github",
        "colab_type": "text"
      },
      "source": [
        "<a href=\"https://colab.research.google.com/github/EldritchBear/ADA-Informes/blob/main/MergeSort.ipynb\" target=\"_parent\"><img src=\"https://colab.research.google.com/assets/colab-badge.svg\" alt=\"Open In Colab\"/></a>"
      ]
    },
    {
      "cell_type": "markdown",
      "source": [
        "#1. Problema de Ordenamiento\n",
        "\n",
        "Los problemas de ordenamiento a pesar de que son de planteamiento facil presentan un nivel de complejidad notable y muchas personas han sido atraidas a tratar con este reto, resultando en varios algoritmos de ordenamiento siendo diseñados y cada uno siendo más eficiente que otros.\n",
        "\n",
        "Entrada: Recibe un arreglo de tamaño n con números\n",
        "\n",
        "Salida: Retorna el arreglo ordenado, ya sea de menor a mayor o al revéz.\n"
      ],
      "metadata": {
        "id": "aqhMwvcocgyK"
      }
    },
    {
      "cell_type": "markdown",
      "source": [
        "# 2. Merge Sort\n",
        "\n",
        "El Merge Sort es un algoritmo de ordenamiento que al igual que el insertion sort utiliza la estrategia de \"divide y vencerás\". Este algoritmo recibe un arreglo el cuál luego es dividido por la mitad formando sub-arreglos que seguirán siendo divididos por las llamadas recursivas hasta que ya no se puedan dividir, luego de esto se comienzan a comparar los arreglos más pequeños, ordenando así los datos, sumando ambos arreglos hasta ordenarlos todos."
      ],
      "metadata": {
        "id": "0doZHFfGcgmr"
      }
    },
    {
      "cell_type": "code",
      "execution_count": 2,
      "metadata": {
        "id": "zxqwOBmgcX3C"
      },
      "outputs": [],
      "source": [
        "def Merge(lista1, lista2):\n",
        "  global cont\n",
        "  i, j = 0, 0\n",
        "  resultante = []\n",
        "\n",
        "  while (i < len(lista1) and j < len(lista2)):\n",
        "    cont += 1\n",
        "    if lista1[i] < lista2[j]:\n",
        "      resultante.append(lista1[i])\n",
        "      i += 1 \n",
        "    else:\n",
        "      resultante.append(lista2[j])\n",
        "      j += 1\n",
        "\n",
        "  resultante += lista1[i:]\n",
        "  resultante += lista2[j:]\n",
        "\n",
        "  return resultante"
      ]
    }
  ]
}