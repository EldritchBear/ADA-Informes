{
  "nbformat": 4,
  "nbformat_minor": 0,
  "metadata": {
    "colab": {
      "provenance": [],
      "collapsed_sections": [],
      "authorship_tag": "ABX9TyObs479KNkpTzyQNKo0ho+/",
      "include_colab_link": true
    },
    "kernelspec": {
      "name": "python3",
      "display_name": "Python 3"
    },
    "language_info": {
      "name": "python"
    }
  },
  "cells": [
    {
      "cell_type": "markdown",
      "metadata": {
        "id": "view-in-github",
        "colab_type": "text"
      },
      "source": [
        "<a href=\"https://colab.research.google.com/github/EldritchBear/ADA-Informes/blob/main/TopologicalSort.ipynb\" target=\"_parent\"><img src=\"https://colab.research.google.com/assets/colab-badge.svg\" alt=\"Open In Colab\"/></a>"
      ]
    },
    {
      "cell_type": "markdown",
      "source": [
        "#1. Descripción del problema\n",
        "\n",
        "**Entrada:** grafo dirigido sin ciclos de forma G = (V,E)\n",
        "\n",
        "**Salida:**Orden topológico de los vértices de G, de modo que cada vertice **v** de con arcos de tipo **(v,w)** se cumpla que **f(v) > f(w)**\n",
        "\n",
        "\n"
      ],
      "metadata": {
        "id": "X25sWhrqSQST"
      }
    },
    {
      "cell_type": "markdown",
      "source": [
        "#2. Descripción del algoritmo\n",
        "\n",
        "El algoritmo busca el orden topológico de la siguiente manera:\n",
        "\n",
        "1.   Se crea una lista auxiliar para almacenar el orden topológico de los nodos.\n",
        "2.   Se aplica DFS en post orden para cada nodo del gráfo. Cada nodo visitado es ingresado a la lista auxiliar.\n",
        "3.   Se retorna la lista auxiliar en reversa, la cuál viene siendo el orden topológico del grafo.\n",
        "\n"
      ],
      "metadata": {
        "id": "jwI783v9Tcee"
      }
    },
    {
      "cell_type": "code",
      "source": [
        "from collections import defaultdict\n",
        "import networkx as nx\n",
        "\n",
        "# Recibe un grafo de tipo [defaultdict(list)]\n",
        "# Retorna un nx.DiGraph de la libreria networkx\n",
        "def graph_to_nxdigraph(graph):\n",
        "  nxdigraph = nx.DiGraph()\n",
        "  for i in graph.keys():\n",
        "    nxdigraph.add_node(i)\n",
        "    for v in graph[i]:\n",
        "      nxdigraph.add_edge(i, v)\n",
        "  return nxdigraph"
      ],
      "metadata": {
        "id": "o_48UpeViow9"
      },
      "execution_count": 132,
      "outputs": []
    },
    {
      "cell_type": "code",
      "source": [
        "from collections import defaultdict\n",
        "import math\n",
        "import random\n",
        "\n",
        "# Crea un grafo sin ciclos de nodos de 0 a V - 1\n",
        "# Retorna un dicionario [defaultdict(list)] \n",
        "# de key valor del nodo (0 a V - 1) y de value una \n",
        "# lista con los nodos a los cuales se conecta\n",
        "def graph_instance_creator(V):\n",
        "  nodes = random.sample(range(0, V), V)\n",
        "  div = int(math.ceil(V / 4))\n",
        "\n",
        "  current_div = div\n",
        "  graph = defaultdict(list)\n",
        "  for i in reversed(range(len(nodes))):\n",
        "    selectables = []\n",
        "    if (len(nodes) - current_div <= 0):\n",
        "      selectables = random.sample(nodes, random.randint(1, len(nodes)))\n",
        "    else:\n",
        "      population = nodes[:len(nodes)-current_div]\n",
        "      end = len(population) if len(population) < 4 else 4\n",
        "      selectables = random.sample(population, random.randint(1, end))\n",
        "    for selectable in selectables:\n",
        "      if (nodes[i] != selectable and not selectable in graph[nodes[i]]):\n",
        "        graph[nodes[i]].append(selectable)\n",
        "    if (i < len(nodes) - current_div):\n",
        "      current_div += div\n",
        "\n",
        "  return graph"
      ],
      "metadata": {
        "id": "oV3KJvyocZTS"
      },
      "execution_count": 133,
      "outputs": []
    },
    {
      "cell_type": "code",
      "source": [
        "def topoSort(i,state,stack,G):\n",
        "  state[i] = \"descubierto\"                                                      #se marca el nodo como visitado\n",
        "                                                                                #se recorren los nodos adyacentes al actual\n",
        "  if len(list(G[i])) == 0:\n",
        "    stack.append(i+1)\n",
        "\n",
        "  for v in reversed(list(G[i])):\n",
        "    if state[v] == \"no descubierto\":\n",
        "      topoSort(v, state, stack, G)\n",
        "      \n",
        "  stack.append(i)                                                               #se agregan los nodos despues que se hayan visitado sus adyacentes"
      ],
      "metadata": {
        "id": "_CQwrsKrasSf"
      },
      "execution_count": 134,
      "outputs": []
    },
    {
      "cell_type": "code",
      "execution_count": 135,
      "metadata": {
        "id": "FB3KXUYoPQH4"
      },
      "outputs": [],
      "source": [
        "def topologicalSort(G):\n",
        "  stack = []                                                                    #se inicializa el stack para almacenar de forma inversa los nodos\n",
        "  #state = dict()\n",
        "  state = [False]*10\n",
        "  for i in G:\n",
        "    state[i] = \"no descubierto\"                                                 #se inicializa cada nodo como no descubierto\n",
        "\n",
        "  for i in range(10):\n",
        "    if state[i] == \"no descubierto\":\n",
        "      topoSort(i,state,stack,G)\n",
        "\n",
        "  return stack[::-1]"
      ]
    },
    {
      "cell_type": "code",
      "source": [
        "#G = graph_instance_creator(10)\n",
        "\n",
        "G = defaultdict(list)\n",
        "G[5].append(2)\n",
        "G[5].append(0)\n",
        "G[4].append(0)\n",
        "G[4].append(1)\n",
        "G[2].append(3)\n",
        "G[3].append(1)\n",
        "\n",
        "grafo = graph_to_nxdigraph(G)\n",
        "\n",
        "stack = topologicalSort(G)\n",
        "\n",
        "print(stack)\n",
        "\n",
        "# spring_layout: define posiciones para los nodos del grafo\n",
        "pos=nx.spring_layout(grafo)\n",
        "#pos = graphviz_layout(G, prog=\"dot\")\n",
        "\n",
        "# para mostrar los arcos con sus etiquetas\n",
        "labels = nx.get_edge_attributes(grafo,'weight')\n",
        "nx.draw_networkx_edge_labels(grafo,pos,edge_labels=labels,font_size=14)\n",
        "\n",
        "# para mostrar los nodos en sus posiciones y colores, tamaños, etc.\n",
        "nx.draw(grafo,pos, with_labels=True, node_size=800, font_color=\"white\", font_size=14, font_weight=\"black\", width  =2.0, edge_color =\"green\")"
      ],
      "metadata": {
        "colab": {
          "base_uri": "https://localhost:8080/",
          "height": 265
        },
        "id": "QT7tgeImcd9I",
        "outputId": "f56eac19-db5b-4d42-c65a-86f1a20a6155"
      },
      "execution_count": 136,
      "outputs": [
        {
          "output_type": "stream",
          "name": "stdout",
          "text": [
            "[5, 4, 2, 3]\n"
          ]
        },
        {
          "output_type": "display_data",
          "data": {
            "text/plain": [
              "<Figure size 432x288 with 1 Axes>"
            ],
            "image/png": "[encoded data removed]"
          },
          "metadata": {}
        }
      ]
    },
    {
      "cell_type": "markdown",
      "source": [
        "#3. Tiempo de ejecución\n",
        "\n",
        "El algoritmo tiene un tiempo de ejecución de $O(V+E)$ donde **V** representa la cantidad de nodos (o vertices) y **E** representa a los arcos entre ellos.\n",
        "\n",
        "**Prueba del Teorema**\n",
        "\n",
        "Esto se puede comprobar de la siguiente manera:\n",
        "1.  El algoritmo ingresa únicamente una vez a cada vertice al stack, lo cuál nos da una complejida de $O(V)$\n",
        "\n",
        "2.  Por cada vertice, el algoritmo recorre una única vez sus conexiones, lo que finalmente nos da que su complejidad es de $O(E)$\n",
        "\n",
        "Si juntamos estas complejidades nos da que la complejidad total (o tiempo de ejecución) del algoritmo es de $O(V+E)$"
      ],
      "metadata": {
        "id": "z4ww7GayVRsb"
      }
    },
    {
      "cell_type": "markdown",
      "source": [
        "#4. Correctitud\n",
        "\n",
        "La correctitud de este algoritmo puede ser explicada de forma similar a la del DFS, puesto que su implementación son similares.\n",
        "\n",
        "El algoritmo llamará a cada vértice una única vez, puesto que al momento de llamar a este se le colocará una etiqueta para indicar que ya fue analizado. Provocando que cada vértice tenga una etiqueta distinta que va desde **1** hasta **n**, siendo **n** la cantidad de vértices totales.\n",
        "\n",
        "###**Prueba del teorema:**\n",
        "\n",
        "Caso base (n = 1): si el grafo recibido tiene únicamente un nodo, el orden topológico será iguál a 1.\n",
        "\n",
        "Caso 1: si **V** se descubre antes que **W**, se tiene que **V** se llama como nodo inicial antes de que **W** se marque como explorado. Como **W** es alcanzable desde **V** y se llama recursivamente en **W**, debido al funcionamiento **LIFO** de las llamadas recursivas, la llamada en **W** se completa antes que la de **V**, por lo que según la etiqueta **f(w) > f(v)**.\n",
        "\n",
        "Caso 2: supongamos que **W** es descubierto antes que **V**, como **G** es un grafo **DAG** no hay camino de **W** a **v**, por otro lado, combinar este camino con el arco **(V,W)** produciría un ciclo directo. Por lo que esta termina con **V** como inexplorado, nuevamente esto produce que la llamada en **W** se complete antes, y que se mantenga que **f(W) > f(V)**.\n"
      ],
      "metadata": {
        "id": "rOIAXCHnXiYI"
      }
    }
  ]
}