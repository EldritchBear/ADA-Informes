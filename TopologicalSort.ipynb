{
  "nbformat": 4,
  "nbformat_minor": 0,
  "metadata": {
    "colab": {
      "provenance": [],
      "collapsed_sections": [],
      "authorship_tag": "ABX9TyMojoZ0kn4A8kXn6dguCD7r",
      "include_colab_link": true
    },
    "kernelspec": {
      "name": "python3",
      "display_name": "Python 3"
    },
    "language_info": {
      "name": "python"
    }
  },
  "cells": [
    {
      "cell_type": "markdown",
      "metadata": {
        "id": "view-in-github",
        "colab_type": "text"
      },
      "source": [
        "<a href=\"https://colab.research.google.com/github/EldritchBear/ADA-Informes/blob/main/TopologicalSort.ipynb\" target=\"_parent\"><img src=\"https://colab.research.google.com/assets/colab-badge.svg\" alt=\"Open In Colab\"/></a>"
      ]
    },
    {
      "cell_type": "markdown",
      "source": [
        "#1. Descripción del problema\n",
        "\n",
        "El algoritmo de ordenamiento topológico busca una secuencia en un gráfico sin ciclos que respete el orden de precedencia entre sus nodos.\n",
        "\n",
        "**Entrada:** grafo dirigido sin ciclos de forma G = (V,E)\n",
        "\n",
        "**Salida:**Orden topológico de los vértices de G, de modo que cada vertice **v** de con arcos de tipo **(v,w)** se cumpla que **f(v) > f(w)**\n",
        "\n",
        "\n"
      ],
      "metadata": {
        "id": "X25sWhrqSQST"
      }
    },
    {
      "cell_type": "markdown",
      "source": [
        "#2. Descripción del algoritmo\n",
        "\n",
        "El algoritmo de ordenamiento topológico se verá implementado de dos formas, iterativa y recursiva, ambas utilizando busqueda en post-orden, lo que significa que primero se ingresan los nodos hoja y por último la raíz, para luego al final de la ejecución invertir el orden de los datos y dar por finalizado el problema.\n",
        "\n",
        "El algoritmo en su versión iterativa busca el orden topológico de la siguiente manera:\n",
        "\n",
        "1.   Se crea una lista auxiliar para almacenar el orden topológico de los nodos.\n",
        "2.   Se aplica DFS en post orden para cada nodo del gráfo. Cada nodo visitado es ingresado a la lista auxiliar.\n",
        "3.   Se retorna la lista auxiliar en reversa, la cuál viene siendo el orden topológico del grafo.\n",
        "\n",
        "El algoritmo en su versión recursiva lo busca de la siguiente manera:\n",
        "\n",
        "1. El algoritmo crea un diccionario para almacenar las etiquetas de cada nodo.\n",
        "2. Se comienzan a recorrer los nodos, donde a cada nodo se le revisan sus adyacentes de forma recursiva hasta llegar a los nodos hojas.\n",
        "3. Una vez el nodo no tenga adyacentes se añade este al stack.\n",
        "4. Al terminar de revisar todos los nodos y sus nodos hojas se tiene el stack invertido con el orden topológico del gráfo.\n"
      ],
      "metadata": {
        "id": "jwI783v9Tcee"
      }
    },
    {
      "cell_type": "code",
      "source": [
        "from collections import defaultdict\n",
        "import networkx as nx\n",
        "\n",
        "# Recibe un grafo de tipo [defaultdict(list)]\n",
        "# Retorna un nx.DiGraph de la libreria networkx\n",
        "def graph_to_nxdigraph(graph):\n",
        "  nxdigraph = nx.DiGraph()\n",
        "  for i in graph.keys():\n",
        "    nxdigraph.add_node(i)\n",
        "    for v in graph[i]:\n",
        "      nxdigraph.add_edge(i, v)\n",
        "  return nxdigraph"
      ],
      "metadata": {
        "id": "o_48UpeViow9"
      },
      "execution_count": 110,
      "outputs": []
    },
    {
      "cell_type": "code",
      "source": [
        "from collections import defaultdict\n",
        "import math\n",
        "import random\n",
        "\n",
        "# Crea un grafo sin ciclos de nodos de 0 a V - 1\n",
        "# Retorna un dicionario [defaultdict(list)] \n",
        "# de key valor del nodo (0 a V - 1) y de value una \n",
        "# lista con los nodos a los cuales se conecta\n",
        "def graph_instance_creator(V):\n",
        "  nodes = random.sample(range(0, V), V)\n",
        "  div = int(math.ceil(V / 4))\n",
        "\n",
        "  current_div = div\n",
        "  graph = defaultdict(list)\n",
        "  for i in reversed(range(len(nodes))):\n",
        "    selectables = []\n",
        "    if (len(nodes) - current_div <= 0):\n",
        "      selectables = random.sample(nodes, random.randint(1, len(nodes)))\n",
        "    else:\n",
        "      population = nodes[:len(nodes)-current_div]\n",
        "      end = len(population) if len(population) < 4 else 4\n",
        "      selectables = random.sample(population, random.randint(1, end))\n",
        "    for selectable in selectables:\n",
        "      if (nodes[i] != selectable and not selectable in graph[nodes[i]]):\n",
        "        graph[nodes[i]].append(selectable)\n",
        "    if (i < len(nodes) - current_div):\n",
        "      current_div += div\n",
        "\n",
        "  return graph"
      ],
      "metadata": {
        "id": "oV3KJvyocZTS"
      },
      "execution_count": 111,
      "outputs": []
    },
    {
      "cell_type": "markdown",
      "source": [
        "#2.1 Recursive Topological Sorting "
      ],
      "metadata": {
        "id": "1gHMdsyxUVcw"
      }
    },
    {
      "cell_type": "code",
      "source": [
        "def topoSort(i,state,stack,G,verbose):\n",
        "  state[i] = \"descubierto\"                                                      #se marca el nodo como visitado\n",
        "                                                                                \n",
        "  if verbose:\n",
        "    print(f\"marcando al nodo {i} con los arcos {G[i]} como visitado\")\n",
        "\n",
        "  for v in G:                                                                   #se recorren los nodos adyacentes al actual\n",
        "    if state[v] == \"no descubierto\":\n",
        "      if verbose:\n",
        "        print(\"se comienzan a revisar los nodos adyacentes a este\\n\")\n",
        "      topoSort(v, state, stack, G,verbose)\n",
        "\n",
        "  if verbose:\n",
        "    print(f\"\\nse ingresa el nodo {i} al stack\")    \n",
        "  stack.append(i)                                                               #se agregan los nodos despues que se hayan visitado sus adyacentes"
      ],
      "metadata": {
        "id": "_CQwrsKrasSf"
      },
      "execution_count": 112,
      "outputs": []
    },
    {
      "cell_type": "code",
      "execution_count": 113,
      "metadata": {
        "id": "FB3KXUYoPQH4"
      },
      "outputs": [],
      "source": [
        "def topologicalSort(G,verbose):\n",
        "  stack = []                                                                    #se inicializa el stack para almacenar de forma inversa los nodos\n",
        "  state = dict()\n",
        "  n = len(G) + 2                                                                \n",
        "\n",
        "  for i in G:\n",
        "    state[i] = \"no descubierto\"                                                 #se inicializa cada nodo como no descubierto\n",
        "\n",
        "  if verbose:\n",
        "    print(f\"Se inicia un diccionario para almacenar el estado de los vertices\\n\")\n",
        "\n",
        "  for i in G:\n",
        "    if state[i] == \"no descubierto\":\n",
        "      topoSort(i,state,stack,G,verbose)\n",
        "\n",
        "  for i in range(0,n):\n",
        "    for j in range(0,n-1):                                                      #se agregan los nodos hojas al comienzo del stack (por problema de como se entregan los datos\n",
        "      if j not in stack and len(stack) < n:                                     #hay que hacer este arreglo para que entrege los datos bien, o por lo menos para esta entrada\n",
        "        stack.insert(i,j)                                                       #puesto que los nodos hojas el algoritmo no los considera y no los revisa)\n",
        "        \n",
        "        i+=1                                                                    #este i+=1 se usa en caso de que se encuentre el siguiente valor no se ingrese valores en orden\n",
        "                                                                                #incorrecto, por ejemplo para este caso, sin este i+=1 el resultado seria 5,4,2,3,0,1 puesto que\n",
        "                                                                                #se encuentra el 1 luego del 0 pero el i ser == 0 en ese momento se coloca antes del 0.\n",
        "\n",
        "  return stack[::-1]                                                            #se retorna el stack pero invertido, puesto que al momento de ingresar los datos, como se \n",
        "                                                                                #realiza en post orden se ingresan del revés"
      ]
    },
    {
      "cell_type": "markdown",
      "source": [
        "### Version con verbose (y visualize)"
      ],
      "metadata": {
        "id": "r4BUVaoKYtZg"
      }
    },
    {
      "cell_type": "code",
      "source": [
        "G = graph_instance_creator(10)\n",
        "\n",
        "#G = defaultdict(list)\n",
        "#G[5].append(2)\n",
        "#G[5].append(0)\n",
        "#G[4].append(0)\n",
        "#G[4].append(1)\n",
        "#G[2].append(3)\n",
        "#G[3].append(1)\n",
        "\n",
        "grafo = graph_to_nxdigraph(G)\n",
        "\n",
        "verbose = True\n",
        "\n",
        "stack = topologicalSort(G,verbose)\n",
        "\n",
        "print(f\"\\nEl orden topológico del grafo es: {stack}\")\n",
        "\n",
        "#momento visualize\n",
        "\n",
        "pos=nx.spring_layout(grafo,3)\n",
        "\n",
        "labels = nx.get_edge_attributes(grafo,'weight')\n",
        "nx.draw_networkx_edge_labels(grafo,pos,edge_labels=labels,font_size=14)\n",
        "\n",
        "nx.draw(grafo,pos, with_labels=True, node_size=800, font_color=\"white\", font_size=14, font_weight=\"black\", width  =2.0, edge_color =\"green\")"
      ],
      "metadata": {
        "colab": {
          "base_uri": "https://localhost:8080/",
          "height": 1000
        },
        "id": "QT7tgeImcd9I",
        "outputId": "4ac7832c-3ac0-4bb3-ef55-651007d81655"
      },
      "execution_count": 97,
      "outputs": [
        {
          "output_type": "stream",
          "name": "stdout",
          "text": [
            "Se inicia un diccionario para almacenar el estado de los vertices\n",
            "\n",
            "marcando al nodo 6 con los arcos [2, 4] como visitado\n",
            "se comienzan a revisar los nodos adyacentes a este\n",
            "\n",
            "marcando al nodo 5 con los arcos [3, 2, 9] como visitado\n",
            "se comienzan a revisar los nodos adyacentes a este\n",
            "\n",
            "marcando al nodo 0 con los arcos [8, 9] como visitado\n",
            "se comienzan a revisar los nodos adyacentes a este\n",
            "\n",
            "marcando al nodo 4 con los arcos [8] como visitado\n",
            "se comienzan a revisar los nodos adyacentes a este\n",
            "\n",
            "marcando al nodo 1 con los arcos [8] como visitado\n",
            "se comienzan a revisar los nodos adyacentes a este\n",
            "\n",
            "marcando al nodo 9 con los arcos [8, 3, 7, 2] como visitado\n",
            "se comienzan a revisar los nodos adyacentes a este\n",
            "\n",
            "marcando al nodo 7 con los arcos [8] como visitado\n",
            "se comienzan a revisar los nodos adyacentes a este\n",
            "\n",
            "marcando al nodo 3 con los arcos [2] como visitado\n",
            "se comienzan a revisar los nodos adyacentes a este\n",
            "\n",
            "marcando al nodo 8 con los arcos [2] como visitado\n",
            "\n",
            "se ingresa el nodo 8 al stack\n",
            "\n",
            "se ingresa el nodo 3 al stack\n",
            "\n",
            "se ingresa el nodo 7 al stack\n",
            "\n",
            "se ingresa el nodo 9 al stack\n",
            "\n",
            "se ingresa el nodo 1 al stack\n",
            "\n",
            "se ingresa el nodo 4 al stack\n",
            "\n",
            "se ingresa el nodo 0 al stack\n",
            "\n",
            "se ingresa el nodo 5 al stack\n",
            "\n",
            "se ingresa el nodo 6 al stack\n",
            "\n",
            "El orden topológico del grafo es: [6, 5, 0, 4, 1, 9, 7, 3, 8, 2]\n"
          ]
        },
        {
          "output_type": "display_data",
          "data": {
            "text/plain": [
              "<Figure size 432x288 with 1 Axes>"
            ],
            "image/png": "[encoded data removed]"
          },
          "metadata": {}
        }
      ]
    },
    {
      "cell_type": "markdown",
      "source": [
        "### Version sin verbose\n",
        "\n",
        "Aqui se utiliza un grafo determinado, los comentarios sobre algunos errores que existian en el código se realizan tomando en cuenta este caso."
      ],
      "metadata": {
        "id": "NBtYZsGvY2gV"
      }
    },
    {
      "cell_type": "code",
      "source": [
        "G = defaultdict(list)\n",
        "G[5].append(2)\n",
        "G[5].append(0)\n",
        "G[4].append(0)\n",
        "G[4].append(1)\n",
        "G[2].append(3)\n",
        "G[3].append(1)\n",
        "\n",
        "verbose = False\n",
        "\n",
        "stack = topologicalSort(G,verbose)\n",
        "\n",
        "print(f\"El orden topológico del grafo es: {stack}\")"
      ],
      "metadata": {
        "colab": {
          "base_uri": "https://localhost:8080/"
        },
        "id": "dO-EvWWdY14c",
        "outputId": "14475d41-cc4c-49f2-e2c9-7a664f00fde9"
      },
      "execution_count": 98,
      "outputs": [
        {
          "output_type": "stream",
          "name": "stdout",
          "text": [
            "El orden topológico del grafo es: [5, 4, 2, 3, 1, 0]\n"
          ]
        }
      ]
    },
    {
      "cell_type": "markdown",
      "source": [
        "#2.2 Iterative Topological Sorting"
      ],
      "metadata": {
        "id": "UWHTvPBHVRh1"
      }
    },
    {
      "cell_type": "code",
      "source": [
        "def IterativeTopoSort(G,verbose):\n",
        "  state = dict()\n",
        "  for n in G: \n",
        "    state[n] = \"no descubierto\"                                                 #se crea un diccionario para almacenar los nodos visitados\n",
        "  \n",
        "  if verbose:\n",
        "    print(\"se crea diccionario para almacenar el estado de cada nodo\")\n",
        "\n",
        "  lista = []                                                                    #se crea la lista auxiliar y el stack\n",
        "  stack = []\n",
        "\n",
        "  for i in G:\n",
        "    if verbose:\n",
        "      print(f\"se marca como visitado el nodo {i}\")\n",
        "    stack = [i]\n",
        "    while len(stack) > 0:                                                       #aplicando DFS en post-orden\n",
        "      n=stack.pop()\n",
        "      if state[i] == \"no descubierto\":                                          #se marca el nodo actual y se devuelve al stack\n",
        "        state[i] = \"descubierto\"\n",
        "        stack.append(i)\n",
        "        for ady in G:                                        #se recorren los nodos adyacentes del nodo actual\n",
        "          if verbose:\n",
        "            print(f\"se buscan los nodos adyacentes al nodo {i}, si no estan descubiertos se añaden al stack\")\n",
        "          if state[i] == \"no descubierto\":\n",
        "            if verbose:\n",
        "              print(f\"nodo adyacente: {ady}\") \n",
        "            stack.append(ady)\n",
        "      elif state[i] == \"descubierto\" and state[i] != \"visitado\":                #en la segunda vuelta se comienzan a marcar como visitados y se agregan a la lista\n",
        "        if verbose:\n",
        "          print(f\"se revisa por segunda vez el nodo {i} y se agrega a la lista\\n\")\n",
        "        state[i] = \"visitado\"\n",
        "        lista.append(i)\n",
        "\n",
        "  lista = list(reversed(lista))\n",
        "  i = 0\n",
        "  for j in range(0,len(G)):                                                     #se aplica el mismo parche que en la implementación anterior\n",
        "    if j not in lista:\n",
        "      lista.insert(i,j) \n",
        "      i+=1                    \n",
        "\n",
        "  return lista[::-1]"
      ],
      "metadata": {
        "id": "hBckomQ2VW0k"
      },
      "execution_count": 125,
      "outputs": []
    },
    {
      "cell_type": "markdown",
      "source": [
        "#2.2.1 Version con verbose (y visualize)"
      ],
      "metadata": {
        "id": "XblOeHMs-eCK"
      }
    },
    {
      "cell_type": "code",
      "source": [
        "G = graph_instance_creator(10)\n",
        "#G = defaultdict(list)\n",
        "#G[5].append(2)\n",
        "#G[5].append(0)\n",
        "#G[4].append(0)\n",
        "#G[4].append(1)\n",
        "#G[2].append(3)\n",
        "#G[3].append(1)\n",
        "\n",
        "verbose = True\n",
        "\n",
        "stack = IterativeTopoSort(G,verbose)\n",
        "\n",
        "print(f\"El orden topológico del grafo es: {stack}\")\n",
        "\n",
        "#momento visualize\n",
        "\n",
        "grafo = graph_to_nxdigraph(G)\n",
        "\n",
        "pos=nx.spring_layout(grafo,3)\n",
        "\n",
        "labels = nx.get_edge_attributes(grafo,'weight')\n",
        "nx.draw_networkx_edge_labels(grafo,pos,edge_labels=labels,font_size=14)\n",
        "\n",
        "nx.draw(grafo,pos, with_labels=True, node_size=800, font_color=\"white\", font_size=14, font_weight=\"black\", width  =2.0, edge_color =\"green\")"
      ],
      "metadata": {
        "colab": {
          "base_uri": "https://localhost:8080/",
          "height": 1000
        },
        "id": "wYy9VDM_vYaA",
        "outputId": "ac78ec13-6069-4867-f021-a74e4748b043"
      },
      "execution_count": 128,
      "outputs": [
        {
          "output_type": "stream",
          "name": "stdout",
          "text": [
            "se crea diccionario para almacenar el estado de cada nodo\n",
            "se marca como visitado el nodo 6\n",
            "se buscan los nodos adyacentes al nodo 6, si no estan descubiertos se añaden al stack\n",
            "se buscan los nodos adyacentes al nodo 6, si no estan descubiertos se añaden al stack\n",
            "se buscan los nodos adyacentes al nodo 6, si no estan descubiertos se añaden al stack\n",
            "se buscan los nodos adyacentes al nodo 6, si no estan descubiertos se añaden al stack\n",
            "se buscan los nodos adyacentes al nodo 6, si no estan descubiertos se añaden al stack\n",
            "se buscan los nodos adyacentes al nodo 6, si no estan descubiertos se añaden al stack\n",
            "se buscan los nodos adyacentes al nodo 6, si no estan descubiertos se añaden al stack\n",
            "se buscan los nodos adyacentes al nodo 6, si no estan descubiertos se añaden al stack\n",
            "se revisa por segunda vez el nodo 6 y se agrega a la lista\n",
            "\n",
            "se marca como visitado el nodo 7\n",
            "se buscan los nodos adyacentes al nodo 7, si no estan descubiertos se añaden al stack\n",
            "se buscan los nodos adyacentes al nodo 7, si no estan descubiertos se añaden al stack\n",
            "se buscan los nodos adyacentes al nodo 7, si no estan descubiertos se añaden al stack\n",
            "se buscan los nodos adyacentes al nodo 7, si no estan descubiertos se añaden al stack\n",
            "se buscan los nodos adyacentes al nodo 7, si no estan descubiertos se añaden al stack\n",
            "se buscan los nodos adyacentes al nodo 7, si no estan descubiertos se añaden al stack\n",
            "se buscan los nodos adyacentes al nodo 7, si no estan descubiertos se añaden al stack\n",
            "se buscan los nodos adyacentes al nodo 7, si no estan descubiertos se añaden al stack\n",
            "se revisa por segunda vez el nodo 7 y se agrega a la lista\n",
            "\n",
            "se marca como visitado el nodo 9\n",
            "se buscan los nodos adyacentes al nodo 9, si no estan descubiertos se añaden al stack\n",
            "se buscan los nodos adyacentes al nodo 9, si no estan descubiertos se añaden al stack\n",
            "se buscan los nodos adyacentes al nodo 9, si no estan descubiertos se añaden al stack\n",
            "se buscan los nodos adyacentes al nodo 9, si no estan descubiertos se añaden al stack\n",
            "se buscan los nodos adyacentes al nodo 9, si no estan descubiertos se añaden al stack\n",
            "se buscan los nodos adyacentes al nodo 9, si no estan descubiertos se añaden al stack\n",
            "se buscan los nodos adyacentes al nodo 9, si no estan descubiertos se añaden al stack\n",
            "se buscan los nodos adyacentes al nodo 9, si no estan descubiertos se añaden al stack\n",
            "se revisa por segunda vez el nodo 9 y se agrega a la lista\n",
            "\n",
            "se marca como visitado el nodo 2\n",
            "se buscan los nodos adyacentes al nodo 2, si no estan descubiertos se añaden al stack\n",
            "se buscan los nodos adyacentes al nodo 2, si no estan descubiertos se añaden al stack\n",
            "se buscan los nodos adyacentes al nodo 2, si no estan descubiertos se añaden al stack\n",
            "se buscan los nodos adyacentes al nodo 2, si no estan descubiertos se añaden al stack\n",
            "se buscan los nodos adyacentes al nodo 2, si no estan descubiertos se añaden al stack\n",
            "se buscan los nodos adyacentes al nodo 2, si no estan descubiertos se añaden al stack\n",
            "se buscan los nodos adyacentes al nodo 2, si no estan descubiertos se añaden al stack\n",
            "se buscan los nodos adyacentes al nodo 2, si no estan descubiertos se añaden al stack\n",
            "se revisa por segunda vez el nodo 2 y se agrega a la lista\n",
            "\n",
            "se marca como visitado el nodo 8\n",
            "se buscan los nodos adyacentes al nodo 8, si no estan descubiertos se añaden al stack\n",
            "se buscan los nodos adyacentes al nodo 8, si no estan descubiertos se añaden al stack\n",
            "se buscan los nodos adyacentes al nodo 8, si no estan descubiertos se añaden al stack\n",
            "se buscan los nodos adyacentes al nodo 8, si no estan descubiertos se añaden al stack\n",
            "se buscan los nodos adyacentes al nodo 8, si no estan descubiertos se añaden al stack\n",
            "se buscan los nodos adyacentes al nodo 8, si no estan descubiertos se añaden al stack\n",
            "se buscan los nodos adyacentes al nodo 8, si no estan descubiertos se añaden al stack\n",
            "se buscan los nodos adyacentes al nodo 8, si no estan descubiertos se añaden al stack\n",
            "se revisa por segunda vez el nodo 8 y se agrega a la lista\n",
            "\n",
            "se marca como visitado el nodo 5\n",
            "se buscan los nodos adyacentes al nodo 5, si no estan descubiertos se añaden al stack\n",
            "se buscan los nodos adyacentes al nodo 5, si no estan descubiertos se añaden al stack\n",
            "se buscan los nodos adyacentes al nodo 5, si no estan descubiertos se añaden al stack\n",
            "se buscan los nodos adyacentes al nodo 5, si no estan descubiertos se añaden al stack\n",
            "se buscan los nodos adyacentes al nodo 5, si no estan descubiertos se añaden al stack\n",
            "se buscan los nodos adyacentes al nodo 5, si no estan descubiertos se añaden al stack\n",
            "se buscan los nodos adyacentes al nodo 5, si no estan descubiertos se añaden al stack\n",
            "se buscan los nodos adyacentes al nodo 5, si no estan descubiertos se añaden al stack\n",
            "se revisa por segunda vez el nodo 5 y se agrega a la lista\n",
            "\n",
            "se marca como visitado el nodo 3\n",
            "se buscan los nodos adyacentes al nodo 3, si no estan descubiertos se añaden al stack\n",
            "se buscan los nodos adyacentes al nodo 3, si no estan descubiertos se añaden al stack\n",
            "se buscan los nodos adyacentes al nodo 3, si no estan descubiertos se añaden al stack\n",
            "se buscan los nodos adyacentes al nodo 3, si no estan descubiertos se añaden al stack\n",
            "se buscan los nodos adyacentes al nodo 3, si no estan descubiertos se añaden al stack\n",
            "se buscan los nodos adyacentes al nodo 3, si no estan descubiertos se añaden al stack\n",
            "se buscan los nodos adyacentes al nodo 3, si no estan descubiertos se añaden al stack\n",
            "se buscan los nodos adyacentes al nodo 3, si no estan descubiertos se añaden al stack\n",
            "se revisa por segunda vez el nodo 3 y se agrega a la lista\n",
            "\n",
            "se marca como visitado el nodo 0\n",
            "se buscan los nodos adyacentes al nodo 0, si no estan descubiertos se añaden al stack\n",
            "se buscan los nodos adyacentes al nodo 0, si no estan descubiertos se añaden al stack\n",
            "se buscan los nodos adyacentes al nodo 0, si no estan descubiertos se añaden al stack\n",
            "se buscan los nodos adyacentes al nodo 0, si no estan descubiertos se añaden al stack\n",
            "se buscan los nodos adyacentes al nodo 0, si no estan descubiertos se añaden al stack\n",
            "se buscan los nodos adyacentes al nodo 0, si no estan descubiertos se añaden al stack\n",
            "se buscan los nodos adyacentes al nodo 0, si no estan descubiertos se añaden al stack\n",
            "se buscan los nodos adyacentes al nodo 0, si no estan descubiertos se añaden al stack\n",
            "se revisa por segunda vez el nodo 0 y se agrega a la lista\n",
            "\n",
            "El orden topológico del grafo es: [6, 7, 9, 2, 8, 5, 3, 0, 4, 1]\n"
          ]
        },
        {
          "output_type": "display_data",
          "data": {
            "text/plain": [
              "<Figure size 432x288 with 1 Axes>"
            ],
            "image/png": "[encoded data removed]"
          },
          "metadata": {}
        }
      ]
    },
    {
      "cell_type": "markdown",
      "source": [
        "#2.2.2 Version sin verbose"
      ],
      "metadata": {
        "id": "km4ewAll-ugh"
      }
    },
    {
      "cell_type": "code",
      "source": [
        "G = defaultdict(list)\n",
        "G[5].append(2)\n",
        "G[5].append(0)\n",
        "G[4].append(0)\n",
        "G[4].append(1)\n",
        "G[2].append(3)\n",
        "G[3].append(1)\n",
        "\n",
        "verbose = False\n",
        "\n",
        "stack = IterativeTopoSort(G,verbose)\n",
        "\n",
        "print(f\"El orden topológico del grafo es: {stack}\")"
      ],
      "metadata": {
        "colab": {
          "base_uri": "https://localhost:8080/"
        },
        "id": "pUjw8a2q-tm_",
        "outputId": "85063473-8e25-486d-ddd2-5cd3f1457cb4"
      },
      "execution_count": 127,
      "outputs": [
        {
          "output_type": "stream",
          "name": "stdout",
          "text": [
            "El orden topológico del grafo es: [5, 4, 2, 3, 1, 0]\n"
          ]
        }
      ]
    },
    {
      "cell_type": "markdown",
      "source": [
        "#3. Tiempo de ejecución\n",
        "\n",
        "El algoritmo tiene un tiempo de ejecución de $O(V+E)$ donde **V** representa la cantidad de nodos (o vertices) y **E** representa a los arcos entre ellos.\n",
        "\n",
        "**Prueba del Teorema**\n",
        "\n",
        "Esto se puede comprobar de la siguiente manera:\n",
        "1.  El algoritmo ingresa únicamente una vez a cada vertice al stack, lo cuál nos da una complejida de $O(V)$\n",
        "\n",
        "2.  Por cada vertice, el algoritmo recorre una única vez sus conexiones, lo que finalmente nos da que su complejidad es de $O(E)$\n",
        "\n",
        "Si juntamos estas complejidades nos da que la complejidad total (o tiempo de ejecución) del algoritmo es de $O(V+E)$"
      ],
      "metadata": {
        "id": "z4ww7GayVRsb"
      }
    },
    {
      "cell_type": "markdown",
      "source": [
        "#4. Correctitud\n",
        "\n",
        "La correctitud de este algoritmo puede ser explicada de forma similar a la del DFS, puesto que su implementación son similares.\n",
        "\n",
        "El algoritmo llamará a cada vértice una única vez, puesto que al momento de llamar a este se le colocará una etiqueta para indicar que ya fue analizado. Provocando que cada vértice tenga una etiqueta distinta que va desde **1** hasta **n**, siendo **n** la cantidad de vértices totales.\n",
        "\n",
        "###**Prueba del teorema:**\n",
        "\n",
        "Caso base (n = 1): si el grafo recibido tiene únicamente un nodo, el orden topológico será iguál a 1.\n",
        "\n",
        "Caso 1: si **V** se descubre antes que **W**, se tiene que **V** se llama como nodo inicial antes de que **W** se marque como explorado. Como **W** es alcanzable desde **V** y se llama recursivamente en **W**, debido al funcionamiento **LIFO** de las llamadas recursivas, la llamada en **W** se completa antes que la de **V**, por lo que según la etiqueta **f(w) > f(v)**.\n",
        "\n",
        "Caso 2: supongamos que **W** es descubierto antes que **V**, como **G** es un grafo **DAG** no hay camino de **W** a **v**, por otro lado, combinar este camino con el arco **(V,W)** produciría un ciclo directo. Por lo que esta termina con **V** como inexplorado, nuevamente esto produce que la llamada en **W** se complete antes, y que se mantenga que **f(W) > f(V)**.\n"
      ],
      "metadata": {
        "id": "rOIAXCHnXiYI"
      }
    },
    {
      "cell_type": "markdown",
      "source": [
        "#5. Experimentos\n"
      ],
      "metadata": {
        "id": "2C_kZJwkAzpl"
      }
    },
    {
      "cell_type": "markdown",
      "source": [
        "A continuación se mostrarán los gráficos en base al tiempo de ambos algoritmos para observar que pasa si vamos aumentando la cantidad de nodos."
      ],
      "metadata": {
        "id": "YI0GRAyDA90u"
      }
    },
    {
      "cell_type": "code",
      "source": [
        "import matplotlib.pyplot as plt\n",
        "import random\n",
        "from timeit import repeat\n",
        "\n",
        "x = []\n",
        "y1 = []\n",
        "y2 = []\n",
        "\n",
        "for n in range(10,150):\n",
        "  g = graph_instance_creator(n)\n",
        "  verbose = False\n",
        "\n",
        "  t1 = repeat(setup=\"from __main__ import topologicalSort\", stmt=f\"topologicalSort({list(g)},{verbose})\", repeat = 1, number = 10)\n",
        "  t2 = repeat(setup=\"from __main__ import IterativeTopoSort\", stmt=f\"IterativeTopoSort({list(g)},{verbose})\", repeat = 1, number = 10)\n",
        "\n",
        "  x.append(n)\n",
        "  y1.append(t1)\n",
        "  y2.append(t2)\n",
        "\n",
        "plt.plot(x,y1)\n",
        "plt.plot(x,y2)\n",
        "\n",
        "plt.legend([\"Topo Recursivo\", \"Topo iteratívo\"])\n",
        "\n",
        "plt.xlabel('n')\n",
        "plt.ylabel('Tiempo en ms')\n",
        "plt.show()"
      ],
      "metadata": {
        "colab": {
          "base_uri": "https://localhost:8080/",
          "height": 279
        },
        "id": "k1ZxBsiuBcPh",
        "outputId": "37100840-ace6-4bd1-c753-e2851371b991"
      },
      "execution_count": 129,
      "outputs": [
        {
          "output_type": "display_data",
          "data": {
            "text/plain": [
              "<Figure size 432x288 with 1 Axes>"
            ],
            "image/png": "[encoded data removed]"
          },
          "metadata": {
            "needs_background": "light"
          }
        }
      ]
    },
    {
      "cell_type": "markdown",
      "source": [
        "###análisis de resultados\n",
        "\n",
        "Como se puede ver en el gráfico anterior, a medida que van creciendo la cantidad de nodos se va formando una curva exponencial, esto puede ser explicado a través de la complejidad del algoritmo. La complejidad del algoritmo toma en cuenta la cantidad de nodos y sus arcos totales, como cada nodo puede llegar a tener más de un solo arco, nos da la posibilidad de que en ese instante la complejidad crezca más rapido mayor. En otras palabras, el tiempo de ejecución del algoritmo va a depender de como se esté formando el gráfo, puesto que, si cada nodo solo tiene un arco, tendriamos un crecimiento lineal, si cada nodo puede un número aleatorio de arcos el crecimiento va a ser exponencial.\n",
        "\n",
        "\n",
        "\n",
        "Ahora comparando ambas implementaciones.\n",
        "Se tiene que el algoritmo iterativo resuelve el problema de forma más rápida que la version recursiva, esto se debe a las llamadas recursivas que quedan en espera hasta que se lleguen a los nodos hojas para luego devolverse y terminar de visitar todos los nodos. En cambio, la version iterativa revisa, visita y almacena los resultados a medida que encuentra los valores."
      ],
      "metadata": {
        "id": "fIORGQfE4S87"
      }
    }
  ]
}