{
  "nbformat": 4,
  "nbformat_minor": 0,
  "metadata": {
    "colab": {
      "provenance": [],
      "authorship_tag": "ABX9TyMQ/xVrXVJD84ZEpBib0Tpr",
      "include_colab_link": true
    },
    "kernelspec": {
      "name": "python3",
      "display_name": "Python 3"
    },
    "language_info": {
      "name": "python"
    }
  },
  "cells": [
    {
      "cell_type": "markdown",
      "metadata": {
        "id": "view-in-github",
        "colab_type": "text"
      },
      "source": [
        "<a href=\"https://colab.research.google.com/github/EldritchBear/ADA-Informes/blob/main/CutRod.ipynb\" target=\"_parent\"><img src=\"https://colab.research.google.com/assets/colab-badge.svg\" alt=\"Open In Colab\"/></a>"
      ]
    },
    {
      "cell_type": "markdown",
      "source": [
        "#1. Descripción del problema\n",
        "\n",
        "La programación dinámica es un metodo similar al ya visto metodo de \"divide y vencerás\", ambos dividen el problema original en subproblemas y con las soluciones de estos subproblemas, si se combinan, se consigue la respuesta al problema original. \n",
        "\n",
        "Para poder aplicar la programación dinámica los subproblemas deben compartir soluciones, esto es debido a que si un subproblema ya fue resuelto con anterioridad solamente se debe buscar el valor que resulto al resolverlo por primera vez, esto se hace para no tener que resolver los mismos subproblemas más de una sola vez.\n",
        "\n",
        "La programación dinámica puede ser útil en algoritmos de optimización, como es en este caso con el algoritmo del $cutting Rod$, donde se ingresará un arreglo de precios dependiendo de la longitud y donde se debe retornar el mayor beneficio que se puede conseguir de una varilla.\n",
        "\n",
        "Entrada: arreglo $p$ de tamaño $n$ que es el arreglo con los precios dependiendo de la longitud de la varilla\n",
        "\n",
        "Salida: valor máximo del beneficio que se puede sacar de la varilla cortada.\n"
      ],
      "metadata": {
        "id": "Plg2B7tha2Va"
      }
    },
    {
      "cell_type": "markdown",
      "source": [
        "#2. Descripción del algoritmo\n",
        "\n",
        "El algoritmo del $Cutting Rod$ es un algoritmo de optimización, en el que se busca sacar el mayor beneficio de una varilla de metal de longitud n, a la cual se le van realizando cortes, con cada longitud teniendo un precio. Este algoritmo va diviendo el arreglo inicial, creando subproblemas hasta llegar a un caso base, y desde ese momento se empieza a calcular el retorno máximo.\n",
        "\n",
        "Pasos que realiza el algoritmo:\n",
        "\n",
        "1) el algoritmo divide el arreglo en todos los cortes posibles\n",
        "\n",
        "2) se calcula el retorno máximo de cada corte y se comparan con los demás hasta encontrar el máximo\n",
        "\n",
        "Se puede encontrar que este algoritmo presenta una subestructura óptima debido a que:\n",
        "\n",
        "1) está constantemente realizando elecciones al estar generando subproblemas con cada corte que se produce.\n",
        "\n",
        "2) se revisa cada corte para ver si la solucion que entrega es la óptima.\n",
        "\n",
        "3) con las soluciones de los subproblemas (cortes) se entrega el valor máximo de los cortes, utilizando soluciones óptimas de los subproblemas para conseguir la solución óptima del problema.\n",
        "\n",
        "La función de recursividad de del algoritmo \"Cutting Rod\" es:\n",
        "\n",
        " max(valMax, p[i]+ cutRodRecursivo(p,n-i-1) \n",
        "\n",
        " Aqui se busca el valor máximo entre el valor máximo guardado con anterioridad con el valor de un corte menor. De esta forma se esta recursivamente reduciendo el tamaño de la varilla y calculando el valor máximo del corte."
      ],
      "metadata": {
        "id": "XkBV_knHgKHh"
      }
    },
    {
      "cell_type": "markdown",
      "source": [
        "#2.1 Implementación para crear arreglos de precios\n",
        "Se utilizará más adelante con las implementaciones del algoritmo \"Cutting rod\""
      ],
      "metadata": {
        "id": "fzkQ2Q2cC0iu"
      }
    },
    {
      "cell_type": "code",
      "source": [
        "import random\n",
        "\n",
        "def cutrod_instance_generator(N):\n",
        "  A = []\n",
        "  prev = 0\n",
        "  for i in range(N):\n",
        "    r=random.randint(0,10)\n",
        "    A.append(prev+r)\n",
        "    prev+=r\n",
        "  return A"
      ],
      "metadata": {
        "id": "mXwlnhyfprLJ"
      },
      "execution_count": 1,
      "outputs": []
    },
    {
      "cell_type": "markdown",
      "source": [
        "#2.2 Cutting Rod implementado de forma recursiva\n",
        "Se utilizan arreglos de precios de tamaño 4 debido a la cantidad de llamadas que el algoritmo realiza, por lo que el verbose con un arreglo de tamaño 10, que es el que se utilizará luego con programación dinámica quedaría muy extenso."
      ],
      "metadata": {
        "id": "OXK3xa4fx5vD"
      }
    },
    {
      "cell_type": "code",
      "execution_count": 190,
      "metadata": {
        "id": "fHSvmrGsZhgN"
      },
      "outputs": [],
      "source": [
        "llamadasRecursivas = 0\n",
        "def cutRodRecursivo(p,n,verbose):\n",
        "  global llamadasRecursivas\n",
        "  if n == 0:\n",
        "    return 0\n",
        "\n",
        "  aux = float(\"-inf\")\n",
        "\n",
        "  for i in range(0,n):\n",
        "    aux = max(aux, p[i]+ cutRodRecursivo(p,n-i-1,verbose))\n",
        "    llamadasRecursivas += 1\n",
        "    if verbose:\n",
        "      print(f\"valor máximo encontrado hasta el momento es {aux} con una varilla de largo {i+1}\\n\")\n",
        "  return aux"
      ]
    },
    {
      "cell_type": "code",
      "source": [
        "a = cutrod_instance_generator(4)\n",
        "print(f\"Arreglo de precios: {a}\")\n",
        "n = len(a)\n",
        "verbose = False\n",
        "\n",
        "q = cutRodRecursivo(a,n,verbose)\n",
        "print(f\"valor máximo es {q}, encontrado en {llamadasRecursivas} llamadas, con el corte {a}\")\n",
        "llamadasRecursivas = 0"
      ],
      "metadata": {
        "colab": {
          "base_uri": "https://localhost:8080/"
        },
        "id": "LpPch1zfpne5",
        "outputId": "b84dbdc7-e496-4f95-ecbe-78e074f86a95"
      },
      "execution_count": 191,
      "outputs": [
        {
          "output_type": "stream",
          "name": "stdout",
          "text": [
            "Arreglo de precios: [7, 12, 20, 20]\n",
            "valor máximo es 28, encontrado en 15 llamadas, con el corte [7, 12, 20, 20]\n"
          ]
        }
      ]
    },
    {
      "cell_type": "code",
      "source": [
        "a = cutrod_instance_generator(4)\n",
        "n = len(a)\n",
        "verbose = True\n",
        "\n",
        "q = cutRodRecursivo(a,n,verbose)\n",
        "print(f\"valor máximo es {q}, encontrado en {llamadasRecursivas} llamadas, con el corte {a}\")\n",
        "llamadasRecursivas = 0"
      ],
      "metadata": {
        "colab": {
          "base_uri": "https://localhost:8080/"
        },
        "id": "0yL_1oe3yQ-S",
        "outputId": "cfd96b95-8b48-4eb3-9792-1bc1b9c2bc61"
      },
      "execution_count": 192,
      "outputs": [
        {
          "output_type": "stream",
          "name": "stdout",
          "text": [
            "valor máximo encontrado hasta el momento es 3 con una varilla de largo 1\n",
            "\n",
            "valor máximo encontrado hasta el momento es 6 con una varilla de largo 1\n",
            "\n",
            "valor máximo encontrado hasta el momento es 6 con una varilla de largo 2\n",
            "\n",
            "valor máximo encontrado hasta el momento es 9 con una varilla de largo 1\n",
            "\n",
            "valor máximo encontrado hasta el momento es 3 con una varilla de largo 1\n",
            "\n",
            "valor máximo encontrado hasta el momento es 9 con una varilla de largo 2\n",
            "\n",
            "valor máximo encontrado hasta el momento es 9 con una varilla de largo 3\n",
            "\n",
            "valor máximo encontrado hasta el momento es 12 con una varilla de largo 1\n",
            "\n",
            "valor máximo encontrado hasta el momento es 3 con una varilla de largo 1\n",
            "\n",
            "valor máximo encontrado hasta el momento es 6 con una varilla de largo 1\n",
            "\n",
            "valor máximo encontrado hasta el momento es 6 con una varilla de largo 2\n",
            "\n",
            "valor máximo encontrado hasta el momento es 12 con una varilla de largo 2\n",
            "\n",
            "valor máximo encontrado hasta el momento es 3 con una varilla de largo 1\n",
            "\n",
            "valor máximo encontrado hasta el momento es 12 con una varilla de largo 3\n",
            "\n",
            "valor máximo encontrado hasta el momento es 12 con una varilla de largo 4\n",
            "\n",
            "valor máximo es 12, encontrado en 15 llamadas, con el corte [3, 4, 7, 9]\n"
          ]
        }
      ]
    },
    {
      "cell_type": "markdown",
      "source": [
        "#2.3 Cutting Rod implementado con programación dinámica"
      ],
      "metadata": {
        "id": "WZD1sHuWyLfE"
      }
    },
    {
      "cell_type": "code",
      "source": [
        "cantidadSubproblemas = 0\n",
        "def cutRodBottomUp(p,n,verbose):\n",
        "  memoria = [0] * 10\n",
        "  global cantidadSubproblemas\n",
        "\n",
        "  if n == 0:\n",
        "    if verbose:\n",
        "      print(\"varilla de tamaño 0, retornando\")\n",
        "    return 0\n",
        "\n",
        "  if verbose:\n",
        "    print(f\"arreglo entrante de precios: {p}\")\n",
        "\n",
        "  for j in range(0,n):\n",
        "    if verbose:\n",
        "      print(f\"analizando varilla de largo {j+1}\")\n",
        "    aux = float(\"-inf\")\n",
        "    for i in(1,j):\n",
        "      cantidadSubproblemas += 1\n",
        "      aux = max(aux, p[i] + memoria[j-i-1])\n",
        "      if verbose:\n",
        "        print(f\"valor máximo encontrado entre {aux} y {p[i] + memoria[j-i-1]} es: {aux}\\n\")\n",
        "    memoria[j] = aux\n",
        "  return aux"
      ],
      "metadata": {
        "id": "QNWuRpWftUFb"
      },
      "execution_count": 193,
      "outputs": []
    },
    {
      "cell_type": "code",
      "source": [
        "a = cutrod_instance_generator(10)\n",
        "n = len(a)\n",
        "verbose = False\n",
        "\n",
        "q = cutRodBottomUp(a,n,verbose)\n",
        "print(f\"valor máximo es {q}, encontrado en {cantidadSubproblemas} llamadas, con el corte {a}\")\n",
        "cantidadSubproblemas = 0"
      ],
      "metadata": {
        "colab": {
          "base_uri": "https://localhost:8080/"
        },
        "id": "ymEHYES8u1h9",
        "outputId": "bf6f9e27-cac6-4dca-9eb4-7f5480385f14"
      },
      "execution_count": 194,
      "outputs": [
        {
          "output_type": "stream",
          "name": "stdout",
          "text": [
            "valor máximo es 95, encontrado en 20 llamadas, con el corte [10, 19, 20, 30, 34, 42, 49, 53, 55, 57]\n"
          ]
        }
      ]
    },
    {
      "cell_type": "code",
      "source": [
        "a = cutrod_instance_generator(10)\n",
        "n = len(a)\n",
        "verbose = True\n",
        "\n",
        "q = cutRodBottomUp(a,n,verbose)\n",
        "print(f\"valor máximo es {q}, encontrado en {cantidadSubproblemas} subproblemas, con el corte {a}\")\n",
        "cantidadSubproblemas = 0"
      ],
      "metadata": {
        "colab": {
          "base_uri": "https://localhost:8080/"
        },
        "id": "ZGEIcc57yoc7",
        "outputId": "26eb84a4-3085-43ce-90f9-460ad139b316"
      },
      "execution_count": 195,
      "outputs": [
        {
          "output_type": "stream",
          "name": "stdout",
          "text": [
            "arreglo entrante de precios: [9, 14, 14, 24, 31, 39, 44, 45, 46, 48]\n",
            "analizando varilla de largo 1\n",
            "valor máximo encontrado entre 14 y 14 es: 14\n",
            "\n",
            "valor máximo encontrado entre 14 y 9 es: 14\n",
            "\n",
            "analizando varilla de largo 2\n",
            "valor máximo encontrado entre 14 y 14 es: 14\n",
            "\n",
            "valor máximo encontrado entre 14 y 14 es: 14\n",
            "\n",
            "analizando varilla de largo 3\n",
            "valor máximo encontrado entre 28 y 28 es: 28\n",
            "\n",
            "valor máximo encontrado entre 28 y 14 es: 28\n",
            "\n",
            "analizando varilla de largo 4\n",
            "valor máximo encontrado entre 28 y 28 es: 28\n",
            "\n",
            "valor máximo encontrado entre 28 y 24 es: 28\n",
            "\n",
            "analizando varilla de largo 5\n",
            "valor máximo encontrado entre 42 y 42 es: 42\n",
            "\n",
            "valor máximo encontrado entre 42 y 31 es: 42\n",
            "\n",
            "analizando varilla de largo 6\n",
            "valor máximo encontrado entre 42 y 42 es: 42\n",
            "\n",
            "valor máximo encontrado entre 42 y 39 es: 42\n",
            "\n",
            "analizando varilla de largo 7\n",
            "valor máximo encontrado entre 56 y 56 es: 56\n",
            "\n",
            "valor máximo encontrado entre 56 y 44 es: 56\n",
            "\n",
            "analizando varilla de largo 8\n",
            "valor máximo encontrado entre 56 y 56 es: 56\n",
            "\n",
            "valor máximo encontrado entre 56 y 45 es: 56\n",
            "\n",
            "analizando varilla de largo 9\n",
            "valor máximo encontrado entre 70 y 70 es: 70\n",
            "\n",
            "valor máximo encontrado entre 70 y 46 es: 70\n",
            "\n",
            "analizando varilla de largo 10\n",
            "valor máximo encontrado entre 70 y 70 es: 70\n",
            "\n",
            "valor máximo encontrado entre 70 y 48 es: 70\n",
            "\n",
            "valor máximo es 70, encontrado en 20 subproblemas, con el corte [9, 14, 14, 24, 31, 39, 44, 45, 46, 48]\n"
          ]
        }
      ]
    }
  ]
}