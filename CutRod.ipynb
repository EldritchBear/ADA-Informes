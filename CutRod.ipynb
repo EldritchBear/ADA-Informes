{
  "nbformat": 4,
  "nbformat_minor": 0,
  "metadata": {
    "colab": {
      "provenance": [],
      "authorship_tag": "ABX9TyNV/MWlTha2TB3s9pjAf5Tp",
      "include_colab_link": true
    },
    "kernelspec": {
      "name": "python3",
      "display_name": "Python 3"
    },
    "language_info": {
      "name": "python"
    }
  },
  "cells": [
    {
      "cell_type": "markdown",
      "metadata": {
        "id": "view-in-github",
        "colab_type": "text"
      },
      "source": [
        "<a href=\"https://colab.research.google.com/github/EldritchBear/ADA-Informes/blob/main/CutRod.ipynb\" target=\"_parent\"><img src=\"https://colab.research.google.com/assets/colab-badge.svg\" alt=\"Open In Colab\"/></a>"
      ]
    },
    {
      "cell_type": "markdown",
      "source": [
        "#1. Descripción del problema\n",
        "\n",
        "La programación dinámica es un metodo similar al ya visto metodo de \"divide y vencerás\", ambos dividen el problema original en subproblemas y con las soluciones de estos subproblemas, si se combinan, se consigue la respuesta al problema original. \n",
        "\n",
        "Para poder aplicar la programación dinámica los subproblemas deben compartir soluciones, esto es debido a que si un subproblema ya fue resuelto con anterioridad solamente se debe buscar el valor que resulto al resolverlo por primera vez, esto se hace para no tener que resolver los mismos subproblemas más de una sola vez.\n",
        "\n",
        "La programación dinámica puede ser útil en algoritmos de optimización, como es en este caso con el algoritmo del $cutting Rod$, donde se ingresará un arreglo de precios dependiendo de la longitud y donde se debe retornar el mayor beneficio que se puede conseguir de una varilla.\n",
        "\n",
        "Entrada: arreglo $p$ de tamaño $n$ que es el arreglo con los precios dependiendo de la longitud de la varilla\n",
        "\n",
        "Salida: valor máximo del beneficio que se puede sacar de la varilla cortada.\n"
      ],
      "metadata": {
        "id": "Plg2B7tha2Va"
      }
    },
    {
      "cell_type": "markdown",
      "source": [
        "#2. Descripción del algoritmo\n",
        "\n",
        "El algoritmo del $Cutting Rod$ es un algoritmo de optimización, en el que se busca sacar el mayor beneficio de una varilla de metal de longitud n, a la cual se le van realizando cortes, con cada longitud teniendo un precio. Este algoritmo va diviendo el arreglo inicial, creando subproblemas hasta llegar a un caso base, y desde ese momento se empieza a calcular el retorno máximo.\n",
        "\n",
        "Pasos que realiza el algoritmo:\n",
        "\n",
        "1) el algoritmo divide el arreglo en todos los cortes posibles\n",
        "\n",
        "2) se calcula el retorno máximo de cada corte y se comparan con los demás hasta encontrar el máximo\n",
        "\n",
        "Se puede encontrar que este algoritmo presenta una subestructura óptima debido a que:\n",
        "\n",
        "1) está constantemente realizando elecciones al estar generando subproblemas con cada corte que se produce.\n",
        "\n",
        "2) se revisa cada corte para ver si la solucion que entrega es la óptima.\n",
        "\n",
        "3) con las soluciones de los subproblemas (cortes) se entrega el valor máximo de los cortes, utilizando soluciones óptimas de los subproblemas para conseguir la solución óptima del problema."
      ],
      "metadata": {
        "id": "XkBV_knHgKHh"
      }
    },
    {
      "cell_type": "code",
      "execution_count": null,
      "metadata": {
        "id": "fHSvmrGsZhgN"
      },
      "outputs": [],
      "source": []
    }
  ]
}