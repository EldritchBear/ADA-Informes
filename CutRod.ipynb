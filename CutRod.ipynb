{
  "nbformat": 4,
  "nbformat_minor": 0,
  "metadata": {
    "colab": {
      "provenance": [],
      "authorship_tag": "ABX9TyMt+PZfR7yOTD1iaMs7FHHK",
      "include_colab_link": true
    },
    "kernelspec": {
      "name": "python3",
      "display_name": "Python 3"
    },
    "language_info": {
      "name": "python"
    }
  },
  "cells": [
    {
      "cell_type": "markdown",
      "metadata": {
        "id": "view-in-github",
        "colab_type": "text"
      },
      "source": [
        "<a href=\"https://colab.research.google.com/github/EldritchBear/ADA-Informes/blob/main/CutRod.ipynb\" target=\"_parent\"><img src=\"https://colab.research.google.com/assets/colab-badge.svg\" alt=\"Open In Colab\"/></a>"
      ]
    },
    {
      "cell_type": "markdown",
      "source": [
        "#1. Descripción del problema\n",
        "\n",
        "La programación dinámica es un metodo similar al ya visto metodo de \"divide y vencerás\", ambos dividen el problema original en subproblemas y con las soluciones de estos subproblemas, si se combinan, se consigue la respuesta al problema original. \n",
        "\n",
        "Para poder aplicar la programación dinámica los subproblemas deben compartir soluciones, esto es debido a que si un subproblema ya fue resuelto con anterioridad solamente se debe buscar el valor que resulto al resolverlo por primera vez, esto se hace para no tener que resolver los mismos subproblemas más de una sola vez.\n",
        "\n",
        "La programación dinámica puede ser útil en algoritmos de optimización, como es en este caso con el algoritmo del $cutting Rod$, donde se ingresará un arreglo de precios dependiendo de la longitud y donde se debe retornar el mayor beneficio que se puede conseguir de una varilla.\n",
        "\n",
        "Entrada: arreglo $p$ de tamaño $n$ que es el arreglo con los precios dependiendo de la longitud de la varilla\n",
        "\n",
        "Salida: valor máximo del beneficio que se puede sacar de la varilla cortada.\n"
      ],
      "metadata": {
        "id": "Plg2B7tha2Va"
      }
    },
    {
      "cell_type": "markdown",
      "source": [
        "#2. Descripción del algoritmo\n",
        "\n",
        "El algoritmo del $Cutting Rod$ es un algoritmo de optimización, en el que se busca sacar el mayor beneficio de una varilla de metal de longitud n, a la cual se le van realizando cortes, con cada longitud teniendo un precio. Este algoritmo va diviendo el arreglo inicial, creando subproblemas hasta llegar a un caso base, y desde ese momento se empieza a calcular el retorno máximo.\n",
        "\n",
        "Pasos que realiza el algoritmo:\n",
        "\n",
        "1) el algoritmo divide el arreglo en todos los cortes posibles\n",
        "\n",
        "2) se calcula el retorno máximo de cada corte y se comparan con los demás hasta encontrar el máximo\n",
        "\n",
        "Se puede encontrar que este algoritmo presenta una subestructura óptima debido a que:\n",
        "\n",
        "1) está constantemente realizando elecciones al estar generando subproblemas con cada corte que se produce.\n",
        "\n",
        "2) se revisa cada corte para ver si la solucion que entrega es la óptima.\n",
        "\n",
        "3) con las soluciones de los subproblemas (cortes) se entrega el valor máximo de los cortes, utilizando soluciones óptimas de los subproblemas para conseguir la solución óptima del problema."
      ],
      "metadata": {
        "id": "XkBV_knHgKHh"
      }
    },
    {
      "cell_type": "code",
      "source": [
        "import random\n",
        "\n",
        "def cutrod_instance_generator(N):\n",
        "  A = []\n",
        "  prev = 0\n",
        "  for i in range(N):\n",
        "    r=random.randint(0,10)\n",
        "    A.append(prev+r)\n",
        "    prev+=r\n",
        "  return A"
      ],
      "metadata": {
        "id": "mXwlnhyfprLJ"
      },
      "execution_count": 1,
      "outputs": []
    },
    {
      "cell_type": "markdown",
      "source": [
        "#2.1 Cutting Rod implementado de forma recursiva"
      ],
      "metadata": {
        "id": "OXK3xa4fx5vD"
      }
    },
    {
      "cell_type": "code",
      "execution_count": 151,
      "metadata": {
        "id": "fHSvmrGsZhgN"
      },
      "outputs": [],
      "source": [
        "llamadasRecursivas = 0\n",
        "def cutRodRecursivo(p,n,verbose):\n",
        "  global llamadasRecursivas\n",
        "  if n == 0:\n",
        "    return 0\n",
        "\n",
        "  aux = -999999\n",
        "\n",
        "  for i in range(0,n):\n",
        "    aux = max(aux, p[i]+ cutRodRecursivo(p,n-i-1,verbose))\n",
        "    llamadasRecursivas += 1\n",
        "    if verbose:\n",
        "      print(f\"valor máximo encontrado hasta el momento es {aux} con una varilla de largo {i+1}\\n\")\n",
        "  return aux"
      ]
    },
    {
      "cell_type": "code",
      "source": [
        "a = cutrod_instance_generator(4)\n",
        "print(f\"Arreglo de precios: {a}\")\n",
        "n = len(a)\n",
        "verbose = False\n",
        "\n",
        "q = cutRodRecursivo(a,n,verbose)\n",
        "print(f\"valor máximo es {q}, encontrado en {llamadasRecursivas} llamadas, con el corte {a}\")\n",
        "llamadasRecursivas = 0"
      ],
      "metadata": {
        "colab": {
          "base_uri": "https://localhost:8080/"
        },
        "id": "LpPch1zfpne5",
        "outputId": "d7db8169-4cb5-4241-85ed-a78f286d6106"
      },
      "execution_count": 188,
      "outputs": [
        {
          "output_type": "stream",
          "name": "stdout",
          "text": [
            "Arreglo de precios: [3, 6, 7, 7]\n",
            "valor máximo es 12, encontrado en 15 llamadas, con el corte [3, 6, 7, 7]\n"
          ]
        }
      ]
    },
    {
      "cell_type": "code",
      "source": [
        "a = cutrod_instance_generator(4)\n",
        "n = len(a)\n",
        "verbose = True\n",
        "\n",
        "q = cutRodRecursivo(a,n,verbose)\n",
        "print(f\"valor máximo es {q}, encontrado en {llamadasRecursivas} llamadas, con el corte {a}\")\n",
        "llamadasRecursivas = 0"
      ],
      "metadata": {
        "colab": {
          "base_uri": "https://localhost:8080/"
        },
        "id": "0yL_1oe3yQ-S",
        "outputId": "cfc24b81-99ed-4ae4-f060-3fd41edbce96"
      },
      "execution_count": 189,
      "outputs": [
        {
          "output_type": "stream",
          "name": "stdout",
          "text": [
            "valor máximo encontrado hasta el momento es 8 con una varilla de largo 1\n",
            "\n",
            "valor máximo encontrado hasta el momento es 16 con una varilla de largo 1\n",
            "\n",
            "valor máximo encontrado hasta el momento es 16 con una varilla de largo 2\n",
            "\n",
            "valor máximo encontrado hasta el momento es 24 con una varilla de largo 1\n",
            "\n",
            "valor máximo encontrado hasta el momento es 8 con una varilla de largo 1\n",
            "\n",
            "valor máximo encontrado hasta el momento es 24 con una varilla de largo 2\n",
            "\n",
            "valor máximo encontrado hasta el momento es 24 con una varilla de largo 3\n",
            "\n",
            "valor máximo encontrado hasta el momento es 32 con una varilla de largo 1\n",
            "\n",
            "valor máximo encontrado hasta el momento es 8 con una varilla de largo 1\n",
            "\n",
            "valor máximo encontrado hasta el momento es 16 con una varilla de largo 1\n",
            "\n",
            "valor máximo encontrado hasta el momento es 16 con una varilla de largo 2\n",
            "\n",
            "valor máximo encontrado hasta el momento es 32 con una varilla de largo 2\n",
            "\n",
            "valor máximo encontrado hasta el momento es 8 con una varilla de largo 1\n",
            "\n",
            "valor máximo encontrado hasta el momento es 32 con una varilla de largo 3\n",
            "\n",
            "valor máximo encontrado hasta el momento es 32 con una varilla de largo 4\n",
            "\n",
            "valor máximo es 32, encontrado en 15 llamadas, con el corte [8, 11, 19, 19]\n"
          ]
        }
      ]
    },
    {
      "cell_type": "markdown",
      "source": [
        "#2.2 Cutting Rod implementado con programación dinámica"
      ],
      "metadata": {
        "id": "WZD1sHuWyLfE"
      }
    },
    {
      "cell_type": "code",
      "source": [
        "cantidadSubproblemas = 0\n",
        "def cutRodBottomUp(p,n,verbose):\n",
        "  memoria = [0] * 10\n",
        "  global cantidadSubproblemas\n",
        "\n",
        "  if n == 0:\n",
        "    if verbose:\n",
        "      print(\"varilla de tamaño 0, retornando\")\n",
        "    return 0\n",
        "\n",
        "  if verbose:\n",
        "    print(f\"arreglo entrante de precios: {p}\")\n",
        "\n",
        "  for j in range(0,n):\n",
        "    if verbose:\n",
        "      print(f\"analizando varilla de largo {j+1}\")\n",
        "    aux = -999999\n",
        "    for i in(1,j):\n",
        "      cantidadSubproblemas += 1\n",
        "      aux = max(aux, p[i] + memoria[j-i-1])\n",
        "      if verbose:\n",
        "        print(f\"valor máximo encontrado entre {aux} y {p[i] + memoria[j-i-1]} es: {aux}\\n\")\n",
        "    memoria[j] = aux\n",
        "  return aux"
      ],
      "metadata": {
        "id": "QNWuRpWftUFb"
      },
      "execution_count": 183,
      "outputs": []
    },
    {
      "cell_type": "code",
      "source": [
        "a = cutrod_instance_generator(10)\n",
        "n = len(a)\n",
        "verbose = False\n",
        "\n",
        "q = cutRodBottomUp(a,n,verbose)\n",
        "print(f\"valor máximo es {q}, encontrado en {cantidadSubproblemas} llamadas, con el corte {a}\")\n",
        "cantidadSubproblemas = 0"
      ],
      "metadata": {
        "colab": {
          "base_uri": "https://localhost:8080/"
        },
        "id": "ymEHYES8u1h9",
        "outputId": "5867c508-5ec1-4b97-a92c-d4ef13d6f172"
      },
      "execution_count": 168,
      "outputs": [
        {
          "output_type": "stream",
          "name": "stdout",
          "text": [
            "valor máximo es 61, encontrado en 20 llamadas, con el corte [1, 9, 15, 17, 22, 27, 36, 44, 51, 61]\n"
          ]
        }
      ]
    },
    {
      "cell_type": "code",
      "source": [
        "#a = cutrod_instance_generator(10)\n",
        "a = [1,5,8,9,10,17,17,20]\n",
        "n = len(a)\n",
        "verbose = True\n",
        "\n",
        "q = cutRodBottomUp(a,n,verbose)\n",
        "print(f\"valor máximo es {q}, encontrado en {cantidadSubproblemas} subproblemas, con el corte {a}\")\n",
        "cantidadSubproblemas = 0"
      ],
      "metadata": {
        "colab": {
          "base_uri": "https://localhost:8080/"
        },
        "id": "ZGEIcc57yoc7",
        "outputId": "6314eb99-dce4-44c4-dab3-5ba86f88057b"
      },
      "execution_count": 184,
      "outputs": [
        {
          "output_type": "stream",
          "name": "stdout",
          "text": [
            "arreglo entrante de precios: [1, 5, 8, 9, 10, 17, 17, 20]\n",
            "analizando varilla de largo 1\n",
            "valor máximo encontrado entre 5 y 5 es: 5\n",
            "\n",
            "valor máximo encontrado entre 5 y 1 es: 5\n",
            "\n",
            "analizando varilla de largo 2\n",
            "valor máximo encontrado entre 5 y 5 es: 5\n",
            "\n",
            "valor máximo encontrado entre 5 y 5 es: 5\n",
            "\n",
            "analizando varilla de largo 3\n",
            "valor máximo encontrado entre 10 y 10 es: 10\n",
            "\n",
            "valor máximo encontrado entre 10 y 8 es: 10\n",
            "\n",
            "analizando varilla de largo 4\n",
            "valor máximo encontrado entre 10 y 10 es: 10\n",
            "\n",
            "valor máximo encontrado entre 10 y 9 es: 10\n",
            "\n",
            "analizando varilla de largo 5\n",
            "valor máximo encontrado entre 15 y 15 es: 15\n",
            "\n",
            "valor máximo encontrado entre 15 y 10 es: 15\n",
            "\n",
            "analizando varilla de largo 6\n",
            "valor máximo encontrado entre 15 y 15 es: 15\n",
            "\n",
            "valor máximo encontrado entre 17 y 17 es: 17\n",
            "\n",
            "analizando varilla de largo 7\n",
            "valor máximo encontrado entre 20 y 20 es: 20\n",
            "\n",
            "valor máximo encontrado entre 20 y 17 es: 20\n",
            "\n",
            "analizando varilla de largo 8\n",
            "valor máximo encontrado entre 22 y 22 es: 22\n",
            "\n",
            "valor máximo encontrado entre 22 y 20 es: 22\n",
            "\n",
            "valor máximo es 22, encontrado en 16 subproblemas, con el corte [1, 5, 8, 9, 10, 17, 17, 20]\n"
          ]
        }
      ]
    }
  ]
}