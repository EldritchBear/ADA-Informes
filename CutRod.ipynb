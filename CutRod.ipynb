{
  "nbformat": 4,
  "nbformat_minor": 0,
  "metadata": {
    "colab": {
      "provenance": [],
      "authorship_tag": "ABX9TyNUl8gicnOHGNGl4lJQIRSy",
      "include_colab_link": true
    },
    "kernelspec": {
      "name": "python3",
      "display_name": "Python 3"
    },
    "language_info": {
      "name": "python"
    }
  },
  "cells": [
    {
      "cell_type": "markdown",
      "metadata": {
        "id": "view-in-github",
        "colab_type": "text"
      },
      "source": [
        "<a href=\"https://colab.research.google.com/github/EldritchBear/ADA-Informes/blob/main/CutRod.ipynb\" target=\"_parent\"><img src=\"https://colab.research.google.com/assets/colab-badge.svg\" alt=\"Open In Colab\"/></a>"
      ]
    },
    {
      "cell_type": "markdown",
      "source": [
        "#1. Descripción del problema\n",
        "\n",
        "La programación dinámica es un metodo similar al ya visto metodo de \"divide y vencerás\", ambos dividen el problema original en subproblemas y con las soluciones de estos subproblemas, si se combinan, se consigue la respuesta al problema original. \n",
        "\n",
        "Para poder aplicar la programación dinámica los subproblemas deben compartir soluciones, esto es debido a que si un subproblema ya fue resuelto con anterioridad solamente se debe buscar el valor que resulto al resolverlo por primera vez, esto se hace para no tener que resolver los mismos subproblemas más de una sola vez.\n",
        "\n",
        "La programación dinámica puede ser útil en algoritmos de optimización, como es en este caso con el algoritmo del $cutting Rod$, donde se ingresará un arreglo de precios dependiendo de la longitud y donde se debe retornar el mayor beneficio que se puede conseguir de una varilla.\n",
        "\n",
        "Entrada: arreglo $p$ de tamaño $n$ que es el arreglo con los precios dependiendo de la longitud de la varilla\n",
        "\n",
        "Salida: valor máximo del beneficio que se puede sacar de la varilla cortada.\n"
      ],
      "metadata": {
        "id": "Plg2B7tha2Va"
      }
    },
    {
      "cell_type": "markdown",
      "source": [
        "#2. Descripción del algoritmo\n",
        "\n",
        "El algoritmo del $Cutting Rod$ es un algoritmo de optimización, en el que se busca sacar el mayor beneficio de una varilla de metal de longitud n, a la cual se le van realizando cortes, con cada longitud teniendo un precio. Este algoritmo va diviendo el arreglo inicial, creando subproblemas hasta llegar a un caso base, y desde ese momento se empieza a calcular el retorno máximo.\n",
        "\n",
        "Pasos que realiza el algoritmo:\n",
        "\n",
        "1) el algoritmo divide el arreglo en todos los cortes posibles\n",
        "\n",
        "2) se calcula el retorno máximo de cada corte y se comparan con los demás hasta encontrar el máximo\n",
        "\n",
        "Se puede encontrar que este algoritmo presenta una subestructura óptima debido a que:\n",
        "\n",
        "1) está constantemente realizando elecciones al estar generando subproblemas con cada corte que se produce.\n",
        "\n",
        "2) se revisa cada corte para ver si la solucion que entrega es la óptima.\n",
        "\n",
        "3) con las soluciones de los subproblemas (cortes) se entrega el valor máximo de los cortes, utilizando soluciones óptimas de los subproblemas para conseguir la solución óptima del problema.\n",
        "\n",
        "La función de recursividad de del algoritmo \"Cutting Rod\" es:\n",
        "\n",
        " max(valMax, p[i]+ cutRodRecursivo(p,n-i-1) \n",
        "\n",
        " Aqui se busca el valor máximo entre el valor máximo guardado con anterioridad con el valor de un corte menor. De esta forma se esta recursivamente reduciendo el tamaño de la varilla y calculando el valor máximo del corte.\n",
        "\n",
        "\n",
        "\n"
      ],
      "metadata": {
        "id": "XkBV_knHgKHh"
      }
    },
    {
      "cell_type": "markdown",
      "source": [
        "#2.1 Implementación para crear arreglos de precios\n",
        "Se utilizará más adelante con las implementaciones del algoritmo \"Cutting rod\""
      ],
      "metadata": {
        "id": "fzkQ2Q2cC0iu"
      }
    },
    {
      "cell_type": "code",
      "source": [
        "import random\n",
        "\n",
        "def cutrod_instance_generator(N):\n",
        "  A = []\n",
        "  prev = 0\n",
        "  for i in range(N):\n",
        "    r=random.randint(0,10)\n",
        "    A.append(prev+r)\n",
        "    prev+=r\n",
        "  return A"
      ],
      "metadata": {
        "id": "mXwlnhyfprLJ"
      },
      "execution_count": 1,
      "outputs": []
    },
    {
      "cell_type": "markdown",
      "source": [
        "#2.2 Cutting Rod implementado de forma recursiva\n",
        "Se utilizan arreglos de precios de tamaño 4 debido a la cantidad de llamadas que el algoritmo realiza, por lo que el verbose con un arreglo de tamaño 10, que es el que se utilizará luego con programación dinámica quedaría muy extenso."
      ],
      "metadata": {
        "id": "OXK3xa4fx5vD"
      }
    },
    {
      "cell_type": "code",
      "execution_count": 199,
      "metadata": {
        "id": "fHSvmrGsZhgN"
      },
      "outputs": [],
      "source": [
        "llamadasRecursivas = 0\n",
        "indice = 0\n",
        "def cutRodRecursivo(p,n,verbose):\n",
        "  global llamadasRecursivas\n",
        "  global indice\n",
        "  if n == 0:\n",
        "    return 0\n",
        "\n",
        "  aux = float(\"-inf\")\n",
        "\n",
        "  for i in range(0,n):\n",
        "    aux2 = aux\n",
        "    aux = max(aux, p[i]+ cutRodRecursivo(p,n-i-1,verbose))\n",
        "    if aux != aux2:\n",
        "      indice = i\n",
        "    llamadasRecursivas += 1\n",
        "    if verbose:\n",
        "      print(f\"valor máximo encontrado hasta el momento es {aux} con una varilla de largo {i+1}\\n\")\n",
        "  return aux"
      ]
    },
    {
      "cell_type": "code",
      "source": [
        "a = cutrod_instance_generator(4)\n",
        "print(f\"Arreglo de precios: {a}\")\n",
        "n = len(a)\n",
        "verbose = False\n",
        "\n",
        "q = cutRodRecursivo(a,n,verbose)\n",
        "print(f\"valor máximo es {q}, encontrado en {llamadasRecursivas} llamadas, con los cortes {a[:indice]} y {a[indice:]}\")\n",
        "llamadasRecursivas = 0"
      ],
      "metadata": {
        "colab": {
          "base_uri": "https://localhost:8080/"
        },
        "id": "LpPch1zfpne5",
        "outputId": "e78975e3-75c7-4c53-8f18-0b0562c58255"
      },
      "execution_count": 216,
      "outputs": [
        {
          "output_type": "stream",
          "name": "stdout",
          "text": [
            "Arreglo de precios: [2, 10, 19, 26]\n",
            "valor máximo es 26, encontrado en 15 llamadas, con los cortes [2, 10, 19] y [26]\n"
          ]
        }
      ]
    },
    {
      "cell_type": "code",
      "source": [
        "a = cutrod_instance_generator(4)\n",
        "print(f\"Arreglo de precios: {a}\")\n",
        "n = len(a)\n",
        "verbose = True\n",
        "\n",
        "q = cutRodRecursivo(a,n,verbose)\n",
        "print(f\"valor máximo es {q}, encontrado en {llamadasRecursivas} llamadas, con los cortes {a[:indice]} y {a[indice:]}\")\n",
        "llamadasRecursivas = 0"
      ],
      "metadata": {
        "colab": {
          "base_uri": "https://localhost:8080/"
        },
        "id": "0yL_1oe3yQ-S",
        "outputId": "ce5da761-e085-4288-c57f-6d82562cc123"
      },
      "execution_count": 232,
      "outputs": [
        {
          "output_type": "stream",
          "name": "stdout",
          "text": [
            "Arreglo de precios: [0, 4, 11, 14]\n",
            "valor máximo encontrado hasta el momento es 0 con una varilla de largo 1\n",
            "\n",
            "valor máximo encontrado hasta el momento es 0 con una varilla de largo 1\n",
            "\n",
            "valor máximo encontrado hasta el momento es 4 con una varilla de largo 2\n",
            "\n",
            "valor máximo encontrado hasta el momento es 4 con una varilla de largo 1\n",
            "\n",
            "valor máximo encontrado hasta el momento es 0 con una varilla de largo 1\n",
            "\n",
            "valor máximo encontrado hasta el momento es 4 con una varilla de largo 2\n",
            "\n",
            "valor máximo encontrado hasta el momento es 11 con una varilla de largo 3\n",
            "\n",
            "valor máximo encontrado hasta el momento es 11 con una varilla de largo 1\n",
            "\n",
            "valor máximo encontrado hasta el momento es 0 con una varilla de largo 1\n",
            "\n",
            "valor máximo encontrado hasta el momento es 0 con una varilla de largo 1\n",
            "\n",
            "valor máximo encontrado hasta el momento es 4 con una varilla de largo 2\n",
            "\n",
            "valor máximo encontrado hasta el momento es 11 con una varilla de largo 2\n",
            "\n",
            "valor máximo encontrado hasta el momento es 0 con una varilla de largo 1\n",
            "\n",
            "valor máximo encontrado hasta el momento es 11 con una varilla de largo 3\n",
            "\n",
            "valor máximo encontrado hasta el momento es 14 con una varilla de largo 4\n",
            "\n",
            "valor máximo es 14, encontrado en 15 llamadas, con los cortes [0, 4, 11] y [14]\n"
          ]
        }
      ]
    },
    {
      "cell_type": "markdown",
      "source": [
        "#2.3 Cutting Rod implementado con programación dinámica"
      ],
      "metadata": {
        "id": "WZD1sHuWyLfE"
      }
    },
    {
      "cell_type": "code",
      "source": [
        "cantidadSubproblemas = 0\n",
        "def cutRodBottomUp(p,n,verbose):\n",
        "  memoria = [0] * 10\n",
        "  global cantidadSubproblemas\n",
        "  global indice\n",
        "\n",
        "  if n == 0:\n",
        "    if verbose:\n",
        "      print(\"varilla de tamaño 0, retornando\")\n",
        "    return 0\n",
        "\n",
        "  if verbose:\n",
        "    print(f\"arreglo entrante de precios: {p}\")\n",
        "\n",
        "  for j in range(0,n):\n",
        "    if verbose:\n",
        "      print(f\"analizando varilla de largo {j+1}\")\n",
        "    aux = float(\"-inf\")\n",
        "    aux2 = 0\n",
        "    for i in(1,j):\n",
        "      cantidadSubproblemas += 1\n",
        "      aux2 = aux\n",
        "      aux = max(aux, p[i] + memoria[j-i-1])\n",
        "      if aux != aux2:\n",
        "        indice = i+1\n",
        "      if verbose:\n",
        "        print(f\"valor máximo encontrado entre {aux} y {p[i] + memoria[j-i-1]} es: {aux}\\n\")\n",
        "    memoria[j] = aux\n",
        "  return aux"
      ],
      "metadata": {
        "id": "QNWuRpWftUFb"
      },
      "execution_count": 275,
      "outputs": []
    },
    {
      "cell_type": "code",
      "source": [
        "#a = cutrod_instance_generator(10)\n",
        "a = [1,5,8,9,10,17,17,20]\n",
        "n = len(a)\n",
        "verbose = False\n",
        "\n",
        "q = cutRodBottomUp(a,n,verbose)\n",
        "print(f\"valor máximo es {q}, encontrado en {cantidadSubproblemas} llamadas, con los cortes {a[:indice]} y {a[indice:]}\")\n",
        "cantidadSubproblemas = 0"
      ],
      "metadata": {
        "colab": {
          "base_uri": "https://localhost:8080/"
        },
        "id": "ymEHYES8u1h9",
        "outputId": "cb71122a-54ca-44d2-fdad-130e3d182ae2"
      },
      "execution_count": 279,
      "outputs": [
        {
          "output_type": "stream",
          "name": "stdout",
          "text": [
            "valor máximo es 22, encontrado en 16 llamadas, con los cortes [1, 5] y [8, 9, 10, 17, 17, 20]\n"
          ]
        }
      ]
    },
    {
      "cell_type": "code",
      "source": [
        "a = cutrod_instance_generator(10)\n",
        "n = len(a)\n",
        "verbose = True\n",
        "\n",
        "q = cutRodBottomUp(a,n,verbose)\n",
        "print(f\"valor máximo es {q}, encontrado en {cantidadSubproblemas} llamadas, con los cortes {a[:indice]} y {a[indice:]}\")\n",
        "cantidadSubproblemas = 0"
      ],
      "metadata": {
        "colab": {
          "base_uri": "https://localhost:8080/"
        },
        "id": "ZGEIcc57yoc7",
        "outputId": "e7f6fecb-d477-4f4f-9986-4f496e8f9c28"
      },
      "execution_count": 281,
      "outputs": [
        {
          "output_type": "stream",
          "name": "stdout",
          "text": [
            "arreglo entrante de precios: [9, 17, 21, 31, 39, 48, 51, 53, 56, 61]\n",
            "analizando varilla de largo 1\n",
            "valor máximo encontrado entre 17 y 17 es: 17\n",
            "\n",
            "valor máximo encontrado entre 17 y 9 es: 17\n",
            "\n",
            "analizando varilla de largo 2\n",
            "valor máximo encontrado entre 17 y 17 es: 17\n",
            "\n",
            "valor máximo encontrado entre 17 y 17 es: 17\n",
            "\n",
            "analizando varilla de largo 3\n",
            "valor máximo encontrado entre 34 y 34 es: 34\n",
            "\n",
            "valor máximo encontrado entre 34 y 21 es: 34\n",
            "\n",
            "analizando varilla de largo 4\n",
            "valor máximo encontrado entre 34 y 34 es: 34\n",
            "\n",
            "valor máximo encontrado entre 34 y 31 es: 34\n",
            "\n",
            "analizando varilla de largo 5\n",
            "valor máximo encontrado entre 51 y 51 es: 51\n",
            "\n",
            "valor máximo encontrado entre 51 y 39 es: 51\n",
            "\n",
            "analizando varilla de largo 6\n",
            "valor máximo encontrado entre 51 y 51 es: 51\n",
            "\n",
            "valor máximo encontrado entre 51 y 48 es: 51\n",
            "\n",
            "analizando varilla de largo 7\n",
            "valor máximo encontrado entre 68 y 68 es: 68\n",
            "\n",
            "valor máximo encontrado entre 68 y 51 es: 68\n",
            "\n",
            "analizando varilla de largo 8\n",
            "valor máximo encontrado entre 68 y 68 es: 68\n",
            "\n",
            "valor máximo encontrado entre 68 y 53 es: 68\n",
            "\n",
            "analizando varilla de largo 9\n",
            "valor máximo encontrado entre 85 y 85 es: 85\n",
            "\n",
            "valor máximo encontrado entre 85 y 56 es: 85\n",
            "\n",
            "analizando varilla de largo 10\n",
            "valor máximo encontrado entre 85 y 85 es: 85\n",
            "\n",
            "valor máximo encontrado entre 85 y 61 es: 85\n",
            "\n",
            "valor máximo es 85, encontrado en 20 llamadas, con los cortes [9, 17] y [21, 31, 39, 48, 51, 53, 56, 61]\n"
          ]
        }
      ]
    },
    {
      "cell_type": "markdown",
      "source": [
        "#3 Tiempo de ejecucción\n",
        "\n",
        "La siguiente función nos entrega que la cantidad de subproblemas que se deben resolver para una entrada de $n$ datos.\n",
        "\n",
        "![image.png](data:image/png;base64,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)\n",
        "\n",
        "Esta ecuación nos entrega que se necesita resolver $2^n$ subproblemas para una entrada de datos de tamaño $n$.\n",
        "\n",
        "El tiempo de ejecucción para el algoritmo completo es de $O(n^2)$ debido a la necesidad de tener dos ciclos $for$ anidados para poder utilizar el metodo $bottom-up$ del algoritmo. El tiempo de ejecucción de los subproblemas, al únicamente estarse recorriendo y comparando valores tienen el valor de $O(n)$. Por último, la complejidad espacial del algoritmo es de $O(n)$, debido a que debe almacenar $n$ datos extras que son los valores máximos de cada longitud."
      ],
      "metadata": {
        "id": "-LhHroJ9L8kS"
      }
    },
    {
      "cell_type": "markdown",
      "source": [
        "#4 Correctitud\n",
        "\n",
        "Caso base:\n",
        "Cuando n = 0, ya se encuentra el valor máximo del beneficio posible, ya que este valor siempre es el mismo (0)\n",
        "\n",
        "Mantención: Luego de una n-ésima iteración, dentro del segundo for el algoritmo verifica y almacena en caso de que el valor sea mayor al máximo anterior, por lo que luego de la iteración, puede asegurarse que se guarda el máximo precio hasta el momento.\n",
        "\n"
      ],
      "metadata": {
        "id": "NP9YObVIM_dn"
      }
    }
  ]
}