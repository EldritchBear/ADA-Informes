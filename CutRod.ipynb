{
  "nbformat": 4,
  "nbformat_minor": 0,
  "metadata": {
    "colab": {
      "provenance": [],
      "authorship_tag": "ABX9TyNq+4F+QioJTtpBi0/9uSPn",
      "include_colab_link": true
    },
    "kernelspec": {
      "name": "python3",
      "display_name": "Python 3"
    },
    "language_info": {
      "name": "python"
    }
  },
  "cells": [
    {
      "cell_type": "markdown",
      "metadata": {
        "id": "view-in-github",
        "colab_type": "text"
      },
      "source": [
        "<a href=\"https://colab.research.google.com/github/EldritchBear/ADA-Informes/blob/main/CutRod.ipynb\" target=\"_parent\"><img src=\"https://colab.research.google.com/assets/colab-badge.svg\" alt=\"Open In Colab\"/></a>"
      ]
    },
    {
      "cell_type": "markdown",
      "source": [
        "#1. Descripción del problema\n",
        "\n",
        "La programación dinámica es un metodo similar al ya visto metodo de \"divide y vencerás\", ambos dividen el problema original en subproblemas y con las soluciones de estos subproblemas, si se combinan, se consigue la respuesta al problema original. \n",
        "\n",
        "Para poder aplicar la programación dinámica los subproblemas deben compartir soluciones, esto es debido a que si un subproblema ya fue resuelto con anterioridad solamente se debe buscar el valor que resulto al resolverlo por primera vez, esto se hace para no tener que resolver los mismos subproblemas más de una sola vez.\n",
        "\n",
        "La programación dinámica puede ser útil en algoritmos de optimización, como es en este caso con el algoritmo del $cutting Rod$, donde se ingresará un arreglo de precios dependiendo de la longitud y donde se debe retornar el mayor beneficio que se puede conseguir de una varilla.\n",
        "\n",
        "Entrada: arreglo $p$ de tamaño $n$ que es el arreglo con los precios dependiendo de la longitud de la varilla\n",
        "\n",
        "Salida: valor máximo del beneficio que se puede sacar de la varilla cortada.\n"
      ],
      "metadata": {
        "id": "Plg2B7tha2Va"
      }
    },
    {
      "cell_type": "markdown",
      "source": [
        "#2. Descripción del algoritmo\n",
        "\n",
        "El algoritmo del $Cutting Rod$ es un algoritmo de optimización, en el que se busca sacar el mayor beneficio de una varilla de metal de longitud n, a la cual se le van realizando cortes, con cada longitud teniendo un precio. Este algoritmo va diviendo el arreglo inicial, creando subproblemas hasta llegar a un caso base, y desde ese momento se empieza a calcular el retorno máximo.\n",
        "\n",
        "Pasos que realiza el algoritmo:\n",
        "\n",
        "1) el algoritmo divide el arreglo en todos los cortes posibles\n",
        "\n",
        "2) se calcula el retorno máximo de cada corte y se comparan con los demás hasta encontrar el máximo\n",
        "\n",
        "Se puede encontrar que este algoritmo presenta una subestructura óptima debido a que:\n",
        "\n",
        "1) está constantemente realizando elecciones al estar generando subproblemas con cada corte que se produce.\n",
        "\n",
        "2) se revisa cada corte para ver si la solucion que entrega es la óptima.\n",
        "\n",
        "3) con las soluciones de los subproblemas (cortes) se entrega el valor máximo de los cortes, utilizando soluciones óptimas de los subproblemas para conseguir la solución óptima del problema.\n",
        "\n",
        "La función de recursividad de del algoritmo \"Cutting Rod\" es:\n",
        "\n",
        " max(valMax, p[i]+ cutRodRecursivo(p,n-i-1) \n",
        "\n",
        " Aqui se busca el valor máximo entre el valor máximo guardado con anterioridad con el valor de un corte menor. De esta forma se esta recursivamente reduciendo el tamaño de la varilla y calculando el valor máximo del corte.\n",
        "\n",
        "\n",
        "\n"
      ],
      "metadata": {
        "id": "XkBV_knHgKHh"
      }
    },
    {
      "cell_type": "markdown",
      "source": [
        "#2.1 Implementación para crear arreglos de precios\n",
        "Se utilizará más adelante con las implementaciones del algoritmo \"Cutting rod\""
      ],
      "metadata": {
        "id": "fzkQ2Q2cC0iu"
      }
    },
    {
      "cell_type": "code",
      "source": [
        "import random\n",
        "\n",
        "def cutrod_instance_generator(N):\n",
        "  A = []\n",
        "  prev = 0\n",
        "  for i in range(N):\n",
        "    r=random.randint(0,10)\n",
        "    A.append(prev+r)\n",
        "    prev+=r\n",
        "  return A"
      ],
      "metadata": {
        "id": "mXwlnhyfprLJ"
      },
      "execution_count": 1,
      "outputs": []
    },
    {
      "cell_type": "markdown",
      "source": [
        "#2.2 Cutting Rod implementado de forma recursiva\n",
        "Se utilizan arreglos de precios de tamaño 4 debido a la cantidad de llamadas que el algoritmo realiza, por lo que el verbose con un arreglo de tamaño 10, que es el que se utilizará luego con programación dinámica quedaría muy extenso."
      ],
      "metadata": {
        "id": "OXK3xa4fx5vD"
      }
    },
    {
      "cell_type": "code",
      "execution_count": 2,
      "metadata": {
        "id": "fHSvmrGsZhgN"
      },
      "outputs": [],
      "source": [
        "llamadasRecursivas = 0\n",
        "indice = 0\n",
        "def cutRodRecursivo(p,n,verbose):\n",
        "  global llamadasRecursivas\n",
        "  global indice\n",
        "  if n == 0:\n",
        "    return 0\n",
        "\n",
        "  aux = float(\"-inf\")\n",
        "\n",
        "  for i in range(0,n):\n",
        "    aux2 = aux\n",
        "    aux = max(aux, p[i]+ cutRodRecursivo(p,n-i-1,verbose))\n",
        "    if aux != aux2:\n",
        "      indice = i\n",
        "    llamadasRecursivas += 1\n",
        "    if verbose:\n",
        "      print(f\"valor máximo encontrado hasta el momento es {aux} con una varilla de largo {i}\\n\")\n",
        "  return aux"
      ]
    },
    {
      "cell_type": "code",
      "source": [
        "a = cutrod_instance_generator(4)\n",
        "print(f\"Arreglo de precios: {a}\")\n",
        "n = len(a)\n",
        "verbose = False\n",
        "\n",
        "q = cutRodRecursivo(a,n,verbose)\n",
        "print(f\"valor máximo es {q}, encontrado en {llamadasRecursivas} llamadas, con los cortes {a[:indice]} y {a[indice:]}\")\n",
        "llamadasRecursivas = 0"
      ],
      "metadata": {
        "colab": {
          "base_uri": "https://localhost:8080/"
        },
        "id": "LpPch1zfpne5",
        "outputId": "38584ee2-1c10-4e72-f542-474c313ee5d4"
      },
      "execution_count": 13,
      "outputs": [
        {
          "output_type": "stream",
          "name": "stdout",
          "text": [
            "Arreglo de precios: [1, 4, 6, 13]\n",
            "valor máximo es 13, encontrado en 15 llamadas, con los cortes [1, 4, 6] y [13]\n"
          ]
        }
      ]
    },
    {
      "cell_type": "code",
      "source": [
        "a = cutrod_instance_generator(4)\n",
        "print(f\"Arreglo de precios: {a}\")\n",
        "n = len(a)\n",
        "verbose = True\n",
        "\n",
        "q = cutRodRecursivo(a,n,verbose)\n",
        "print(f\"valor máximo es {q}, encontrado en {llamadasRecursivas} llamadas, con los cortes {a[:indice]} y {a[indice:]}\")\n",
        "llamadasRecursivas = 0"
      ],
      "metadata": {
        "colab": {
          "base_uri": "https://localhost:8080/"
        },
        "id": "0yL_1oe3yQ-S",
        "outputId": "f47125f3-ec70-4286-b7d0-f4434b5571a4"
      },
      "execution_count": null,
      "outputs": [
        {
          "output_type": "stream",
          "name": "stdout",
          "text": [
            "Arreglo de precios: [6, 9, 12, 18]\n",
            "valor máximo encontrado hasta el momento es 6 con una varilla de largo 0\n",
            "\n",
            "valor máximo encontrado hasta el momento es 12 con una varilla de largo 0\n",
            "\n",
            "valor máximo encontrado hasta el momento es 12 con una varilla de largo 1\n",
            "\n",
            "valor máximo encontrado hasta el momento es 18 con una varilla de largo 0\n",
            "\n",
            "valor máximo encontrado hasta el momento es 6 con una varilla de largo 0\n",
            "\n",
            "valor máximo encontrado hasta el momento es 18 con una varilla de largo 1\n",
            "\n",
            "valor máximo encontrado hasta el momento es 18 con una varilla de largo 2\n",
            "\n",
            "valor máximo encontrado hasta el momento es 24 con una varilla de largo 0\n",
            "\n",
            "valor máximo encontrado hasta el momento es 6 con una varilla de largo 0\n",
            "\n",
            "valor máximo encontrado hasta el momento es 12 con una varilla de largo 0\n",
            "\n",
            "valor máximo encontrado hasta el momento es 12 con una varilla de largo 1\n",
            "\n",
            "valor máximo encontrado hasta el momento es 24 con una varilla de largo 1\n",
            "\n",
            "valor máximo encontrado hasta el momento es 6 con una varilla de largo 0\n",
            "\n",
            "valor máximo encontrado hasta el momento es 24 con una varilla de largo 2\n",
            "\n",
            "valor máximo encontrado hasta el momento es 24 con una varilla de largo 3\n",
            "\n",
            "valor máximo es 24, encontrado en 15 llamadas, con los cortes [] y [6, 9, 12, 18]\n"
          ]
        }
      ]
    },
    {
      "cell_type": "markdown",
      "source": [
        "#2.3 Cutting Rod implementado con programación dinámica"
      ],
      "metadata": {
        "id": "WZD1sHuWyLfE"
      }
    },
    {
      "cell_type": "code",
      "source": [
        "cantidadSubproblemas = 0\n",
        "def cutRodBottomUp(p,n,verbose):\n",
        "  memoria = [0] * n\n",
        "  global cantidadSubproblemas\n",
        "  global indice\n",
        "\n",
        "  if n == 0:\n",
        "    if verbose:\n",
        "      print(\"varilla de tamaño 0, retornando\")\n",
        "    return 0\n",
        "\n",
        "  if verbose:\n",
        "    print(f\"arreglo entrante de precios: {p}\")\n",
        "\n",
        "  for j in range(0,n):\n",
        "    if verbose:\n",
        "      print(f\"analizando varilla de largo {j+1}\")\n",
        "    aux = float(\"-inf\")\n",
        "    aux2 = 0\n",
        "    for i in range(0,j+1):\n",
        "      cantidadSubproblemas += 1\n",
        "      aux2 = aux\n",
        "      aux = max(aux, p[i] + memoria[j-i-1])\n",
        "      if aux != aux2:\n",
        "        indice = j\n",
        "      if verbose:\n",
        "        print(f\"valor máximo encontrado entre {aux} y {p[i] + memoria[j-i-1]} es: {aux}\\n\")\n",
        "    memoria[j] = aux\n",
        "  return aux"
      ],
      "metadata": {
        "id": "QNWuRpWftUFb"
      },
      "execution_count": 87,
      "outputs": []
    },
    {
      "cell_type": "code",
      "source": [
        "a = cutrod_instance_generator(10)\n",
        "n = len(a)\n",
        "verbose = False\n",
        "\n",
        "q = cutRodBottomUp(a,n,verbose)\n",
        "print(f\"valor máximo es {q}, encontrado en {cantidadSubproblemas} llamadas, con los cortes {a[:indice]} y {a[indice:]}\")\n",
        "cantidadSubproblemas = 0"
      ],
      "metadata": {
        "colab": {
          "base_uri": "https://localhost:8080/"
        },
        "id": "ymEHYES8u1h9",
        "outputId": "68c3c028-e591-4916-c9da-bfff4b6ba015"
      },
      "execution_count": 102,
      "outputs": [
        {
          "output_type": "stream",
          "name": "stdout",
          "text": [
            "valor máximo es 39, encontrado en 55 llamadas, con los cortes [0, 7, 10, 13, 13, 13, 22, 31, 32] y [39]\n"
          ]
        }
      ]
    },
    {
      "cell_type": "code",
      "source": [
        "a = cutrod_instance_generator(10)\n",
        "n = len(a)\n",
        "verbose = True\n",
        "\n",
        "q = cutRodBottomUp(a,n,verbose)\n",
        "print(f\"valor máximo es {q}, encontrado en {cantidadSubproblemas} llamadas, con los cortes {a[:indice]} y {a[indice:]}\")\n",
        "cantidadSubproblemas = 0"
      ],
      "metadata": {
        "colab": {
          "base_uri": "https://localhost:8080/"
        },
        "id": "ZGEIcc57yoc7",
        "outputId": "30901ee0-0c15-4a1e-9101-a97e709b9f35"
      },
      "execution_count": 73,
      "outputs": [
        {
          "output_type": "stream",
          "name": "stdout",
          "text": [
            "arreglo entrante de precios: [7, 12, 17, 20, 26, 27, 29, 32, 36, 36]\n",
            "analizando varilla de largo 1\n",
            "valor máximo encontrado entre 7 y 7 es: 7\n",
            "\n",
            "analizando varilla de largo 2\n",
            "valor máximo encontrado entre 14 y 14 es: 14\n",
            "\n",
            "valor máximo encontrado entre 14 y 12 es: 14\n",
            "\n",
            "analizando varilla de largo 3\n",
            "valor máximo encontrado entre 21 y 21 es: 21\n",
            "\n",
            "valor máximo encontrado entre 21 y 19 es: 21\n",
            "\n",
            "valor máximo encontrado entre 21 y 17 es: 21\n",
            "\n",
            "analizando varilla de largo 4\n",
            "valor máximo encontrado entre 28 y 28 es: 28\n",
            "\n",
            "valor máximo encontrado entre 28 y 26 es: 28\n",
            "\n",
            "valor máximo encontrado entre 28 y 24 es: 28\n",
            "\n",
            "valor máximo encontrado entre 28 y 20 es: 28\n",
            "\n",
            "analizando varilla de largo 5\n",
            "valor máximo encontrado entre 35 y 35 es: 35\n",
            "\n",
            "valor máximo encontrado entre 35 y 33 es: 35\n",
            "\n",
            "valor máximo encontrado entre 35 y 31 es: 35\n",
            "\n",
            "valor máximo encontrado entre 35 y 27 es: 35\n",
            "\n",
            "valor máximo encontrado entre 35 y 26 es: 35\n",
            "\n",
            "analizando varilla de largo 6\n",
            "valor máximo encontrado entre 42 y 42 es: 42\n",
            "\n",
            "valor máximo encontrado entre 42 y 40 es: 42\n",
            "\n",
            "valor máximo encontrado entre 42 y 38 es: 42\n",
            "\n",
            "valor máximo encontrado entre 42 y 34 es: 42\n",
            "\n",
            "valor máximo encontrado entre 42 y 33 es: 42\n",
            "\n",
            "valor máximo encontrado entre 42 y 27 es: 42\n",
            "\n",
            "analizando varilla de largo 7\n",
            "valor máximo encontrado entre 49 y 49 es: 49\n",
            "\n",
            "valor máximo encontrado entre 49 y 47 es: 49\n",
            "\n",
            "valor máximo encontrado entre 49 y 45 es: 49\n",
            "\n",
            "valor máximo encontrado entre 49 y 41 es: 49\n",
            "\n",
            "valor máximo encontrado entre 49 y 40 es: 49\n",
            "\n",
            "valor máximo encontrado entre 49 y 34 es: 49\n",
            "\n",
            "valor máximo encontrado entre 49 y 29 es: 49\n",
            "\n",
            "analizando varilla de largo 8\n",
            "valor máximo encontrado entre 56 y 56 es: 56\n",
            "\n",
            "valor máximo encontrado entre 56 y 54 es: 56\n",
            "\n",
            "valor máximo encontrado entre 56 y 52 es: 56\n",
            "\n",
            "valor máximo encontrado entre 56 y 48 es: 56\n",
            "\n",
            "valor máximo encontrado entre 56 y 47 es: 56\n",
            "\n",
            "valor máximo encontrado entre 56 y 41 es: 56\n",
            "\n",
            "valor máximo encontrado entre 56 y 36 es: 56\n",
            "\n",
            "valor máximo encontrado entre 56 y 32 es: 56\n",
            "\n",
            "analizando varilla de largo 9\n",
            "valor máximo encontrado entre 63 y 63 es: 63\n",
            "\n",
            "valor máximo encontrado entre 63 y 61 es: 63\n",
            "\n",
            "valor máximo encontrado entre 63 y 59 es: 63\n",
            "\n",
            "valor máximo encontrado entre 63 y 55 es: 63\n",
            "\n",
            "valor máximo encontrado entre 63 y 54 es: 63\n",
            "\n",
            "valor máximo encontrado entre 63 y 48 es: 63\n",
            "\n",
            "valor máximo encontrado entre 63 y 43 es: 63\n",
            "\n",
            "valor máximo encontrado entre 63 y 39 es: 63\n",
            "\n",
            "valor máximo encontrado entre 63 y 36 es: 63\n",
            "\n",
            "analizando varilla de largo 10\n",
            "valor máximo encontrado entre 70 y 70 es: 70\n",
            "\n",
            "valor máximo encontrado entre 70 y 68 es: 70\n",
            "\n",
            "valor máximo encontrado entre 70 y 66 es: 70\n",
            "\n",
            "valor máximo encontrado entre 70 y 62 es: 70\n",
            "\n",
            "valor máximo encontrado entre 70 y 61 es: 70\n",
            "\n",
            "valor máximo encontrado entre 70 y 55 es: 70\n",
            "\n",
            "valor máximo encontrado entre 70 y 50 es: 70\n",
            "\n",
            "valor máximo encontrado entre 70 y 46 es: 70\n",
            "\n",
            "valor máximo encontrado entre 70 y 43 es: 70\n",
            "\n",
            "valor máximo encontrado entre 70 y 36 es: 70\n",
            "\n",
            "valor máximo es 70, encontrado en 55 llamadas, con los cortes [7, 12, 17, 20, 26, 27, 29, 32, 36] y [36]\n"
          ]
        }
      ]
    },
    {
      "cell_type": "markdown",
      "source": [
        "#3 Tiempo de ejecucción\n",
        "\n",
        "La siguiente función nos entrega que la cantidad de subproblemas que se deben resolver para una entrada de $n$ datos.\n",
        "\n",
        "![image.png](data:image/png;base64,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)\n",
        "\n",
        "Esta ecuación nos entrega que se necesita resolver $2^n$ subproblemas para una entrada de datos de tamaño $n$.\n",
        "\n",
        "El tiempo de ejecucción para el algoritmo completo es de $O(n^2)$ debido a la necesidad de tener dos ciclos $for$ anidados para poder utilizar el metodo $bottom-up$ del algoritmo. El tiempo de ejecucción de los subproblemas, al únicamente estarse recorriendo y comparando valores tienen el valor de $O(n)$. Por último, la complejidad espacial del algoritmo es de $O(n)$, debido a que debe almacenar $n$ datos extras que son los valores máximos de cada longitud."
      ],
      "metadata": {
        "id": "-LhHroJ9L8kS"
      }
    },
    {
      "cell_type": "markdown",
      "source": [
        "#4 Correctitud\n",
        "\n",
        "Caso base:\n",
        "Cuando n = 0, ya se encuentra el valor máximo del beneficio posible, ya que este valor siempre es el mismo (0)\n",
        "\n",
        "Mantención: Luego de una n-ésima iteración, dentro del segundo for el algoritmo verifica y almacena en caso de que el valor sea mayor al máximo anterior, por lo que luego de la iteración, puede asegurarse que se guarda el máximo precio hasta el momento.\n",
        "\n"
      ],
      "metadata": {
        "id": "NP9YObVIM_dn"
      }
    },
    {
      "cell_type": "markdown",
      "source": [
        "#5. Experimentos\n",
        "\n",
        "A continuacion se realizara una serie de experimentos para comparar el rendimiento de la implementacion **dinaminca bottom up** y la implementacion **recursiva**.\n",
        "\n",
        "##5.1. tiempo de ejecucion\n",
        "\n",
        "En este experimento se comparar el tiempo de ejecucion de la implentacion **bottom up** y la **recursiva**, para esto el algortimo va a crear una lista de precios aleatoria y va ejecutar ambas implementaciones $10$ veces, de entre las cuales va a elegir la mejor y graficarla.\n",
        "\n",
        "* tiempo de ejecucion de **bottom up** (la gráfica azul)\n",
        "* Tiempo de ejecucion de **recursiva** (la gráfica naranja)\n",
        "\n",
        "para un problema que tiene un tamaño $n \\in [5,15]$"
      ],
      "metadata": {
        "id": "-RzUWSMDLEl7"
      }
    },
    {
      "cell_type": "code",
      "source": [
        "import matplotlib.pyplot as plt\n",
        "import datetime\n",
        "from timeit import repeat\n",
        "import random\n",
        "\n",
        "x=[]; y=[]\n",
        "x1=[]; y1=[]\n",
        "\n",
        "for n in range(5,20):\n",
        "\n",
        "  p = cutrod_instance_generator(n)\n",
        "  a = p\n",
        "  l = len(p)\n",
        "  verbose = False\n",
        "\n",
        "  #la función repeat está ejecutando 20 veces cada algoritmo con el arreglo a y retorna el mejor tiepo obtenido para cada uno.\n",
        "  t = repeat(setup=\"from __main__ import cutRodBottomUp\", stmt=f\"cutRodBottomUp({p},{l},{verbose})\", repeat=1, number=10)\n",
        "\n",
        "  x.append(n)\n",
        "  y.append(t)\n",
        "  cont = 0\n",
        "\n",
        "  t = repeat(setup=\"from __main__ import cutRodRecursivo\", stmt=f\"cutRodRecursivo({a},{l},{verbose})\", repeat=1, number=10)\n",
        "\n",
        "  x1.append(n)\n",
        "  y1.append(t)\n",
        "  cont = 0\n",
        "\n",
        "plt.plot(x,y)\n",
        "plt.plot(x1,y1)\n",
        "plt.legend([\"bottom up\", \"recursive\"])\n",
        "\n",
        "plt.xlabel('length of the rod')\n",
        "plt.ylabel('time in ms')\n",
        "plt.show()"
      ],
      "metadata": {
        "colab": {
          "base_uri": "https://localhost:8080/",
          "height": 279
        },
        "id": "IfxIYMhkLIKa",
        "outputId": "fada213f-7145-461c-e3d4-f8961d29d453"
      },
      "execution_count": 84,
      "outputs": [
        {
          "output_type": "display_data",
          "data": {
            "text/plain": [
              "<Figure size 432x288 with 1 Axes>"
            ],
            "image/png": "[encoded data removed]"
          },
          "metadata": {
            "needs_background": "light"
          }
        }
      ]
    },
    {
      "cell_type": "markdown",
      "source": [
        "El gráfico anterior demuestra cómo la programación dinámica muy eficiente en cuanto se refiere al tiempo, lo contrario ocurre con el caso recursivo, donde para tan solo una varilla de largo 20 ya se demora alrededor de 4 segundos, y si amentamos el largo a tan solo 21 se llega a demorar 8. Si repetimos lo mismo y aumentamos el largo a 22, el tiempo sube a 16 segundos, lo que comienza a mostrar un crecimiento exponencial, lo mismo que se puede observar en la gráfica."
      ],
      "metadata": {
        "id": "AyvxVOr6QRZE"
      }
    },
    {
      "cell_type": "markdown",
      "source": [
        "##5.2. Cantidad de sub-arreglos\n",
        "\n",
        "A continuacion se experimentara con la cantidad de sub-problemas que debe resolver la implementacion **bottom up** a lo largo de su ejecucion.\n",
        "\n",
        "* Cantidad de sub-problemas (eje $Y$)\n",
        "* Longitud de la varilla (eje $X$)\n",
        "* Cantidad de sub-problemas basado en la longitud de la varilla (grafica azul)\n",
        "\n",
        "para un problema de tamaño $[5,50]$"
      ],
      "metadata": {
        "id": "Q7cba4MkLLg1"
      }
    },
    {
      "cell_type": "code",
      "source": [
        "import matplotlib.pyplot as plt\n",
        "\n",
        "x=[n for n in range(5,51)] \n",
        "y=[]\n",
        "\n",
        "for n in range(5,51):\n",
        "  p = cutrod_instance_generator(n)\n",
        "  verbose = False\n",
        "\n",
        "  b = cutRodBottomUp(p,n,verbose)\n",
        "  y.append(cantidadSubproblemas)\n",
        "  cont = 0\n",
        "  cantidadSubproblemas = 0\n",
        "\n",
        "plt.plot(x,y)\n",
        "plt.legend([\"cantidad de sub-problemas en n\"])\n",
        "\n",
        "plt.xlabel('longitud de la varilla')\n",
        "plt.ylabel('numero de sub-problemas')\n",
        "plt.show()"
      ],
      "metadata": {
        "colab": {
          "base_uri": "https://localhost:8080/",
          "height": 279
        },
        "id": "AyGrs7B9LP1q",
        "outputId": "620f4c6f-ac56-4658-91a0-298e13bdaf15"
      },
      "execution_count": 83,
      "outputs": [
        {
          "output_type": "display_data",
          "data": {
            "text/plain": [
              "<Figure size 432x288 with 1 Axes>"
            ],
            "image/png": "[encoded data removed]"
          },
          "metadata": {
            "needs_background": "light"
          }
        }
      ]
    },
    {
      "cell_type": "markdown",
      "source": [
        "Como se puede ver en el gráfico anterior, se puede ver que el número de subproblemas que se generan a partir de la longitud toma un valor exponencial."
      ],
      "metadata": {
        "id": "EpED5pR7NM9A"
      }
    }
  ]
}