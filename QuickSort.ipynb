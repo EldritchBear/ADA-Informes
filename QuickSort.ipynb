{
  "nbformat": 4,
  "nbformat_minor": 0,
  "metadata": {
    "colab": {
      "provenance": [],
      "authorship_tag": "ABX9TyPS8Umxgar2Ubg24P+mKNby",
      "include_colab_link": true
    },
    "kernelspec": {
      "name": "python3",
      "display_name": "Python 3"
    },
    "language_info": {
      "name": "python"
    }
  },
  "cells": [
    {
      "cell_type": "markdown",
      "metadata": {
        "id": "view-in-github",
        "colab_type": "text"
      },
      "source": [
        "<a href=\"https://colab.research.google.com/github/EldritchBear/ADA-Informes/blob/main/QuickSort.ipynb\" target=\"_parent\"><img src=\"https://colab.research.google.com/assets/colab-badge.svg\" alt=\"Open In Colab\"/></a>"
      ]
    },
    {
      "cell_type": "markdown",
      "source": [
        "# 1. Descripción del problema\n",
        "\n",
        "**Entrada:** Arreglo de \"n\" números.\n",
        "\n",
        "**Salida:** Arreglo de tamaño \"n\" ordenado de manera ascendente.\n",
        "\n",
        "El algoritmo Quicksort es un algoritmo de ordenamiento que funciona utilizando el paradigma \"divide y vencerás\""
      ],
      "metadata": {
        "id": "CCKc6z5rw9ij"
      }
    },
    {
      "cell_type": "markdown",
      "source": [
        "# 2. Descripción del algoritmo\n",
        "\n",
        "### QuickSort\n",
        "\n",
        "El algoritmo recibe un arreglo de tamaño n, el cual se necesita ordenar, esto se hace de la siguiente manera:\n",
        "\n",
        "1. Se divide el arreglo en dos subarreglos mediante un pivote.\n",
        "\n",
        "2. El subarreglo a la izquierda del pivote debe contener elementos menores a este, mientras que el subarreglo derecho debe tener elementos mayores.\n",
        "\n",
        "3. Se continua llamando recursivamente a la función Quicksort para de esta forma ir ordenando los subarreglos.\n",
        "\n",
        "###Partition\n",
        "\n",
        "Esta es la función que selecciona el pivote y ordena los elementos según si son mayores o menores.\n",
        "\n",
        "Esta función trabaja de la siguiente manera:\n",
        "\n",
        "1. Selecciona un pivote utilizando cualquiera de los tres criterios, pivote al inicio, la mediana o al final.\n",
        "\n",
        "2. Se recorre el arreglo realizando comparaciones de cada posición con el pivote para ordenar el arreglo en datos menores al pivote y datos mayores al pivote."
      ],
      "metadata": {
        "id": "ee-bBf9szY7d"
      }
    },
    {
      "cell_type": "markdown",
      "source": [
        "##Ejemplo\n",
        "\n",
        "arreglo : 2, 8, 10, 9\n",
        "\n",
        "1. Tomamos al elemento 9 como pivote debido al criterio de usar el elemento más a la derecha como pivote.\n",
        "\n",
        "2. Vamos recorriendo el arreglo comparando los elementos.\n",
        "\n",
        "  $2 < 9$, la igualdad se cumple por lo que no se realizan cambios.\n",
        "\n",
        "  $8 < 9$, la igualdad se cumple por lo que no se realizan cambios.\n",
        "\n",
        "  $10 < 9$, la igualdad no se cumple, por lo que se realiza un cambio.\n",
        "  \n",
        "3. Ahora después de los cambios tenemos el arreglo: 2, 8, 9, 10\n",
        "y este se divide el arreglo en dos subarreglos y se vuelve a llamar a Quicksort\n",
        "\n",
        "4. Tenemos los siguientes dos subarreglos: 2,8 y 9,10, tomando nuevamente el pivote el dato más a la derecha si comenzamos a comparar nos damos cuenta que estos no necesitan cambios.\n",
        "\n",
        "5. Volvemos a juntar los subarreglos y finalmente tenemos el arreglo ordenado:\n",
        "2,8,9,10\n"
      ],
      "metadata": {
        "id": "X0AZDB_mD23z"
      }
    },
    {
      "cell_type": "markdown",
      "source": [
        "## 2.1 QuickSort con último elemento como pivote"
      ],
      "metadata": {
        "id": "K9mYbDEr_MlN"
      }
    },
    {
      "cell_type": "code",
      "execution_count": 1,
      "metadata": {
        "id": "-uq4OugSwssB"
      },
      "outputs": [],
      "source": [
        "comp = 0\n",
        "def partitionHigh(arreglo, low, high, verbose):\n",
        "  i = low                                                                       #Se se utiliza i para llevar la cuenta de donde se va a dividir el arreglo\n",
        "  global comp\n",
        "\n",
        "  if verbose:\n",
        "    print(f\"Función partition()\")\n",
        "    print(f\"Subarreglo: {arreglo}\\n\")\n",
        "\n",
        "  for j in range(low, high):                                                    #se recorre el arreglo realizando comparaciones con le pivote, en este caso, el dato más\n",
        "                                                                                #a la derecha\n",
        "    if arreglo[j] <= arreglo[high]:\n",
        "      comp += 1   \n",
        "      (arreglo[i], arreglo[j]) = (arreglo[j], arreglo[i])\n",
        "      i += 1                                                                    #se mueve el indice para luego dividir el arreglo en esta posición.\n",
        "\n",
        "  (arreglo[i], arreglo[high]) = (arreglo[high], arreglo[i])                     #se mueve el pivote a la posición donde debiese estar para mantener el orden.\n",
        "  return i"
      ]
    },
    {
      "cell_type": "code",
      "source": [
        "def quickSortHigh (arreglo, low, high, verbose):\n",
        "  if low < high:\n",
        "  \n",
        "    piv = partitionHigh(arreglo, low, high,verbose)                             #se llama a la funcion partition para saber donde dividir el arreglo en dos\n",
        "    if verbose:\n",
        "      print(\"Funcion QuickSort\")\n",
        "      print(f\"SubArreglo izquierdo {arreglo[:piv-1]}\")\n",
        "      print(f\"SubArreglo izquierdo {arreglo[piv+1:]}\\n\")\n",
        "    quickSortHigh (arreglo, low, piv - 1,verbose)                               #se llama recursivamente la funcion Quicksort para ordenar ambos subarreglos por separado\n",
        "    quickSortHigh (arreglo, piv + 1, high,verbose)\n",
        "  return "
      ],
      "metadata": {
        "id": "HvQBSCK22fZi"
      },
      "execution_count": 2,
      "outputs": []
    },
    {
      "cell_type": "code",
      "source": [
        "arreglo = [2, 8, 7, 1, 3, 5, 6, 4]\n",
        "verbose = False\n",
        "quickSortHigh (arreglo, 0, len(arreglo)-1, verbose)\n",
        "\n",
        "print(f\"Arreglo: {arreglo}\")\n",
        "comp = 0"
      ],
      "metadata": {
        "colab": {
          "base_uri": "https://localhost:8080/"
        },
        "id": "TW3qk3oQ26e6",
        "outputId": "dcab150c-073e-4665-8458-33ac1285d5d7"
      },
      "execution_count": null,
      "outputs": [
        {
          "output_type": "stream",
          "name": "stdout",
          "text": [
            "Arreglo: [1, 2, 3, 4, 5, 6, 7, 8]\n"
          ]
        }
      ]
    },
    {
      "cell_type": "code",
      "source": [
        "arreglo = [2, 8, 7, 1, 3, 5, 6, 4]\n",
        "verbose = True\n",
        "quickSortHigh (arreglo, 0, len(arreglo)-1, verbose)\n",
        "  \n",
        "print(f\"Arreglo: {arreglo}\")\n",
        "print(f\"Comparaciones: {comp}\")\n",
        "comp = 0"
      ],
      "metadata": {
        "colab": {
          "base_uri": "https://localhost:8080/"
        },
        "id": "p8jTeksa67zB",
        "outputId": "f9632280-9881-49ff-b69b-3603cc565464"
      },
      "execution_count": null,
      "outputs": [
        {
          "output_type": "stream",
          "name": "stdout",
          "text": [
            "Función partition()\n",
            "Subarreglo: [2, 8, 7, 1, 3, 5, 6, 4]\n",
            "\n",
            "Funcion QuickSort\n",
            "SubArreglo izquierdo [2, 1]\n",
            "SubArreglo izquierdo [7, 5, 6, 8]\n",
            "\n",
            "Función partition()\n",
            "Subarreglo: [2, 1, 3, 4, 7, 5, 6, 8]\n",
            "\n",
            "Funcion QuickSort\n",
            "SubArreglo izquierdo [2]\n",
            "SubArreglo izquierdo [4, 7, 5, 6, 8]\n",
            "\n",
            "Función partition()\n",
            "Subarreglo: [2, 1, 3, 4, 7, 5, 6, 8]\n",
            "\n",
            "Funcion QuickSort\n",
            "SubArreglo izquierdo [1, 2, 3, 4, 7, 5, 6]\n",
            "SubArreglo izquierdo [2, 3, 4, 7, 5, 6, 8]\n",
            "\n",
            "Función partition()\n",
            "Subarreglo: [1, 2, 3, 4, 7, 5, 6, 8]\n",
            "\n",
            "Funcion QuickSort\n",
            "SubArreglo izquierdo [1, 2, 3, 4, 7, 5]\n",
            "SubArreglo izquierdo []\n",
            "\n",
            "Función partition()\n",
            "Subarreglo: [1, 2, 3, 4, 7, 5, 6, 8]\n",
            "\n",
            "Funcion QuickSort\n",
            "SubArreglo izquierdo [1, 2, 3, 4]\n",
            "SubArreglo izquierdo [7, 8]\n",
            "\n",
            "Arreglo: [1, 2, 3, 4, 5, 6, 7, 8]\n",
            "Comparaciones: 15\n"
          ]
        }
      ]
    },
    {
      "cell_type": "markdown",
      "source": [
        "## 2.2 QuickSort con primer elemento como pivote"
      ],
      "metadata": {
        "id": "Ly6zJ-sk_c3C"
      }
    },
    {
      "cell_type": "code",
      "source": [
        "comp = 0\n",
        "def partitionLow(arreglo, low, high,verbose):\n",
        "  i = low                                                                       #se lleva la cuenta para luego colocar el pivote en esa posición y retornarla\n",
        "  global comp                                                                   #para dividir el arreglo desde esa parte.\n",
        "\n",
        "  if verbose:\n",
        "    print(f\"Función partition()\")\n",
        "    print(f\"Subarreglo: {arreglo}\\n\")\n",
        "\n",
        "  for j in range(low,high):\n",
        "    if arreglo[j] <= arreglo[high]:                                             #se comparan los datos con el pivote, en caso de haber cambios se avanza el indice i.\n",
        "      comp += 1\n",
        "      arreglo[j],arreglo[i] = arreglo[i],arreglo[j]\n",
        "      i += 1\n",
        "  \n",
        "  arreglo[i],arreglo[high] = arreglo[high],arreglo[i]                           #se mueve el pivote a su posicion.\n",
        "  return i"
      ],
      "metadata": {
        "id": "1p7pCr817hLp"
      },
      "execution_count": 13,
      "outputs": []
    },
    {
      "cell_type": "code",
      "source": [
        "def quickSortLow (arreglo, low, high,verbose):\n",
        "  if low < high:\n",
        "\n",
        "    piv = partitionLow(arreglo, low, high,verbose)                              #se particiona el arreglo\n",
        "    if verbose:\n",
        "      print(\"Funcion QuickSort\")\n",
        "      print(f\"SubArreglo izquierdo {arreglo[:piv-1]}\")\n",
        "      print(f\"SubArreglo izquierdo {arreglo[piv+1:]}\\n\")\n",
        "    quickSortLow (arreglo, low, piv - 1,verbose)                                #recursivamente se ordena el arreglo\n",
        "    quickSortLow (arreglo, piv + 1, high,verbose)\n",
        "  return "
      ],
      "metadata": {
        "id": "lkX2dQU__gQe"
      },
      "execution_count": 12,
      "outputs": []
    },
    {
      "cell_type": "code",
      "source": [
        "arreglo = [2, 8, 7, 1, 3, 5, 6, 4]\n",
        "verbose = False\n",
        "quickSortLow (arreglo, 0, len(arreglo)-1, verbose)\n",
        "  \n",
        "print(f\"Arreglo: {arreglo}\")"
      ],
      "metadata": {
        "colab": {
          "base_uri": "https://localhost:8080/"
        },
        "id": "1ykcDPgZ_i5x",
        "outputId": "83d607a0-06b1-415b-842d-7ce14c181648"
      },
      "execution_count": null,
      "outputs": [
        {
          "output_type": "stream",
          "name": "stdout",
          "text": [
            "Arreglo: [1, 2, 3, 4, 5, 6, 7, 8]\n"
          ]
        }
      ]
    },
    {
      "cell_type": "code",
      "source": [
        "arreglo = [2, 8, 7, 1, 3, 5, 6, 4]\n",
        "verbose = True\n",
        "quickSortLow (arreglo, 0, len(arreglo)-1, verbose)\n",
        "  \n",
        "print(f\"Arreglo: {arreglo}\")\n",
        "print(f\"Comparaciones: {comp}\")\n",
        "comp = 0"
      ],
      "metadata": {
        "colab": {
          "base_uri": "https://localhost:8080/"
        },
        "id": "o3RzbZCE65XH",
        "outputId": "ab811825-2fd0-4122-e646-25fa13013769"
      },
      "execution_count": null,
      "outputs": [
        {
          "output_type": "stream",
          "name": "stdout",
          "text": [
            "Función partition()\n",
            "Subarreglo: [2, 8, 7, 1, 3, 5, 6, 4]\n",
            "\n",
            "Funcion QuickSort\n",
            "SubArreglo izquierdo [2, 1]\n",
            "SubArreglo izquierdo [7, 5, 6, 8]\n",
            "\n",
            "Función partition()\n",
            "Subarreglo: [2, 1, 3, 4, 7, 5, 6, 8]\n",
            "\n",
            "Funcion QuickSort\n",
            "SubArreglo izquierdo [2]\n",
            "SubArreglo izquierdo [4, 7, 5, 6, 8]\n",
            "\n",
            "Función partition()\n",
            "Subarreglo: [2, 1, 3, 4, 7, 5, 6, 8]\n",
            "\n",
            "Funcion QuickSort\n",
            "SubArreglo izquierdo [1, 2, 3, 4, 7, 5, 6]\n",
            "SubArreglo izquierdo [2, 3, 4, 7, 5, 6, 8]\n",
            "\n",
            "Función partition()\n",
            "Subarreglo: [1, 2, 3, 4, 7, 5, 6, 8]\n",
            "\n",
            "Funcion QuickSort\n",
            "SubArreglo izquierdo [1, 2, 3, 4, 7, 5]\n",
            "SubArreglo izquierdo []\n",
            "\n",
            "Función partition()\n",
            "Subarreglo: [1, 2, 3, 4, 7, 5, 6, 8]\n",
            "\n",
            "Funcion QuickSort\n",
            "SubArreglo izquierdo [1, 2, 3, 4]\n",
            "SubArreglo izquierdo [7, 8]\n",
            "\n",
            "Arreglo: [1, 2, 3, 4, 5, 6, 7, 8]\n",
            "Comparaciones: 15\n"
          ]
        }
      ]
    },
    {
      "cell_type": "markdown",
      "source": [
        "## 2.3 QuickSort con pivote siendo la mediana de 3 elementos\n",
        "Para realizar esta forma se deben elegir aleatoriamente 3 elementos del arreglo y se debe calcular la mediana entre estos."
      ],
      "metadata": {
        "id": "PItJ9nHc_kJW"
      }
    },
    {
      "cell_type": "code",
      "source": [
        "import random\n",
        "def partitionMed(arreglo, low, high, verbose):\n",
        "  piv = (arreglo[random.randint(low,high)] + arreglo[random.randint(low,high)] + arreglo[random.randint(low,high)]) // 3  \n",
        "  i = low - 1                                                                      \n",
        "  global comp                                                                   #se calcula la mediana de 3 datos aleatorios del arreglo y se va a utilizar ese valor\n",
        "                                                                                #como la posicion del pivote. \n",
        "  if verbose:\n",
        "    print(f\"Función partition()\")\n",
        "    print(f\"Pivote: {piv}\")\n",
        "    print(f\"Subarreglo: {arreglo}\\n\")\n",
        "\n",
        "  for j in range(low, high):\n",
        "    if arreglo[j] <= piv:                                                       #se van comparando los datos con el pivote\n",
        "      comp += 1\n",
        "      i = i + 1\n",
        "      (arreglo[i], arreglo[j]) = (arreglo[j], arreglo[i])\n",
        "\n",
        "  (arreglo[i + 1], arreglo[high]) = (arreglo[high], arreglo[i + 1])             #devolver pivote a posicion correspondiente\n",
        "  return i + 1"
      ],
      "metadata": {
        "id": "vv9lGw_n3t59"
      },
      "execution_count": 5,
      "outputs": []
    },
    {
      "cell_type": "code",
      "source": [
        "def quickSortMed (arreglo, low, high, verbose):\n",
        "  if low < high:\n",
        "  \n",
        "    piv = partitionMed(arreglo, low, high,verbose)                              #se particiona el arreglo\n",
        "    if verbose:\n",
        "      print(\"Funcion QuickSort\")\n",
        "      print(f\"SubArreglo izquierdo {arreglo[:piv-1]}\")\n",
        "      print(f\"SubArreglo izquierdo {arreglo[piv+1:]}\\n\")\n",
        "    quickSortMed (arreglo, low, piv - 1,verbose)                                #se ordena recursivamente el arreglo\n",
        "    quickSortMed (arreglo, piv + 1, high, verbose)\n",
        "  return "
      ],
      "metadata": {
        "id": "V2x9c2yA_txx"
      },
      "execution_count": 4,
      "outputs": []
    },
    {
      "cell_type": "code",
      "source": [
        "arreglo = [2, 8, 7, 1, 3, 5, 6, 4]\n",
        "verbose = False\n",
        "quickSortMed (arreglo, 0, len(arreglo)-1, verbose)\n",
        "  \n",
        "print(f\"Arreglo: {arreglo}\")"
      ],
      "metadata": {
        "colab": {
          "base_uri": "https://localhost:8080/"
        },
        "id": "uVAUhiW8_wRp",
        "outputId": "94074e6e-a87a-4330-c406-e9c04386abbe"
      },
      "execution_count": null,
      "outputs": [
        {
          "output_type": "stream",
          "name": "stdout",
          "text": [
            "Arreglo: [1, 2, 3, 4, 5, 6, 7, 8]\n"
          ]
        }
      ]
    },
    {
      "cell_type": "code",
      "source": [
        "arreglo = [2, 8, 7, 1, 3, 5, 6, 4]\n",
        "verbose = True\n",
        "quickSortMed (arreglo, 0, len(arreglo)-1, verbose)\n",
        "  \n",
        "print(f\"Arreglo: {arreglo}\")\n",
        "print(f\"Comparaciones: {comp}\")\n",
        "comp = 0"
      ],
      "metadata": {
        "colab": {
          "base_uri": "https://localhost:8080/"
        },
        "id": "z6ZN18k_60U3",
        "outputId": "8aa36553-7519-4f20-9899-2fa07b4ecc10"
      },
      "execution_count": null,
      "outputs": [
        {
          "output_type": "stream",
          "name": "stdout",
          "text": [
            "Función partition()\n",
            "Pivote: 3\n",
            "Subarreglo: [2, 8, 7, 1, 3, 5, 6, 4]\n",
            "\n",
            "Funcion QuickSort\n",
            "SubArreglo izquierdo [2, 1]\n",
            "SubArreglo izquierdo [7, 5, 6, 8]\n",
            "\n",
            "Función partition()\n",
            "Pivote: 2\n",
            "Subarreglo: [2, 1, 3, 4, 7, 5, 6, 8]\n",
            "\n",
            "Funcion QuickSort\n",
            "SubArreglo izquierdo [2]\n",
            "SubArreglo izquierdo [4, 7, 5, 6, 8]\n",
            "\n",
            "Función partition()\n",
            "Pivote: 1\n",
            "Subarreglo: [2, 1, 3, 4, 7, 5, 6, 8]\n",
            "\n",
            "Funcion QuickSort\n",
            "SubArreglo izquierdo [1, 2, 3, 4, 7, 5, 6]\n",
            "SubArreglo izquierdo [2, 3, 4, 7, 5, 6, 8]\n",
            "\n",
            "Función partition()\n",
            "Pivote: 7\n",
            "Subarreglo: [1, 2, 3, 4, 7, 5, 6, 8]\n",
            "\n",
            "Funcion QuickSort\n",
            "SubArreglo izquierdo [1, 2, 3, 4, 7, 5]\n",
            "SubArreglo izquierdo []\n",
            "\n",
            "Función partition()\n",
            "Pivote: 6\n",
            "Subarreglo: [1, 2, 3, 4, 7, 5, 6, 8]\n",
            "\n",
            "Funcion QuickSort\n",
            "SubArreglo izquierdo [1, 2, 3, 4]\n",
            "SubArreglo izquierdo [7, 8]\n",
            "\n",
            "Arreglo: [1, 2, 3, 4, 5, 6, 7, 8]\n",
            "Comparaciones: 9\n"
          ]
        }
      ]
    },
    {
      "cell_type": "markdown",
      "source": [
        "# 3. Tiempo de de ejecucción\n",
        "\n",
        "El algoritmo QuickSort tiene los siguientes tiempos de ejecución según el caso en el que se encuentre:\n",
        "\n",
        "**Caso Promedio:** El algoritmo tiene una complejidad de $O(nlogn)$ en el mejor caso, esto es debido a que como se va dividiendo recursivamente se va generando un árbol de recursion, donde al finalizar la ejecución se va a tener que este árbol es de altura $logn$, y si eso le sumamos que a cada nivel del árbol analizarlo toma un tiempo de \"n\" terminamos que el tiempo de ejecución es de:\n",
        "\n",
        "$O(n) * O(logn)$ = $O(nlogn)$.\n",
        "\n",
        "**Mejor Caso:** El mejor caso es cuando la particion es justo en la media de los datos, osea, divide los datos en \"$n/2$\", esto no tiene mayor impacto en el tiempo de ejecución, ya que el proceso va a ser el mismo que en el caso promedio, por lo que su complejidad va a ser de $O(nlogn)$.\n",
        "\n",
        "**Peor Caso:** El peor caso ocurre cuando la funcion partition no logra particionar el arreglo en dos, lo que produce que se este llamando recursivamente el algoritmo para ordenar el mismo arreglo dos veces. El tiempo de ejecución del algoritmo en este caso es de $O(n^2)$.\n",
        "\n",
        "Para demostrar este último caso tenemos la siguiente funcion:\n",
        "\n",
        "$T(n) =< T(n-1)^2 + T(0) + O(n)$\n",
        "\n",
        "donde T(0) representa a la partición vacía que hizo el algoritmo debido a que este realmente no pudo dividirla, debido a que tomo como pivote al dato mayor del arreglo. \n",
        "\n",
        "Si resolvemos esa funcion tenemos:\n",
        "\n",
        "$cn^2 + 2cn + c + cn$\n",
        "\n",
        "lo que nos verifica que el tiempo de ejecución es $O(n^2)$."
      ],
      "metadata": {
        "id": "5KGa6gHl824O"
      }
    },
    {
      "cell_type": "markdown",
      "source": [
        "#4.1 Correctitud de Partition\n",
        "## Teorema\n",
        "La función *Partition* recibe un arreglo y lo separa en 2 partes, dejando un pivote en el centro. Luego, ordena las 2 partes según su valor comparado al pivote y retorna el arreglo reordenado.\n",
        "\n",
        "## Prueba del teorema\n",
        "En cada iteración, se compara el valor de una casilla con el del pivote, y luego se intercambia su posición dependiendo de si su valor es menor o mayor. Considerando *p* como la posición del inicio del arreglo, *r* como el fin, *i* como la posición en donde comienzan los elementos mayores, y *j* como el punto hasta donde se ha recorrido el arreglo, probaremos la siguiente propiedad invariante:\n",
        "\n",
        "> Al final de cada iteración, los elementos anteriores a *i* son menores al pivote, y los que están entre *i* y *j* son mayores al pivote.\n",
        "\n",
        "## Inicialización\n",
        "Al comienzo de la primera iteración (*i = -1* y *j = 0*), no hay elementos entre *i* y *j*, por lo tanto, se cumple la propiedad.\n",
        "\n",
        "## Mantención\n",
        "Aplicando inducción, asumimos que al comienzo de cada iteración se cumple la propiedad.\n",
        "\n",
        "Durante la iteración, se compara el elemento en *j* con el pivote, y si es menor se intercambia con la casilla que divide los elementos menores y mayores.\n",
        "\n",
        "Al final de la iteración, *i* avanza o no dependiendo de si el valor es mayor o menor, y se sigue cumpliendo la propiedad.\n",
        "\n",
        "## Correctitud de Partition\n",
        "Como la propiedad del bucle invariante se cumple al comienzo y al terminar cada iteración, se puede decir que al finalizar el algoritmo se genera un arreglo con los mismos elementos del arreglo de entrada, pero separados entre menor y mayor con respecto al valor del pivote."
      ],
      "metadata": {
        "id": "BSiy7hRZZURw"
      }
    },
    {
      "cell_type": "markdown",
      "source": [
        "## Correctitud de QuickSort\n",
        "\n",
        "Probaremos la correctitud de QuickSort usando inducción matemática. Nuestra hipótesis P(n) es que QuickSort retorna el arreglo de entrada ordenada de menor a mayor.\n",
        "\n",
        "En el caso base, cuando n = 1, QuickSort no realiza cambios porque el arreglo ya está ordenado. Por lo tanto, se cumple la hipótesis.\n",
        "\n",
        "Para el paso inductivo probaremos P(m). Si QuickSort se llama en un arreglo de largo n, también se van a llamar 2 recursivamente en subarreglos de largo m1 y m2, y se cumple que m1 < n y m2 < n. Se utiliza Partition para encontrar el pivote, y también separar los subarreglos en elementos menores al pivote y mayores al pivote. Por lo tanto, QuickSort es correcto."
      ],
      "metadata": {
        "id": "h66EJuoLZVHB"
      }
    },
    {
      "cell_type": "markdown",
      "source": [
        "#5. Experimentos\n",
        "\n",
        "Ahora realizaremos un numero de experimentos que nos ayudaran a visualizar la eficacia del **Quick Sort** en ciertos aspectos.\n",
        "\n",
        "##5.1. Numero de comparaciones\n",
        "\n",
        "En este experimento se comprobará el número de comparaciones que el **Quick Sort** necesita realizar para poder ordenar una lista en su totalidad.\n",
        "\n",
        "Para ello se hizo una gráfica en la que se muestra.\n",
        "\n",
        "* La cantidad de comparaciones del peor caso calculadas matemáticamente ($n^2$ comparaciones si se forma un árbol desbalanceado)\n",
        "* La cantidad de comparaciones del mejor caso calculadas matemáticamente ($n*log(n)$ comparaciones si se forma un árbol balanceado)\n",
        "* La cantidad de comparaciones realizadas experimentalmente para entradas aleatorias\n",
        "\n",
        "para un problema que tiene un tamaño $n \\in [5,20]$"
      ],
      "metadata": {
        "id": "orp4i0A9-aiM"
      }
    },
    {
      "cell_type": "code",
      "source": [
        "import matplotlib.pyplot as plt\n",
        "import math\n",
        "import random\n",
        "from timeit import repeat\n",
        "\n",
        "x=[n for n in range(5,21)] \n",
        "y1=[n*n for n in range(5,21)] # Peor caso\n",
        "y2=[n*math.log2(n) for n in range(5,21)] # Mejor caso\n",
        "y=[]; \n",
        "verbose = False\n",
        "comp = 0\n",
        "\n",
        "for n in range(5,21):\n",
        "  a = random.sample(range(1, 100), n)\n",
        "  quickSortMed(a,0,len(a)-1,verbose)\n",
        "  y.append(comp)\n",
        "comp = 0\n",
        "\n",
        "plt.plot(x,y)\n",
        "plt.plot(x,y1)\n",
        "plt.plot(x,y2)\n",
        "plt.legend([\"Quick Sort\", \"Peor caso teorico\", \"Mejor caso teorico\"])\n",
        "\n",
        "plt.xlabel('n')\n",
        "plt.ylabel('numero de comparaciones')\n",
        "plt.show()"
      ],
      "metadata": {
        "colab": {
          "base_uri": "https://localhost:8080/",
          "height": 279
        },
        "id": "nE0zIljoEsJ3",
        "outputId": "80a9bc15-8013-4c3b-eb18-5d02a4cbedfb"
      },
      "execution_count": 20,
      "outputs": [
        {
          "output_type": "display_data",
          "data": {
            "text/plain": [
              "<Figure size 432x288 with 1 Axes>"
            ],
            "image/png": "[encoded data removed]"
          },
          "metadata": {
            "needs_background": "light"
          }
        }
      ]
    },
    {
      "cell_type": "markdown",
      "source": [
        "###Análisis de resultados\n",
        "\n",
        "En este gráfico al estar comparando casos teóricos con un caso real se puede ver cómo el caso real puede llegar a crecer más rapido que el teórico, esto puede depender de la cantidad y el orden en el que viene los datos. El resultado es similar utilizando las otras dos formas de implementar el pivote en este informe, solo que el caso real sobrepasa al pero caso antes en la gráfica."
      ],
      "metadata": {
        "id": "3StZbeZR-l9_"
      }
    },
    {
      "cell_type": "markdown",
      "source": [
        "##5.2. Rendimiento según el pivote\n",
        "\n",
        "En este experimento se probará si el rendimiento del algoritmo **Quick Sort** se ve afectado según la posición donde se coloque el pivote.\n",
        "\n",
        "* La cantidad de comparaciones que el **Quick Sort** con el pivote al inicio realiza (la gráfica azul)\n",
        "* La cantidad de comparaciones que el **Quick Sort** con el pivote en la mediana realiza (la gráfica naranja)\n",
        "* La cantidad de comparaciones que el **Quick Sort** con el pivote al final realiza (la gráfica verde)\n",
        "\n",
        "para un problema que tiene un tamaño $n \\in [5,50]$"
      ],
      "metadata": {
        "id": "91EiA9Nm-rqS"
      }
    },
    {
      "cell_type": "code",
      "source": [
        "import matplotlib.pyplot as plt\n",
        "import math\n",
        "\n",
        "x=[n for n in range(5,51)] \n",
        "y1=[] # pivote al inicio\n",
        "y2=[] # pivote segun la mediana\n",
        "y3=[] # pivote al final\n",
        "verbose = False\n",
        "comp = 0\n",
        "\n",
        "for n in range(5,51):\n",
        "  a = random.sample(range(1, 100), n)\n",
        "  quickSortLow(a,0,len(a)-1,verbose)\n",
        "  y1.append(comp)\n",
        "\n",
        "\n",
        "  quickSortMed(a,0,len(a)-1,verbose)\n",
        "  y2.append(comp)\n",
        "\n",
        "\n",
        "  quickSortHigh(a,0,len(a)-1,verbose)\n",
        "  y3.append(comp)\n",
        "\n",
        "comp = 0\n",
        "\n",
        "plt.plot(x,y1)\n",
        "plt.plot(x,y2)\n",
        "plt.plot(x,y3)\n",
        "plt.legend([\"pivote al inicio\", \"pivote segun la mediana\", \"pivote al final\"])\n",
        "\n",
        "plt.xlabel('n')\n",
        "plt.ylabel('numero de comparaciones')\n",
        "plt.show()"
      ],
      "metadata": {
        "colab": {
          "base_uri": "https://localhost:8080/",
          "height": 279
        },
        "id": "y-t6A6K3GLfj",
        "outputId": "121fcb17-7bfb-409e-810c-a7832b057423"
      },
      "execution_count": 27,
      "outputs": [
        {
          "output_type": "display_data",
          "data": {
            "text/plain": [
              "<Figure size 432x288 with 1 Axes>"
            ],
            "image/png": "[encoded data removed]"
          },
          "metadata": {
            "needs_background": "light"
          }
        }
      ]
    },
    {
      "cell_type": "markdown",
      "source": [
        "###Análisis de resultados\n",
        "\n",
        "Como se puede observar en la gráfica, al pivote al inicio o en la mediana no va a afectar el rendimiento del algoritmo a lo largo de su ejecución, y esto debería ser cierto al colocar el pivote al final.\n",
        "\n",
        "Por algún motivo este tiene un crecimiento exponencial, se desconoce el motivo de este comportamiento."
      ],
      "metadata": {
        "id": "hwyU292p-woh"
      }
    },
    {
      "cell_type": "markdown",
      "source": [
        "##5.3. Comparación entre algoritmos\n",
        "\n",
        "En este experimento se compararán dos algoritmos recursivos el **Quick Sort** y el **Merge Sort**, en específico se comparará el número de comparaciones que realizan ambos algoritmos. También se comparará el **Quick Sort** con los pivotes al inicio, en la mediana y al final\n",
        "\n",
        "Para ello se hizo una gráfica en la que se muestra.\n",
        "\n",
        "* La cantidad de comparaciones que el **Quick Sort** con el pivote al inicio realiza (la gráfica azul)\n",
        "* La cantidad de comparaciones que el **Quick Sort** con el pivote en la mediana realiza (la gráfica naranja)\n",
        "* La cantidad de comparaciones que el **Quick Sort** con el pivote al final realiza (la gráfica verde)\n",
        "* La cantidad de comparaciones que el **Merge Sort** realiza (la gráfica roja).\n",
        "\n",
        "para un problema que tiene un tamaño $n \\in [5,50]$"
      ],
      "metadata": {
        "id": "UlOUiFn--44r"
      }
    },
    {
      "cell_type": "code",
      "source": [
        "import matplotlib.pyplot as plt\n",
        "\n",
        "x=[n for n in range(5,51)] \n",
        "y1=[]; \n",
        "y2=[];\n",
        "y3=[];\n",
        "y4=[];\n",
        "comp = 0\n",
        "cont = 0\n",
        "verbose = False\n",
        "\n",
        "for n in range(5,51):\n",
        "  a = random.sample(range(1, 100), n)\n",
        "  quickSortLow(a,0,len(a)-1,verbose)\n",
        "  y1.append(comp)\n",
        "\n",
        "  quickSortMed(a,0,len(a)-1,verbose)\n",
        "  y2.append(comp)\n",
        "\n",
        "  quickSortHigh(a,0,len(a)-1,verbose)\n",
        "  y3.append(comp)\n",
        "\n",
        "  a= mergeSort(a)\n",
        "  y4.append(cont)\n",
        "\n",
        "comp = 0\n",
        "cont = 0\n",
        "\n",
        "plt.plot(x,y1)\n",
        "plt.plot(x,y2)\n",
        "plt.plot(x,y3)\n",
        "plt.plot(x,y4)\n",
        "plt.legend([\"Quick Sort (piv Inicio)\",\"Quick Sort (piv mediana)\",\"Quick Sort (piv final)\", \"Merge Sort\"])\n",
        "\n",
        "plt.xlabel('n')\n",
        "plt.ylabel('number of operations')\n",
        "plt.show()"
      ],
      "metadata": {
        "id": "qWTYftHo_F9X",
        "colab": {
          "base_uri": "https://localhost:8080/",
          "height": 281
        },
        "outputId": "b827d56b-349a-4554-fc8e-63be3e55d906"
      },
      "execution_count": 24,
      "outputs": [
        {
          "output_type": "display_data",
          "data": {
            "text/plain": [
              "<Figure size 432x288 with 1 Axes>"
            ],
            "image/png": "[encoded data removed]"
          },
          "metadata": {
            "needs_background": "light"
          }
        }
      ]
    },
    {
      "cell_type": "markdown",
      "source": [
        "###Análisis de resultados\n",
        "\n",
        "Como se puede observar en la gráfica, el **Quick Sort** con todas sus implementaciones realiza más operaciones que el **Merge Sort**, esto demuestra que el **Merge Sort** es más eficiente cuando se tiene una gran cantidad de datos que ordenar, es por esta razón por la que se prefiere cuando se trabaja con datasets o arreglos muy largos utilizar un **Merge Sort**, puesto que el algoritmo **Quick Sort** se queda muy por detrás."
      ],
      "metadata": {
        "id": "03oh7kTx_LZB"
      }
    },
    {
      "cell_type": "markdown",
      "source": [
        "#6. Anexos\n",
        "\n",
        "##6.1. Códigos para las presentaciones graficas\n",
        "\n",
        "A continuación, puede ver el código del algoritmo **Merge Sort**, esta implementación del **Merge Sort** es necesaria para hacer la gráfica mostrada en el punto 5.3."
      ],
      "metadata": {
        "id": "wklWJ5oB_NvY"
      }
    },
    {
      "cell_type": "code",
      "source": [
        "cont = 0\n",
        "\n",
        "def merge(subArreglo1,subArreglo2,verbose):\n",
        "  i = 0\n",
        "  k = 0\n",
        "  largo1 = len(subArreglo1)                 \n",
        "  largo2 = len(subArreglo2)                \n",
        "  arreglo = []\n",
        "  global cont\n",
        "\n",
        "  if (verbose):\n",
        "    print(\"Función merge\")\n",
        "    print(\"sub arreglos: \",subArreglo1)\n",
        "    print(\"              \",subArreglo2)\n",
        "\n",
        "  while (i < largo1 and k < largo2):      \n",
        "    cont +=1\n",
        "    if (subArreglo1[i] < subArreglo2[k]):  \n",
        "      arreglo.append(subArreglo1[i])\n",
        "      i = i+1\n",
        "    else:\n",
        "      arreglo.append(subArreglo2[k])\n",
        "      k = k+1\n",
        "\n",
        "  arreglo = arreglo + subArreglo1[i:]      \n",
        "  cont = cont + (largo1-i)\n",
        "  arreglo = arreglo + subArreglo2[k:]\n",
        "  cont = cont + (largo2-k)\n",
        "\n",
        "  if (verbose):\n",
        "    print(\"Fin del merge\")\n",
        "    print(\"resultado: \",arreglo)\n",
        "    print(\"cantidad de comparaciones: \",cont,\"\\n\")\n",
        "\n",
        "  return arreglo     "
      ],
      "metadata": {
        "id": "gy41qxMkg9V3"
      },
      "execution_count": 15,
      "outputs": []
    },
    {
      "cell_type": "code",
      "execution_count": 16,
      "metadata": {
        "id": "zxqwOBmgcX3C"
      },
      "outputs": [],
      "source": [
        "llamadas = 1\n",
        "def mergeSort(arreglo,verbose = False):\n",
        "  if (len(arreglo) == 1): return arreglo \n",
        "  subArreglo1 = []\n",
        "  subArreglo2 = []\n",
        "  global llamadas\n",
        "\n",
        "  i = len(arreglo)//2\n",
        "  llamadas = llamadas + 1\n",
        "  subArreglo1 = mergeSort(arreglo[i:],verbose)            \n",
        "  subArreglo2 = mergeSort(arreglo[:i],verbose)\n",
        "  arreglo = merge(subArreglo1,subArreglo2,verbose)   \n",
        "  return arreglo"
      ]
    }
  ]
}