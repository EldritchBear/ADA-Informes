{
  "nbformat": 4,
  "nbformat_minor": 0,
  "metadata": {
    "colab": {
      "provenance": [],
      "authorship_tag": "ABX9TyMVg/RJ1PojI7pVlUVVyxMC",
      "include_colab_link": true
    },
    "kernelspec": {
      "name": "python3",
      "display_name": "Python 3"
    },
    "language_info": {
      "name": "python"
    }
  },
  "cells": [
    {
      "cell_type": "markdown",
      "metadata": {
        "id": "view-in-github",
        "colab_type": "text"
      },
      "source": [
        "<a href=\"https://colab.research.google.com/github/EldritchBear/ADA-Informes/blob/main/QuickSort.ipynb\" target=\"_parent\"><img src=\"https://colab.research.google.com/assets/colab-badge.svg\" alt=\"Open In Colab\"/></a>"
      ]
    },
    {
      "cell_type": "markdown",
      "source": [
        "# 1. Descripción del problema\n",
        "\n",
        "El algoritmo Quicksort es un algoritmo de ordenamiento del tipo \"divide y vencerás\", usando una función llamada $Partition$ divide el arreglo a la mitad para luego la función quicksort ordena ambas mitades.\n",
        "\n",
        "Partition\n",
        "\n",
        "Entrada: arreglo tamaño n.\n",
        "\n",
        "Salida: 2 subarreglos y el punto en que se divide.\n",
        "\n",
        "Quicksort\n",
        "\n",
        "entrada: subarreglo tamaño n/2\n",
        "\n",
        "salida: subarreglo ordenado"
      ],
      "metadata": {
        "id": "CCKc6z5rw9ij"
      }
    },
    {
      "cell_type": "markdown",
      "source": [
        "# 2. Descripción del algoritmo\n",
        "\n",
        "El algortimo recibe un arreglo y comienza a reordenarlo para luego dividirlo. el reordenamiento se realiza buscando la mediana de los datos y tomando ese número como $pivote$, luego se dejan los número mayores a la izquierda y los mayores a la derecha. Luego de esto, se llama a la función $quicksort$ dos veces para ordenar de forma correcta los subarreglos, entregando a la primera llamada el subarreglo desde el inicio hasta el pivote, y luego desde el pivote hasta el final. Luego de que las funciones quicksort ordenen los subarreglos no hay que realizar más cambios, el arreglo debería estar completamente ordenado.\n",
        "\n",
        "Ejemplo partition con pivote 4:\n",
        "\n",
        "![image.png](data:image/png;base64,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)\n",
        "\n",
        "Se puede observar el como quedan los subarreglos a la derecha mayores y a la izquierda menores al pivote, entonces a la función quicksort se les entregaria desde $p$ hasta $pivote-1$ y desde $pivote +1$ hasta $r$. Como ya mencionamos, luego de que quicksort ordene ambos, el arreglo estaría ordenado. El pivore no es necesario ingresarlo a la función quicksort debido a que todos los valores a a la izquierda son menores y los datos a la derecha son mayores, por lo que el pivote yá está ordenado."
      ],
      "metadata": {
        "id": "ee-bBf9szY7d"
      }
    },
    {
      "cell_type": "markdown",
      "source": [
        "## 2.1 QuickSort con último elemento como pivote"
      ],
      "metadata": {
        "id": "K9mYbDEr_MlN"
      }
    },
    {
      "cell_type": "code",
      "execution_count": null,
      "metadata": {
        "id": "-uq4OugSwssB"
      },
      "outputs": [],
      "source": [
        "comp = 0\n",
        "def partitionHigh(arreglo, low, high, verbose):\n",
        "  i = low\n",
        "  global comp\n",
        "\n",
        "  if verbose:\n",
        "    print(f\"Función partition()\")\n",
        "    print(f\"Subarreglo: {arreglo}\\n\")\n",
        "\n",
        "  for j in range(low, high):\n",
        "    comp += 1\n",
        "    if arreglo[j] <= arreglo[high]:\n",
        "      (arreglo[i], arreglo[j]) = (arreglo[j], arreglo[i])\n",
        "      i += 1\n",
        "\n",
        "  (arreglo[i], arreglo[high]) = (arreglo[high], arreglo[i])\n",
        "  return i"
      ]
    },
    {
      "cell_type": "code",
      "source": [
        "def quickSortHigh (arreglo, low, high, verbose):\n",
        "  if low < high:\n",
        "  \n",
        "    piv = partitionHigh(arreglo, low, high,verbose)\n",
        "    if verbose:\n",
        "      print(\"Funcion QuickSort\")\n",
        "      print(f\"SubArreglo izquierdo {arreglo[:piv-1]}\")\n",
        "      print(f\"SubArreglo izquierdo {arreglo[piv+1:]}\\n\")\n",
        "    quickSortHigh (arreglo, low, piv - 1,verbose)\n",
        "    quickSortHigh (arreglo, piv + 1, high,verbose)\n",
        "  return "
      ],
      "metadata": {
        "id": "HvQBSCK22fZi"
      },
      "execution_count": null,
      "outputs": []
    },
    {
      "cell_type": "code",
      "source": [
        "arreglo = [2, 8, 7, 1, 3, 5, 6, 4]\n",
        "verbose = False\n",
        "quickSortHigh (arreglo, 0, len(arreglo)-1, verbose)\n",
        "\n",
        "print(f\"Arreglo: {arreglo}\")\n",
        "comp = 0"
      ],
      "metadata": {
        "colab": {
          "base_uri": "https://localhost:8080/"
        },
        "id": "TW3qk3oQ26e6",
        "outputId": "dcab150c-073e-4665-8458-33ac1285d5d7"
      },
      "execution_count": null,
      "outputs": [
        {
          "output_type": "stream",
          "name": "stdout",
          "text": [
            "Arreglo: [1, 2, 3, 4, 5, 6, 7, 8]\n"
          ]
        }
      ]
    },
    {
      "cell_type": "code",
      "source": [
        "arreglo = [2, 8, 7, 1, 3, 5, 6, 4]\n",
        "verbose = True\n",
        "quickSortHigh (arreglo, 0, len(arreglo)-1, verbose)\n",
        "  \n",
        "print(f\"Arreglo: {arreglo}\")\n",
        "print(f\"Comparaciones: {comp}\")\n",
        "comp = 0"
      ],
      "metadata": {
        "colab": {
          "base_uri": "https://localhost:8080/"
        },
        "id": "p8jTeksa67zB",
        "outputId": "f9632280-9881-49ff-b69b-3603cc565464"
      },
      "execution_count": null,
      "outputs": [
        {
          "output_type": "stream",
          "name": "stdout",
          "text": [
            "Función partition()\n",
            "Subarreglo: [2, 8, 7, 1, 3, 5, 6, 4]\n",
            "\n",
            "Funcion QuickSort\n",
            "SubArreglo izquierdo [2, 1]\n",
            "SubArreglo izquierdo [7, 5, 6, 8]\n",
            "\n",
            "Función partition()\n",
            "Subarreglo: [2, 1, 3, 4, 7, 5, 6, 8]\n",
            "\n",
            "Funcion QuickSort\n",
            "SubArreglo izquierdo [2]\n",
            "SubArreglo izquierdo [4, 7, 5, 6, 8]\n",
            "\n",
            "Función partition()\n",
            "Subarreglo: [2, 1, 3, 4, 7, 5, 6, 8]\n",
            "\n",
            "Funcion QuickSort\n",
            "SubArreglo izquierdo [1, 2, 3, 4, 7, 5, 6]\n",
            "SubArreglo izquierdo [2, 3, 4, 7, 5, 6, 8]\n",
            "\n",
            "Función partition()\n",
            "Subarreglo: [1, 2, 3, 4, 7, 5, 6, 8]\n",
            "\n",
            "Funcion QuickSort\n",
            "SubArreglo izquierdo [1, 2, 3, 4, 7, 5]\n",
            "SubArreglo izquierdo []\n",
            "\n",
            "Función partition()\n",
            "Subarreglo: [1, 2, 3, 4, 7, 5, 6, 8]\n",
            "\n",
            "Funcion QuickSort\n",
            "SubArreglo izquierdo [1, 2, 3, 4]\n",
            "SubArreglo izquierdo [7, 8]\n",
            "\n",
            "Arreglo: [1, 2, 3, 4, 5, 6, 7, 8]\n",
            "Comparaciones: 15\n"
          ]
        }
      ]
    },
    {
      "cell_type": "markdown",
      "source": [
        "## 2.2 QuickSort con primer elemento como pivote"
      ],
      "metadata": {
        "id": "Ly6zJ-sk_c3C"
      }
    },
    {
      "cell_type": "code",
      "source": [
        "comp = 0\n",
        "def partitionLow(arreglo, low, high,verbose):\n",
        "  i = low\n",
        "  global comp\n",
        "\n",
        "  if verbose:\n",
        "    print(f\"Función partition()\")\n",
        "    print(f\"Subarreglo: {arreglo}\\n\")\n",
        "\n",
        "  for j in range(low,high):\n",
        "    comp += 1\n",
        "    if arreglo[j] <= arreglo[high]:\n",
        "      arreglo[j],arreglo[i] = arreglo[i],arreglo[j]\n",
        "      i += 1\n",
        "  \n",
        "  arreglo[i],arreglo[high] = arreglo[high],arreglo[i]\n",
        "  return i"
      ],
      "metadata": {
        "id": "1p7pCr817hLp"
      },
      "execution_count": null,
      "outputs": []
    },
    {
      "cell_type": "code",
      "source": [
        "def quickSortLow (arreglo, low, high,verbose):\n",
        "  if low < high:\n",
        "\n",
        "    piv = partitionLow(arreglo, low, high,verbose)\n",
        "    if verbose:\n",
        "      print(\"Funcion QuickSort\")\n",
        "      print(f\"SubArreglo izquierdo {arreglo[:piv-1]}\")\n",
        "      print(f\"SubArreglo izquierdo {arreglo[piv+1:]}\\n\")\n",
        "    quickSortLow (arreglo, low, piv - 1,verbose)\n",
        "    quickSortLow (arreglo, piv + 1, high,verbose)\n",
        "  return "
      ],
      "metadata": {
        "id": "lkX2dQU__gQe"
      },
      "execution_count": null,
      "outputs": []
    },
    {
      "cell_type": "code",
      "source": [
        "arreglo = [2, 8, 7, 1, 3, 5, 6, 4]\n",
        "verbose = False\n",
        "quickSortLow (arreglo, 0, len(arreglo)-1, verbose)\n",
        "  \n",
        "print(f\"Arreglo: {arreglo}\")"
      ],
      "metadata": {
        "colab": {
          "base_uri": "https://localhost:8080/"
        },
        "id": "1ykcDPgZ_i5x",
        "outputId": "83d607a0-06b1-415b-842d-7ce14c181648"
      },
      "execution_count": null,
      "outputs": [
        {
          "output_type": "stream",
          "name": "stdout",
          "text": [
            "Arreglo: [1, 2, 3, 4, 5, 6, 7, 8]\n"
          ]
        }
      ]
    },
    {
      "cell_type": "code",
      "source": [
        "arreglo = [2, 8, 7, 1, 3, 5, 6, 4]\n",
        "verbose = True\n",
        "quickSortLow (arreglo, 0, len(arreglo)-1, verbose)\n",
        "  \n",
        "print(f\"Arreglo: {arreglo}\")\n",
        "print(f\"Comparaciones: {comp}\")\n",
        "comp = 0"
      ],
      "metadata": {
        "colab": {
          "base_uri": "https://localhost:8080/"
        },
        "id": "o3RzbZCE65XH",
        "outputId": "ab811825-2fd0-4122-e646-25fa13013769"
      },
      "execution_count": null,
      "outputs": [
        {
          "output_type": "stream",
          "name": "stdout",
          "text": [
            "Función partition()\n",
            "Subarreglo: [2, 8, 7, 1, 3, 5, 6, 4]\n",
            "\n",
            "Funcion QuickSort\n",
            "SubArreglo izquierdo [2, 1]\n",
            "SubArreglo izquierdo [7, 5, 6, 8]\n",
            "\n",
            "Función partition()\n",
            "Subarreglo: [2, 1, 3, 4, 7, 5, 6, 8]\n",
            "\n",
            "Funcion QuickSort\n",
            "SubArreglo izquierdo [2]\n",
            "SubArreglo izquierdo [4, 7, 5, 6, 8]\n",
            "\n",
            "Función partition()\n",
            "Subarreglo: [2, 1, 3, 4, 7, 5, 6, 8]\n",
            "\n",
            "Funcion QuickSort\n",
            "SubArreglo izquierdo [1, 2, 3, 4, 7, 5, 6]\n",
            "SubArreglo izquierdo [2, 3, 4, 7, 5, 6, 8]\n",
            "\n",
            "Función partition()\n",
            "Subarreglo: [1, 2, 3, 4, 7, 5, 6, 8]\n",
            "\n",
            "Funcion QuickSort\n",
            "SubArreglo izquierdo [1, 2, 3, 4, 7, 5]\n",
            "SubArreglo izquierdo []\n",
            "\n",
            "Función partition()\n",
            "Subarreglo: [1, 2, 3, 4, 7, 5, 6, 8]\n",
            "\n",
            "Funcion QuickSort\n",
            "SubArreglo izquierdo [1, 2, 3, 4]\n",
            "SubArreglo izquierdo [7, 8]\n",
            "\n",
            "Arreglo: [1, 2, 3, 4, 5, 6, 7, 8]\n",
            "Comparaciones: 15\n"
          ]
        }
      ]
    },
    {
      "cell_type": "markdown",
      "source": [
        "## 2.3 QuickSort con pivote siendo la mediana de 3 elementos\n",
        "Para realizar esta forma se deben elegir aleatoriamente 3 elementos del arreglo y se debe calcular la mediana entre estos."
      ],
      "metadata": {
        "id": "PItJ9nHc_kJW"
      }
    },
    {
      "cell_type": "code",
      "source": [
        "import random\n",
        "def partitionMed(arreglo, low, high, verbose):\n",
        "  piv = (arreglo[random.randint(low,high)] + arreglo[random.randint(low,high)] + arreglo[random.randint(low,high)]) // 3\n",
        "  i = low - 1\n",
        "  global comp\n",
        "\n",
        "  if verbose:\n",
        "    print(f\"Función partition()\")\n",
        "    print(f\"Pivote: {piv}\")\n",
        "    print(f\"Subarreglo: {arreglo}\\n\")\n",
        "\n",
        "  for j in range(low, high):\n",
        "    comp += 1\n",
        "    if arreglo[j] <= piv:\n",
        "      i = i + 1\n",
        "      (arreglo[i], arreglo[j]) = (arreglo[j], arreglo[i])\n",
        "\n",
        "  (arreglo[i + 1], arreglo[high]) = (arreglo[high], arreglo[i + 1])\n",
        "  return i + 1"
      ],
      "metadata": {
        "id": "vv9lGw_n3t59"
      },
      "execution_count": null,
      "outputs": []
    },
    {
      "cell_type": "code",
      "source": [
        "def quickSortMed (arreglo, low, high, verbose):\n",
        "  if low < high:\n",
        "  \n",
        "    piv = partitionMed(arreglo, low, high,verbose)\n",
        "    if verbose:\n",
        "      print(\"Funcion QuickSort\")\n",
        "      print(f\"SubArreglo izquierdo {arreglo[:piv-1]}\")\n",
        "      print(f\"SubArreglo izquierdo {arreglo[piv+1:]}\\n\")\n",
        "    quickSortMed (arreglo, low, piv - 1,verbose)\n",
        "    quickSortMed (arreglo, piv + 1, high, verbose)\n",
        "  return "
      ],
      "metadata": {
        "id": "V2x9c2yA_txx"
      },
      "execution_count": null,
      "outputs": []
    },
    {
      "cell_type": "code",
      "source": [
        "arreglo = [2, 8, 7, 1, 3, 5, 6, 4]\n",
        "verbose = False\n",
        "quickSortMed (arreglo, 0, len(arreglo)-1, verbose)\n",
        "  \n",
        "print(f\"Arreglo: {arreglo}\")"
      ],
      "metadata": {
        "colab": {
          "base_uri": "https://localhost:8080/"
        },
        "id": "uVAUhiW8_wRp",
        "outputId": "94074e6e-a87a-4330-c406-e9c04386abbe"
      },
      "execution_count": null,
      "outputs": [
        {
          "output_type": "stream",
          "name": "stdout",
          "text": [
            "Arreglo: [1, 2, 3, 4, 5, 6, 7, 8]\n"
          ]
        }
      ]
    },
    {
      "cell_type": "code",
      "source": [
        "arreglo = [2, 8, 7, 1, 3, 5, 6, 4]\n",
        "verbose = True\n",
        "quickSortMed (arreglo, 0, len(arreglo)-1, verbose)\n",
        "  \n",
        "print(f\"Arreglo: {arreglo}\")\n",
        "print(f\"Comparaciones: {comp}\")\n",
        "comp = 0"
      ],
      "metadata": {
        "colab": {
          "base_uri": "https://localhost:8080/"
        },
        "id": "z6ZN18k_60U3",
        "outputId": "8aa36553-7519-4f20-9899-2fa07b4ecc10"
      },
      "execution_count": null,
      "outputs": [
        {
          "output_type": "stream",
          "name": "stdout",
          "text": [
            "Función partition()\n",
            "Pivote: 3\n",
            "Subarreglo: [2, 8, 7, 1, 3, 5, 6, 4]\n",
            "\n",
            "Funcion QuickSort\n",
            "SubArreglo izquierdo [2, 1]\n",
            "SubArreglo izquierdo [7, 5, 6, 8]\n",
            "\n",
            "Función partition()\n",
            "Pivote: 2\n",
            "Subarreglo: [2, 1, 3, 4, 7, 5, 6, 8]\n",
            "\n",
            "Funcion QuickSort\n",
            "SubArreglo izquierdo [2]\n",
            "SubArreglo izquierdo [4, 7, 5, 6, 8]\n",
            "\n",
            "Función partition()\n",
            "Pivote: 1\n",
            "Subarreglo: [2, 1, 3, 4, 7, 5, 6, 8]\n",
            "\n",
            "Funcion QuickSort\n",
            "SubArreglo izquierdo [1, 2, 3, 4, 7, 5, 6]\n",
            "SubArreglo izquierdo [2, 3, 4, 7, 5, 6, 8]\n",
            "\n",
            "Función partition()\n",
            "Pivote: 7\n",
            "Subarreglo: [1, 2, 3, 4, 7, 5, 6, 8]\n",
            "\n",
            "Funcion QuickSort\n",
            "SubArreglo izquierdo [1, 2, 3, 4, 7, 5]\n",
            "SubArreglo izquierdo []\n",
            "\n",
            "Función partition()\n",
            "Pivote: 6\n",
            "Subarreglo: [1, 2, 3, 4, 7, 5, 6, 8]\n",
            "\n",
            "Funcion QuickSort\n",
            "SubArreglo izquierdo [1, 2, 3, 4]\n",
            "SubArreglo izquierdo [7, 8]\n",
            "\n",
            "Arreglo: [1, 2, 3, 4, 5, 6, 7, 8]\n",
            "Comparaciones: 9\n"
          ]
        }
      ]
    },
    {
      "cell_type": "markdown",
      "source": [
        "# 3. Tiempo de de ejecucción\n",
        "El algoritmo Quicksort tiene una complejidad temporal en el mejor y el caso promedio de $O(nlogn)$, esto es debido a que recursivamente este va dividiendo en sub-arreglos y luego los recorre para ordenarlos. En el peor caso la complejidad temporal sube a $O(n^2)$, esto es debido a que el arreglo original entregado se encontraba en su mayoría ya ordenado y el pivote se encuentra en el dato mayor, en otras palabras, en la posición más a la derecha.\n",
        "\n",
        "La función de recurrencia que representa el QuickSort cuando se encuentra balanceado es la siguiente: \n",
        "\n",
        "![image.png](data:image/png;base64,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)\n",
        "\n",
        "La imagen como ya se ha dicho representa el mejor y el caso promedio, donde el arreglo se va recursivamente dividiendo a la mitad para finalmente entregado de forma ordenada.\n",
        "\n",
        "En el peor caso:\n",
        "\n",
        "![image.png](data:image/png;base64,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)\n",
        "\n",
        "En el peor caso el $n-1$ representa el algoritmo intentado hacer comparaciones con el pivote, pero como el pivote es el dato mayor, simplemente se recorre el arreglo hasta la posición $n-1$."
      ],
      "metadata": {
        "id": "5KGa6gHl824O"
      }
    },
    {
      "cell_type": "markdown",
      "source": [
        "#4.1 Correctitud de Partition\n",
        "## Teorema\n",
        "La función *Partition* recibe un arreglo y lo separa en 2 partes, dejando un pivote en el centro. Luego, ordena las 2 partes según su valor comparado al pivote y retorna el arreglo reordenado.\n",
        "\n",
        "## Prueba del teorema\n",
        "En cada iteración, se compara el valor de una casilla con el del pivote, y luego se intercambia su posición dependiendo de si su valor es menor o mayor. Considerando *p* como la posición del inicio del arreglo, *r* como el fin, *i* como la posición en donde comienzan los elementos mayores, y *j* como el punto hasta donde se ha recorrido el arreglo, probaremos la siguiente propiedad invariante:\n",
        "\n",
        "> Al final de cada iteración, los elementos anteriores a *i* son menores al pivote, y los que están entre *i* y *j* son mayores al pivote.\n",
        "\n",
        "## Inicialización\n",
        "Al comienzo de la primera iteración (*i = -1* y *j = 0*), no hay elementos entre *i* y *j*, por lo tanto, se cumple la propiedad.\n",
        "\n",
        "## Mantención\n",
        "Aplicando inducción, asumimos que al comienzo de cada iteración se cumple la propiedad.\n",
        "\n",
        "Durante la iteración, se compara el elemento en *j* con el pivote, y si es menor se intercambia con la casilla que divide los elementos menores y mayores.\n",
        "\n",
        "Al final de la iteración, *i* avanza o no dependiendo de si el valor es mayor o menor, y se sigue cumpliendo la propiedad.\n",
        "\n",
        "## Correctitud de Partition\n",
        "Como la propiedad del bucle invariante se cumple al comienzo y al terminar cada iteración, se puede decir que al finalizar el algoritmo se genera un arreglo con los mismos elementos del arreglo de entrada, pero separados entre menor y mayor con respecto al valor del pivote."
      ],
      "metadata": {
        "id": "BSiy7hRZZURw"
      }
    },
    {
      "cell_type": "markdown",
      "source": [
        "## Correctitud de QuickSort\n",
        "\n",
        "Probaremos la correctitud de QuickSort usando inducción matemática. Nuestra hipótesis P(n) es que QuickSort retorna el arreglo de entrada ordenada de menor a mayor.\n",
        "\n",
        "En el caso base, cuando n = 1, QuickSort no realiza cambios porque el arreglo ya está ordenado. Por lo tanto, se cumple la hipótesis.\n",
        "\n",
        "Para el paso inductivo probaremos P(m). Si QuickSort se llama en un arreglo de largo n, también se van a llamar 2 recursivamente en subarreglos de largo m1 y m2, y se cumple que m1 < n y m2 < n. Se utiliza Partition para encontrar el pivote, y también separar los subarreglos en elementos menores al pivote y mayores al pivote. Por lo tanto, QuickSort es correcto."
      ],
      "metadata": {
        "id": "h66EJuoLZVHB"
      }
    },
    {
      "cell_type": "markdown",
      "source": [
        "#5. Experimentos\n",
        "\n",
        "Ahora realizaremos un numero de experimentos que nos ayudaran a visualizar la eficacia del **Quick Sort** en ciertos aspectos.\n",
        "\n",
        "##5.1. Numero de comparaciones\n",
        "\n",
        "En este experimento se comprobará el número de comparaciones que el **Quick Sort** necesita realizar para poder ordenar una lista en su totalidad.\n",
        "\n",
        "Para ello se hizo una gráfica en la que se muestra.\n",
        "\n",
        "* La cantidad de comparaciones del peor caso calculadas matemáticamente ($n^2$ comparaciones si se forma un árbol desbalanceado)\n",
        "* La cantidad de comparaciones del mejor caso calculadas matemáticamente ($n*log(n)$ comparaciones si se forma un árbol balanceado)\n",
        "* La cantidad de comparaciones realizadas experimentalmente para entradas aleatorias\n",
        "\n",
        "para un problema que tiene un tamaño $n \\in [5,20]$"
      ],
      "metadata": {
        "id": "orp4i0A9-aiM"
      }
    },
    {
      "cell_type": "code",
      "source": [
        "import matplotlib.pyplot as plt\n",
        "import math\n",
        "import random\n",
        "\n",
        "x=[n for n in range(5,21)] \n",
        "y1=[n*n for n in range(5,21)] # Peor caso\n",
        "y2=[n*math.log2(n) for n in range(5,21)] # Mejor caso\n",
        "y=[]; \n",
        "verbose = False\n",
        "comp = 0\n",
        "\n",
        "for n in range(5,21):\n",
        "  a = random.sample(range(1, 100), n)\n",
        "  quickSortMed(a,0,len(a)-1,verbose)\n",
        "  y.append(comp)\n",
        "comp = 0\n",
        "\n",
        "plt.plot(x,y)\n",
        "plt.plot(x,y1)\n",
        "plt.plot(x,y2)\n",
        "plt.legend([\"Quick Sort\", \"Peor caso teorico\", \"Mejor caso teorico\"])\n",
        "\n",
        "plt.xlabel('n')\n",
        "plt.ylabel('numero de comparaciones')\n",
        "plt.show()"
      ],
      "metadata": {
        "colab": {
          "base_uri": "https://localhost:8080/",
          "height": 279
        },
        "id": "nE0zIljoEsJ3",
        "outputId": "2319366d-c67c-4b74-d623-d7564aa8d084"
      },
      "execution_count": null,
      "outputs": [
        {
          "output_type": "display_data",
          "data": {
            "text/plain": [
              "<Figure size 432x288 with 1 Axes>"
            ],
            "image/png": "[encoded data removed]"
          },
          "metadata": {
            "needs_background": "light"
          }
        }
      ]
    },
    {
      "cell_type": "markdown",
      "source": [
        "###Análisis de resultados\n",
        "\n",
        "En este gráfico al estar comparando casos teóricos con un caso real se puede ver cómo el caso real puede llegar a crecer más rapido que el teórico, esto puede depender de la cantidad y el orden en el que viene los datos. El resultado es similar utilizando las otras dos formas de implementar el pivote en este informe, solo que el caso real sobrepasa al pero caso antes en la gráfica."
      ],
      "metadata": {
        "id": "3StZbeZR-l9_"
      }
    },
    {
      "cell_type": "markdown",
      "source": [
        "##5.2. Rendimiento según el pivote\n",
        "\n",
        "En este experimento se probará si el rendimiento del algoritmo **Quick Sort** se ve afectado según la posición donde se coloque el pivote.\n",
        "\n",
        "* La cantidad de comparaciones que el **Quick Sort** con el pivote al inicio realiza (la gráfica azul)\n",
        "* La cantidad de comparaciones que el **Quick Sort** con el pivote en la mediana realiza (la gráfica naranja)\n",
        "* La cantidad de comparaciones que el **Quick Sort** con el pivote al final realiza (la gráfica verde)\n",
        "\n",
        "para un problema que tiene un tamaño $n \\in [5,50]$"
      ],
      "metadata": {
        "id": "91EiA9Nm-rqS"
      }
    },
    {
      "cell_type": "code",
      "source": [
        "import matplotlib.pyplot as plt\n",
        "import math\n",
        "\n",
        "x=[n for n in range(5,51)] \n",
        "y1=[] # pivote al inicio\n",
        "y2=[] # pivote segun la mediana\n",
        "y3=[] # pivote al final\n",
        "verbose = False\n",
        "comp = 0\n",
        "\n",
        "for n in range(5,51):\n",
        "  a = random.sample(range(1, 100), n)\n",
        "  quickSortLow(a,0,len(a)-1,verbose)\n",
        "  y1.append(comp)\n",
        "\n",
        "\n",
        "  quickSortMed(a,0,len(a)-1,verbose)\n",
        "  y2.append(comp)\n",
        "\n",
        "\n",
        "  quickSortHigh(a,0,len(a)-1,verbose)\n",
        "  y3.append(comp)\n",
        "\n",
        "comp = 0\n",
        "\n",
        "plt.plot(x,y1)\n",
        "plt.plot(x,y2)\n",
        "plt.plot(x,y3)\n",
        "plt.legend([\"pivote al inicio\", \"pivote segun la mediana\", \"pivote al final\"])\n",
        "\n",
        "plt.xlabel('n')\n",
        "plt.ylabel('numero de comparaciones')\n",
        "plt.show()"
      ],
      "metadata": {
        "colab": {
          "base_uri": "https://localhost:8080/",
          "height": 228
        },
        "id": "y-t6A6K3GLfj",
        "outputId": "b32d1205-283c-484f-8c85-e2417430a951"
      },
      "execution_count": null,
      "outputs": [
        {
          "output_type": "display_data",
          "data": {
            "text/plain": [
              "<Figure size 432x288 with 1 Axes>"
            ],
            "image/png": "[encoded data removed]"
          },
          "metadata": {
            "needs_background": "light"
          }
        }
      ]
    },
    {
      "cell_type": "markdown",
      "source": [
        "###Análisis de resultados\n",
        "\n",
        "Como se puede observar en la gráfica, al pivote al inicio o en la mediana no va a afectar el rendimiento del algoritmo a lo largo de su ejecución, y esto debería ser cierto al colocar el pivote al final.\n",
        "\n",
        "Por algún motivo este tiene un crecimiento exponencial, se desconoce el motivo de este comportamiento."
      ],
      "metadata": {
        "id": "hwyU292p-woh"
      }
    },
    {
      "cell_type": "markdown",
      "source": [
        "##5.3. Comparación entre algoritmos\n",
        "\n",
        "En este experimento se compararán dos algoritmos recursivos el **Quick Sort** y el **Merge Sort**, en específico se comparará el número de comparaciones que realizan ambos algoritmos. También se comparará el **Quick Sort** con los pivotes al inicio, en la mediana y al final\n",
        "\n",
        "Para ello se hizo una gráfica en la que se muestra.\n",
        "\n",
        "* La cantidad de comparaciones que el **Quick Sort** con el pivote al inicio realiza (la gráfica azul)\n",
        "* La cantidad de comparaciones que el **Quick Sort** con el pivote en la mediana realiza (la gráfica naranja)\n",
        "* La cantidad de comparaciones que el **Quick Sort** con el pivote al final realiza (la gráfica verde)\n",
        "* La cantidad de comparaciones que el **Merge Sort** realiza (la gráfica roja).\n",
        "\n",
        "para un problema que tiene un tamaño $n \\in [5,50]$"
      ],
      "metadata": {
        "id": "UlOUiFn--44r"
      }
    },
    {
      "cell_type": "code",
      "source": [
        "import matplotlib.pyplot as plt\n",
        "\n",
        "x=[n for n in range(5,51)] \n",
        "y1=[]; \n",
        "y2=[];\n",
        "y3=[];\n",
        "y4=[];\n",
        "comp = 0\n",
        "cont = 0\n",
        "verbose = False\n",
        "\n",
        "for n in range(5,51):\n",
        "  a = random.sample(range(1, 100), n)\n",
        "  quickSortLow(a,0,len(a)-1,verbose)\n",
        "  y1.append(comp)\n",
        "\n",
        "  quickSortMed(a,0,len(a)-1,verbose)\n",
        "  y2.append(comp)\n",
        "\n",
        "  quickSortHigh(a,0,len(a)-1,verbose)\n",
        "  y3.append(comp)\n",
        "\n",
        "  a= mergeSort(a)\n",
        "  y4.append(cont)\n",
        "\n",
        "comp = 0\n",
        "cont = 0\n",
        "\n",
        "plt.plot(x,y1)\n",
        "plt.plot(x,y2)\n",
        "plt.plot(x,y3)\n",
        "plt.plot(x,y4)\n",
        "plt.legend([\"Quick Sort (piv Inicio)\",\"Quick Sort (piv mediana)\",\"Quick Sort (piv final)\", \"Merge Sort\"])\n",
        "\n",
        "plt.xlabel('n')\n",
        "plt.ylabel('number of operations')\n",
        "plt.show()"
      ],
      "metadata": {
        "id": "qWTYftHo_F9X",
        "colab": {
          "base_uri": "https://localhost:8080/",
          "height": 279
        },
        "outputId": "71d08d99-1603-4def-94f2-8221e5e9235e"
      },
      "execution_count": null,
      "outputs": [
        {
          "output_type": "display_data",
          "data": {
            "text/plain": [
              "<Figure size 432x288 with 1 Axes>"
            ],
            "image/png": "[encoded data removed]"
          },
          "metadata": {
            "needs_background": "light"
          }
        }
      ]
    },
    {
      "cell_type": "markdown",
      "source": [
        "###Análisis de resultados\n",
        "\n",
        "Como se puede observar en la gráfica, el **Quick Sort** con todas sus implementaciones realiza más operaciones que el **Merge Sort**, esto demuestra que el **Merge Sort** es más eficiente cuando se tiene una gran cantidad de datos que ordenar, es por esta razón por la que se prefiere cuando se trabaja con datasets o arreglos muy largos utilizar un **Merge Sort**, puesto que el algoritmo **Quick Sort** se queda muy por detrás."
      ],
      "metadata": {
        "id": "03oh7kTx_LZB"
      }
    },
    {
      "cell_type": "markdown",
      "source": [
        "#6. Anexos\n",
        "\n",
        "##6.1. Códigos para las presentaciones graficas\n",
        "\n",
        "A continuación, puede ver el código del algoritmo **Merge Sort**, esta implementación del **Merge Sort** es necesaria para hacer la gráfica mostrada en el punto 5.3."
      ],
      "metadata": {
        "id": "wklWJ5oB_NvY"
      }
    },
    {
      "cell_type": "code",
      "source": [
        "cont = 0\n",
        "\n",
        "def merge(subArreglo1,subArreglo2,verbose):\n",
        "  i = 0\n",
        "  k = 0\n",
        "  largo1 = len(subArreglo1)                 \n",
        "  largo2 = len(subArreglo2)                \n",
        "  arreglo = []\n",
        "  global cont\n",
        "\n",
        "  if (verbose):\n",
        "    print(\"Función merge\")\n",
        "    print(\"sub arreglos: \",subArreglo1)\n",
        "    print(\"              \",subArreglo2)\n",
        "\n",
        "  while (i < largo1 and k < largo2):      \n",
        "    cont +=1\n",
        "    if (subArreglo1[i] < subArreglo2[k]):  \n",
        "      arreglo.append(subArreglo1[i])\n",
        "      i = i+1\n",
        "    else:\n",
        "      arreglo.append(subArreglo2[k])\n",
        "      k = k+1\n",
        "\n",
        "  arreglo = arreglo + subArreglo1[i:]      \n",
        "  cont = cont + (largo1-i)\n",
        "  arreglo = arreglo + subArreglo2[k:]\n",
        "  cont = cont + (largo2-k)\n",
        "\n",
        "  if (verbose):\n",
        "    print(\"Fin del merge\")\n",
        "    print(\"resultado: \",arreglo)\n",
        "    print(\"cantidad de comparaciones: \",cont,\"\\n\")\n",
        "\n",
        "  return arreglo     "
      ],
      "metadata": {
        "id": "gy41qxMkg9V3"
      },
      "execution_count": null,
      "outputs": []
    },
    {
      "cell_type": "code",
      "execution_count": null,
      "metadata": {
        "id": "zxqwOBmgcX3C"
      },
      "outputs": [],
      "source": [
        "llamadas = 1\n",
        "def mergeSort(arreglo,verbose = False):\n",
        "  if (len(arreglo) == 1): return arreglo \n",
        "  subArreglo1 = []\n",
        "  subArreglo2 = []\n",
        "  global llamadas\n",
        "\n",
        "  i = len(arreglo)//2\n",
        "  llamadas = llamadas + 1\n",
        "  subArreglo1 = mergeSort(arreglo[i:],verbose)            \n",
        "  subArreglo2 = mergeSort(arreglo[:i],verbose)\n",
        "  arreglo = merge(subArreglo1,subArreglo2,verbose)   \n",
        "  return arreglo"
      ]
    }
  ]
}